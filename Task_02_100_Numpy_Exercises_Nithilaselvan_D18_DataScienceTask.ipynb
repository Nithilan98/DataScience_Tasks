{
  "cells": [
    {
      "cell_type": "markdown",
      "metadata": {
        "id": "view-in-github",
        "colab_type": "text"
      },
      "source": [
        "<a href=\"https://colab.research.google.com/github/Nithilan98/DataScience_Tasks/blob/main/Task_02_100_Numpy_Exercises_Nithilaselvan_D18_DataScienceTask.ipynb\" target=\"_parent\"><img src=\"https://colab.research.google.com/assets/colab-badge.svg\" alt=\"Open In Colab\"/></a>"
      ]
    },
    {
      "cell_type": "markdown",
      "metadata": {
        "id": "3QsNgq_kDnr5"
      },
      "source": [
        "# Numpy\n",
        "\n"
      ]
    },
    {
      "cell_type": "markdown",
      "metadata": {
        "id": "gw559tuMDnsB"
      },
      "source": [
        "#### 1. Import the numpy package under the name `np` (★☆☆) \n",
        "(**hint**: import … as …)"
      ]
    },
    {
      "cell_type": "code",
      "execution_count": 1,
      "metadata": {
        "collapsed": true,
        "id": "iIDdCYm9DnsC"
      },
      "outputs": [],
      "source": [
        "import numpy as np"
      ]
    },
    {
      "cell_type": "markdown",
      "metadata": {
        "id": "9kvlR3biDnsF"
      },
      "source": [
        "#### 2. Print the numpy version and the configuration (★☆☆) \n",
        "(**hint**: np.\\_\\_version\\_\\_, np.show\\_config)"
      ]
    },
    {
      "cell_type": "code",
      "execution_count": null,
      "metadata": {
        "colab": {
          "base_uri": "https://localhost:8080/"
        },
        "id": "ZY5uEX_3DnsG",
        "outputId": "5833e22e-6934-4370-e571-ec72a40a7950"
      },
      "outputs": [
        {
          "output_type": "stream",
          "name": "stdout",
          "text": [
            "1.19.5\n",
            "blas_mkl_info:\n",
            "  NOT AVAILABLE\n",
            "blis_info:\n",
            "  NOT AVAILABLE\n",
            "openblas_info:\n",
            "    libraries = ['openblas', 'openblas']\n",
            "    library_dirs = ['/usr/local/lib']\n",
            "    language = c\n",
            "    define_macros = [('HAVE_CBLAS', None)]\n",
            "blas_opt_info:\n",
            "    libraries = ['openblas', 'openblas']\n",
            "    library_dirs = ['/usr/local/lib']\n",
            "    language = c\n",
            "    define_macros = [('HAVE_CBLAS', None)]\n",
            "lapack_mkl_info:\n",
            "  NOT AVAILABLE\n",
            "openblas_lapack_info:\n",
            "    libraries = ['openblas', 'openblas']\n",
            "    library_dirs = ['/usr/local/lib']\n",
            "    language = c\n",
            "    define_macros = [('HAVE_CBLAS', None)]\n",
            "lapack_opt_info:\n",
            "    libraries = ['openblas', 'openblas']\n",
            "    library_dirs = ['/usr/local/lib']\n",
            "    language = c\n",
            "    define_macros = [('HAVE_CBLAS', None)]\n"
          ]
        }
      ],
      "source": [
        "print(np.__version__) # np.__version__, shows numpy version\n",
        "np.show_config()    # np.show_config(), shows the numpy configuration"
      ]
    },
    {
      "cell_type": "markdown",
      "metadata": {
        "id": "-76IQv7IDnsH"
      },
      "source": [
        "#### 3. Create a null vector of size 10 (★☆☆) \n",
        "(**hint**: np.zeros)"
      ]
    },
    {
      "cell_type": "code",
      "execution_count": null,
      "metadata": {
        "colab": {
          "base_uri": "https://localhost:8080/"
        },
        "id": "AJ-F7yyGDnsI",
        "outputId": "9cd77bcf-6918-4501-ce0e-f03e4b50a381"
      },
      "outputs": [
        {
          "output_type": "stream",
          "name": "stdout",
          "text": [
            "[0. 0. 0. 0. 0. 0. 0. 0. 0. 0.]\n"
          ]
        }
      ],
      "source": [
        "\n",
        "a=np.zeros(10)\n",
        "print(a)"
      ]
    },
    {
      "cell_type": "markdown",
      "metadata": {
        "id": "rOf75RMmDnsJ"
      },
      "source": [
        "#### 4.  How to find the memory size of any array (★☆☆) \n",
        "(**hint**: size, itemsize)"
      ]
    },
    {
      "cell_type": "code",
      "source": [
        "a = np.array([10,20,30])\n",
        "print(\"Size of the array:\",a.size)\n",
        "print(\"Memory size of one array element in bytes:\",a.itemsize)\n",
        "print(\"Memory size of the array:\",(a.size*a.itemsize),\"bytes\")"
      ],
      "metadata": {
        "colab": {
          "base_uri": "https://localhost:8080/"
        },
        "id": "6uTfflYgHHNx",
        "outputId": "c41c7812-e608-4458-800c-908aba498dcd"
      },
      "execution_count": null,
      "outputs": [
        {
          "output_type": "stream",
          "name": "stdout",
          "text": [
            "Size of the array: 3\n",
            "Memory size of one array element in bytes: 8\n",
            "Memory size of the array: 24 bytes\n"
          ]
        }
      ]
    },
    {
      "cell_type": "markdown",
      "metadata": {
        "id": "1RFCO9VUDnsL"
      },
      "source": [
        "#### 5.  How to get the documentation of the numpy add function from the command line? (★☆☆) \n",
        "(**hint**: np.info)"
      ]
    },
    {
      "cell_type": "code",
      "source": [
        "!python -c \"import numpy as np; np.info(np.add)\""
      ],
      "metadata": {
        "colab": {
          "base_uri": "https://localhost:8080/"
        },
        "id": "cufG9sYFJj5i",
        "outputId": "ff218c8b-ff4c-4c35-8df3-05c5c410b806"
      },
      "execution_count": null,
      "outputs": [
        {
          "output_type": "stream",
          "name": "stdout",
          "text": [
            "add(x1, x2, /, out=None, *, where=True, casting='same_kind', order='K', dtype=None, subok=True[, signature, extobj])\n",
            "\n",
            "Add arguments element-wise.\n",
            "\n",
            "Parameters\n",
            "----------\n",
            "x1, x2 : array_like\n",
            "    The arrays to be added.\n",
            "    If ``x1.shape != x2.shape``, they must be broadcastable to a common\n",
            "    shape (which becomes the shape of the output).\n",
            "out : ndarray, None, or tuple of ndarray and None, optional\n",
            "    A location into which the result is stored. If provided, it must have\n",
            "    a shape that the inputs broadcast to. If not provided or None,\n",
            "    a freshly-allocated array is returned. A tuple (possible only as a\n",
            "    keyword argument) must have length equal to the number of outputs.\n",
            "where : array_like, optional\n",
            "    This condition is broadcast over the input. At locations where the\n",
            "    condition is True, the `out` array will be set to the ufunc result.\n",
            "    Elsewhere, the `out` array will retain its original value.\n",
            "    Note that if an uninitialized `out` array is created via the default\n",
            "    ``out=None``, locations within it where the condition is False will\n",
            "    remain uninitialized.\n",
            "**kwargs\n",
            "    For other keyword-only arguments, see the\n",
            "    :ref:`ufunc docs <ufuncs.kwargs>`.\n",
            "\n",
            "Returns\n",
            "-------\n",
            "add : ndarray or scalar\n",
            "    The sum of `x1` and `x2`, element-wise.\n",
            "    This is a scalar if both `x1` and `x2` are scalars.\n",
            "\n",
            "Notes\n",
            "-----\n",
            "Equivalent to `x1` + `x2` in terms of array broadcasting.\n",
            "\n",
            "Examples\n",
            "--------\n",
            ">>> np.add(1.0, 4.0)\n",
            "5.0\n",
            ">>> x1 = np.arange(9.0).reshape((3, 3))\n",
            ">>> x2 = np.arange(3.0)\n",
            ">>> np.add(x1, x2)\n",
            "array([[  0.,   2.,   4.],\n",
            "       [  3.,   5.,   7.],\n",
            "       [  6.,   8.,  10.]])\n"
          ]
        }
      ]
    },
    {
      "cell_type": "markdown",
      "metadata": {
        "id": "3Rh0NcEmDnsV"
      },
      "source": [
        "#### 6.  Create a null vector of size 10 but the fifth value which is 1 (★☆☆) \n",
        "(**hint**: array\\[4\\])"
      ]
    },
    {
      "cell_type": "code",
      "execution_count": null,
      "metadata": {
        "colab": {
          "base_uri": "https://localhost:8080/"
        },
        "id": "GHiOH825DnsW",
        "outputId": "744cdb5d-9558-4649-826f-cecbbdaa2120"
      },
      "outputs": [
        {
          "output_type": "execute_result",
          "data": {
            "text/plain": [
              "array([0., 0., 0., 0., 1., 0., 0., 0., 0., 0.])"
            ]
          },
          "metadata": {},
          "execution_count": 7
        }
      ],
      "source": [
        "n = np.zeros(10)\n",
        "n[4]=1\n",
        "n"
      ]
    },
    {
      "cell_type": "code",
      "source": [
        "print(n)"
      ],
      "metadata": {
        "colab": {
          "base_uri": "https://localhost:8080/"
        },
        "id": "3qcnSSVXL4CY",
        "outputId": "c1f71c64-361d-4a70-a082-77c5e1916c6a"
      },
      "execution_count": null,
      "outputs": [
        {
          "output_type": "stream",
          "name": "stdout",
          "text": [
            "[0. 0. 0. 0. 1. 0. 0. 0. 0. 0.]\n"
          ]
        }
      ]
    },
    {
      "cell_type": "markdown",
      "metadata": {
        "id": "7YkKg97zDnsX"
      },
      "source": [
        "#### 7.  Create a vector with values ranging from 10 to 49 (★☆☆) \n",
        "(**hint**: np.arange)"
      ]
    },
    {
      "cell_type": "code",
      "execution_count": null,
      "metadata": {
        "colab": {
          "base_uri": "https://localhost:8080/"
        },
        "id": "IR0nLhTlDnsh",
        "outputId": "fa628978-8a99-4fcc-d51a-aa60067c0530"
      },
      "outputs": [
        {
          "output_type": "execute_result",
          "data": {
            "text/plain": [
              "array([10, 11, 12, 13, 14, 15, 16, 17, 18, 19, 20, 21, 22, 23, 24, 25, 26,\n",
              "       27, 28, 29, 30, 31, 32, 33, 34, 35, 36, 37, 38, 39, 40, 41, 42, 43,\n",
              "       44, 45, 46, 47, 48, 49])"
            ]
          },
          "metadata": {},
          "execution_count": 8
        }
      ],
      "source": [
        "a =np.arange(10,50)\n",
        "a"
      ]
    },
    {
      "cell_type": "markdown",
      "metadata": {
        "id": "zaexzch8Dnsi"
      },
      "source": [
        "#### 8.  Reverse a vector (first element becomes last) (★☆☆) \n",
        "(**hint**: array\\[::-1\\])"
      ]
    },
    {
      "cell_type": "code",
      "execution_count": null,
      "metadata": {
        "id": "nu-_45VqDnsi",
        "colab": {
          "base_uri": "https://localhost:8080/"
        },
        "outputId": "cf83ad0c-adf5-44e1-8fdb-a524c4d499e8"
      },
      "outputs": [
        {
          "output_type": "stream",
          "name": "stdout",
          "text": [
            "Normal array\n",
            "[1 2 3 4 5 6 7 8]\n",
            "Reversed vecotor\n",
            "[8 7 6 5 4 3 2 1]\n"
          ]
        }
      ],
      "source": [
        "a = np.array([1,2,3,4,5,6,7,8])\n",
        "print(\"Normal array\")\n",
        "print(a)\n",
        "print(\"Reversed vecotor\")\n",
        "print(a[::-1])"
      ]
    },
    {
      "cell_type": "markdown",
      "metadata": {
        "id": "QYtDK3thDnsj"
      },
      "source": [
        "#### 9.  Create a 3x3 matrix with values ranging from 0 to 8 (★☆☆) \n",
        "(**hint**: reshape)"
      ]
    },
    {
      "cell_type": "code",
      "execution_count": null,
      "metadata": {
        "id": "0FCcIGKmDnsk",
        "colab": {
          "base_uri": "https://localhost:8080/"
        },
        "outputId": "e71a56a4-95e7-4ef6-b4e3-feeca893b56f"
      },
      "outputs": [
        {
          "output_type": "execute_result",
          "data": {
            "text/plain": [
              "array([[0, 1, 2],\n",
              "       [3, 4, 5],\n",
              "       [6, 7, 8]])"
            ]
          },
          "metadata": {},
          "execution_count": 10
        }
      ],
      "source": [
        "np.arange(0,9).reshape(3,3)"
      ]
    },
    {
      "cell_type": "markdown",
      "metadata": {
        "id": "C0kocTk_Dnsk"
      },
      "source": [
        "#### 10. Find indices of non-zero elements from \\[1,2,0,0,4,0\\] (★☆☆) \n",
        "(**hint**: np.nonzero)"
      ]
    },
    {
      "cell_type": "code",
      "execution_count": null,
      "metadata": {
        "id": "zUpYciojDnsk",
        "colab": {
          "base_uri": "https://localhost:8080/"
        },
        "outputId": "2f9c60f5-6fc5-4e60-b45f-5c547617ff0d"
      },
      "outputs": [
        {
          "output_type": "execute_result",
          "data": {
            "text/plain": [
              "(array([0, 1, 4]),)"
            ]
          },
          "metadata": {},
          "execution_count": 11
        }
      ],
      "source": [
        "np.nonzero([1,2,0,0,4,0])"
      ]
    },
    {
      "cell_type": "markdown",
      "metadata": {
        "id": "dsqzUq1YDnsl"
      },
      "source": [
        "#### 11. Create a 3x3 identity matrix (★☆☆) \n",
        "(**hint**: np.eye)"
      ]
    },
    {
      "cell_type": "code",
      "execution_count": null,
      "metadata": {
        "id": "hLvDgf_mDns1",
        "colab": {
          "base_uri": "https://localhost:8080/"
        },
        "outputId": "4f431903-ee89-4fe4-ab0a-ea266a3b4754"
      },
      "outputs": [
        {
          "output_type": "execute_result",
          "data": {
            "text/plain": [
              "array([[1., 0., 0.],\n",
              "       [0., 1., 0.],\n",
              "       [0., 0., 1.]])"
            ]
          },
          "metadata": {},
          "execution_count": 12
        }
      ],
      "source": [
        "i = np.eye(3)\n",
        "i"
      ]
    },
    {
      "cell_type": "markdown",
      "metadata": {
        "id": "VfLTO9sBDns2"
      },
      "source": [
        "#### 12. Create a 3x3x3 array with random values (★☆☆) \n",
        "(**hint**: np.random.random)"
      ]
    },
    {
      "cell_type": "code",
      "execution_count": null,
      "metadata": {
        "collapsed": true,
        "id": "5plczJW9Dns3",
        "colab": {
          "base_uri": "https://localhost:8080/"
        },
        "outputId": "05ec0dc2-dff7-4ba1-d509-1a72df4dc12f"
      },
      "outputs": [
        {
          "output_type": "stream",
          "name": "stdout",
          "text": [
            "[[[0.05305754 0.14467215 0.93336841]\n",
            "  [0.86353676 0.70594338 0.00436052]\n",
            "  [0.28322087 0.63553606 0.93773049]]\n",
            "\n",
            " [[0.38498003 0.45201985 0.60763055]\n",
            "  [0.58921841 0.69120518 0.8586416 ]\n",
            "  [0.05135242 0.49666403 0.63357428]]\n",
            "\n",
            " [[0.19815208 0.75679785 0.49080975]\n",
            "  [0.28795659 0.54169674 0.71631108]\n",
            "  [0.48688999 0.08186954 0.91220465]]]\n"
          ]
        }
      ],
      "source": [
        "a= np.random.random((3,3,3))\n",
        "print(a)"
      ]
    },
    {
      "cell_type": "markdown",
      "metadata": {
        "id": "r4OGn1NdDns3"
      },
      "source": [
        "#### 13. Create a 10x10 array with random values and find the minimum and maximum values (★☆☆) \n",
        "(**hint**: min, max)"
      ]
    },
    {
      "cell_type": "code",
      "execution_count": null,
      "metadata": {
        "id": "sknsSPihDns3",
        "colab": {
          "base_uri": "https://localhost:8080/"
        },
        "outputId": "7feaa096-730b-4a7b-e704-770deaf9ebb9"
      },
      "outputs": [
        {
          "output_type": "stream",
          "name": "stdout",
          "text": [
            "Minumum value:  0.021038495776062538\n",
            "Maximum value:  0.9570096781572249\n"
          ]
        }
      ],
      "source": [
        "a = np.random.random((10,10))\n",
        "#print(\"The 10 x 10 array : \\n\",a)\n",
        "print(\"Minumum value: \", a.min())\n",
        "print(\"Maximum value: \", a.max())"
      ]
    },
    {
      "cell_type": "markdown",
      "metadata": {
        "id": "pbcvuvPNDns4"
      },
      "source": [
        "#### 14. Create a random vector of size 30 and find the mean value (★☆☆) \n",
        "(**hint**: mean)"
      ]
    },
    {
      "cell_type": "code",
      "execution_count": null,
      "metadata": {
        "id": "C860cmsSDns4",
        "colab": {
          "base_uri": "https://localhost:8080/"
        },
        "outputId": "110266c5-0806-498b-ed51-5e092149dd7b"
      },
      "outputs": [
        {
          "output_type": "stream",
          "name": "stdout",
          "text": [
            "Mean Value:  0.4667300168723911\n"
          ]
        }
      ],
      "source": [
        "a=np.random.random(30)\n",
        "print(\"Mean Value: \", a.mean())"
      ]
    },
    {
      "cell_type": "markdown",
      "metadata": {
        "id": "2oTkk_bQDns4"
      },
      "source": [
        "#### 15. Create a 2d array with 1 on the border and 0 inside (★☆☆) \n",
        "(**hint**: array\\[1:-1, 1:-1\\])"
      ]
    },
    {
      "cell_type": "code",
      "execution_count": null,
      "metadata": {
        "id": "au1dVG9sDns4",
        "colab": {
          "base_uri": "https://localhost:8080/"
        },
        "outputId": "ff766239-1796-41ac-97e4-27ecd49b2647"
      },
      "outputs": [
        {
          "output_type": "execute_result",
          "data": {
            "text/plain": [
              "array([[1., 1., 1., 1., 1.],\n",
              "       [1., 0., 0., 0., 1.],\n",
              "       [1., 0., 0., 0., 1.],\n",
              "       [1., 0., 0., 0., 1.],\n",
              "       [1., 1., 1., 1., 1.]])"
            ]
          },
          "metadata": {},
          "execution_count": 25
        }
      ],
      "source": [
        "a=np.ones((5,5))\n",
        "a[1:-1, 1:-1] = 0\n",
        "a"
      ]
    },
    {
      "cell_type": "markdown",
      "metadata": {
        "id": "_KvmDbiwDns5"
      },
      "source": [
        "#### 16. How to add a border (filled with 0's) around an existing array? (★☆☆) \n",
        "(**hint**: np.pad)"
      ]
    },
    {
      "cell_type": "code",
      "execution_count": null,
      "metadata": {
        "id": "GgXCK3qJDns5",
        "colab": {
          "base_uri": "https://localhost:8080/"
        },
        "outputId": "9a56215f-19df-48a3-f325-d8503bd0b3c1"
      },
      "outputs": [
        {
          "output_type": "execute_result",
          "data": {
            "text/plain": [
              "array([[0., 0., 0., 0., 0., 0., 0.],\n",
              "       [0., 1., 1., 1., 1., 1., 0.],\n",
              "       [0., 1., 1., 1., 1., 1., 0.],\n",
              "       [0., 1., 1., 1., 1., 1., 0.],\n",
              "       [0., 1., 1., 1., 1., 1., 0.],\n",
              "       [0., 1., 1., 1., 1., 1., 0.],\n",
              "       [0., 0., 0., 0., 0., 0., 0.]])"
            ]
          },
          "metadata": {},
          "execution_count": 35
        }
      ],
      "source": [
        "a=np.ones((5,5))\n",
        "a=np.pad(a,pad_width=1,mode=\"constant\",  constant_values=0)\n",
        "a"
      ]
    },
    {
      "cell_type": "markdown",
      "metadata": {
        "id": "QbEiy3PYDns6"
      },
      "source": [
        "#### 17. What is the result of the following expression? (★☆☆) \n",
        "(**hint**: NaN = not a number, inf = infinity)"
      ]
    },
    {
      "cell_type": "markdown",
      "metadata": {
        "id": "388swG0KDns7"
      },
      "source": [
        "```python\n",
        "0 * np.nan\n",
        "np.nan == np.nan\n",
        "np.inf > np.nan\n",
        "np.nan - np.nan\n",
        "0.3 == 3 * 0.1\n",
        "```"
      ]
    },
    {
      "cell_type": "code",
      "execution_count": null,
      "metadata": {
        "id": "eMYSDcDuDns7",
        "colab": {
          "base_uri": "https://localhost:8080/"
        },
        "outputId": "7a3673c4-a654-450f-904b-9543e8f35550"
      },
      "outputs": [
        {
          "output_type": "stream",
          "name": "stdout",
          "text": [
            "nan\n",
            "False\n",
            "False\n",
            "nan\n",
            "False\n"
          ]
        }
      ],
      "source": [
        "print(0*np.nan)\n",
        "print(np.nan == np.nan)\n",
        "print(np.inf > np.nan)\n",
        "print(np.nan - np.nan)\n",
        "print(0.3 == 3 * 0.1)\n"
      ]
    },
    {
      "cell_type": "markdown",
      "metadata": {
        "id": "naRhY6ahDns8"
      },
      "source": [
        "#### 18. Create a 5x5 matrix with values 1,2,3,4 just below the diagonal (★☆☆) \n",
        "(**hint**: np.diag)"
      ]
    },
    {
      "cell_type": "code",
      "execution_count": null,
      "metadata": {
        "id": "JWt5bmZXDns8",
        "colab": {
          "base_uri": "https://localhost:8080/"
        },
        "outputId": "16b2508b-66e4-4fd0-d2bb-f850a66f1af0"
      },
      "outputs": [
        {
          "output_type": "execute_result",
          "data": {
            "text/plain": [
              "array([[0, 0, 0, 0, 0],\n",
              "       [1, 0, 0, 0, 0],\n",
              "       [0, 2, 0, 0, 0],\n",
              "       [0, 0, 3, 0, 0],\n",
              "       [0, 0, 0, 4, 0]])"
            ]
          },
          "metadata": {},
          "execution_count": 46
        }
      ],
      "source": [
        "#diag method to print given value to diagonal format.\n",
        "#k=-1 means below the digonal its means 1 step back if we put the k=1 it will print the one step above the diagonal.\n",
        "#a=np.diag(1+np.arange(4),k =-1) \n",
        "#a\n",
        "a=np.diag([1,2,3,4],k =-1) \n",
        "a"
      ]
    },
    {
      "cell_type": "markdown",
      "metadata": {
        "id": "2-srkGkkDns9"
      },
      "source": [
        "#### 19. Create a 8x8 matrix and fill it with a checkerboard pattern (★☆☆) \n",
        "(**hint**: array\\[::2\\])"
      ]
    },
    {
      "cell_type": "code",
      "execution_count": null,
      "metadata": {
        "id": "GeL91np6Dns9",
        "colab": {
          "base_uri": "https://localhost:8080/"
        },
        "outputId": "a34217b8-e498-49e6-aabf-613111c98a78"
      },
      "outputs": [
        {
          "output_type": "stream",
          "name": "stdout",
          "text": [
            "[[0 1 0 1 0 1 0 1]\n",
            " [1 0 1 0 1 0 1 0]\n",
            " [0 1 0 1 0 1 0 1]\n",
            " [1 0 1 0 1 0 1 0]\n",
            " [0 1 0 1 0 1 0 1]\n",
            " [1 0 1 0 1 0 1 0]\n",
            " [0 1 0 1 0 1 0 1]\n",
            " [1 0 1 0 1 0 1 0]]\n"
          ]
        }
      ],
      "source": [
        "#19)checkerboard pattern answer\n",
        "a= np.zeros ((8,8), dtype=int)\n",
        "a[1::2, ::2]= 1\n",
        "a[::2, 1::2] = 1\n",
        "print (a)"
      ]
    },
    {
      "cell_type": "markdown",
      "metadata": {
        "id": "9Jvov5MKDns9"
      },
      "source": [
        "#### 20. Consider a (6,7,8) shape array, what is the index (x,y,z) of the 100th element? \n",
        "(**hint**: np.unravel_index)"
      ]
    },
    {
      "cell_type": "code",
      "execution_count": null,
      "metadata": {
        "id": "wvstIvfPDns-",
        "colab": {
          "base_uri": "https://localhost:8080/"
        },
        "outputId": "9430a5cf-7111-459f-e7ee-31c0882c2b4b"
      },
      "outputs": [
        {
          "output_type": "execute_result",
          "data": {
            "text/plain": [
              "(1, 5, 3)"
            ]
          },
          "metadata": {},
          "execution_count": 23
        }
      ],
      "source": [
        "np.unravel_index(99,(6,7,8))"
      ]
    },
    {
      "cell_type": "markdown",
      "metadata": {
        "id": "fDmMd99pDns-"
      },
      "source": [
        "#### 21. Create a checkerboard 8x8 matrix using the tile function (★☆☆) \n",
        "(**hint**: np.tile)"
      ]
    },
    {
      "cell_type": "code",
      "execution_count": null,
      "metadata": {
        "id": "ksMTATWADns-",
        "colab": {
          "base_uri": "https://localhost:8080/"
        },
        "outputId": "a6647847-0f1c-4b96-95c5-e6e9e7df5d7c"
      },
      "outputs": [
        {
          "output_type": "execute_result",
          "data": {
            "text/plain": [
              "array([[0, 1, 0, 1, 0, 1, 0, 1],\n",
              "       [1, 0, 1, 0, 1, 0, 1, 0],\n",
              "       [0, 1, 0, 1, 0, 1, 0, 1],\n",
              "       [1, 0, 1, 0, 1, 0, 1, 0],\n",
              "       [0, 1, 0, 1, 0, 1, 0, 1],\n",
              "       [1, 0, 1, 0, 1, 0, 1, 0],\n",
              "       [0, 1, 0, 1, 0, 1, 0, 1],\n",
              "       [1, 0, 1, 0, 1, 0, 1, 0]])"
            ]
          },
          "metadata": {},
          "execution_count": 26
        }
      ],
      "source": [
        "a = np.array([[0,1],[1,0]])\n",
        "a = np.tile(a,(4,4))\n",
        "a"
      ]
    },
    {
      "cell_type": "markdown",
      "metadata": {
        "id": "E7ul_POADns_"
      },
      "source": [
        "#### 22. Normalize a 5x5 random matrix (★☆☆) \n",
        "(**hint**: (x - min) / (max - min))"
      ]
    },
    {
      "cell_type": "code",
      "execution_count": null,
      "metadata": {
        "id": "DJT9wH59Dns_",
        "colab": {
          "base_uri": "https://localhost:8080/"
        },
        "outputId": "b850f98c-8c11-45ce-8d9c-7998324c035b"
      },
      "outputs": [
        {
          "output_type": "stream",
          "name": "stdout",
          "text": [
            "[[-0.42706055 -0.88615619 -0.68677899 -0.25117444 -0.69116165]\n",
            " [-0.81144893 -0.69242151 -0.83034524 -0.10293056  0.        ]\n",
            " [-0.97665911 -0.59679086 -0.1355978  -0.49039348 -0.00575245]\n",
            " [-0.53593376 -0.27920281 -0.98134026 -0.37830692 -0.70870343]\n",
            " [-0.93907622 -0.45309883 -0.43642627 -1.         -0.26239728]]\n"
          ]
        }
      ],
      "source": [
        "x = np.random.random((5,5))\n",
        "x = (x-(x.max()))/((x.max())-(x.min()))\n",
        "print(x)"
      ]
    },
    {
      "cell_type": "markdown",
      "metadata": {
        "id": "GZNeodoGDns_"
      },
      "source": [
        "#### 23. Create a custom dtype that describes a color as four unsigned bytes (RGBA) (★☆☆) \n",
        "(**hint**: np.dtype)"
      ]
    },
    {
      "cell_type": "code",
      "execution_count": null,
      "metadata": {
        "collapsed": true,
        "id": "ak1pgpADDntA",
        "colab": {
          "base_uri": "https://localhost:8080/"
        },
        "outputId": "0c03a87a-2b5b-44c0-ed0f-b28c2b7ccf77"
      },
      "outputs": [
        {
          "output_type": "execute_result",
          "data": {
            "text/plain": [
              "dtype([('r', 'u1'), ('g', 'u1'), ('b', 'u1'), ('a', 'u1')])"
            ]
          },
          "metadata": {},
          "execution_count": 32
        }
      ],
      "source": [
        "color = np.dtype([(\"r\", np.ubyte),(\"g\", np.ubyte),(\"b\", np.ubyte),(\"a\", np.ubyte)])\n",
        "color"
      ]
    },
    {
      "cell_type": "markdown",
      "metadata": {
        "id": "9R-H3QuqDntB"
      },
      "source": [
        "#### 24. Multiply a 5x3 matrix by a 3x2 matrix (real matrix product) (★☆☆) \n",
        "(**hint**: np.dot | @)"
      ]
    },
    {
      "cell_type": "code",
      "execution_count": null,
      "metadata": {
        "id": "D0zBcmFSDntC",
        "colab": {
          "base_uri": "https://localhost:8080/"
        },
        "outputId": "fba7b0ba-248a-4856-bfdd-b8230ef2a0fe"
      },
      "outputs": [
        {
          "output_type": "stream",
          "name": "stdout",
          "text": [
            "[[3. 3.]\n",
            " [3. 3.]\n",
            " [3. 3.]\n",
            " [3. 3.]\n",
            " [3. 3.]]\n"
          ]
        }
      ],
      "source": [
        "a = np.dot(np.ones((5,3)),np.ones((3,2)))\n",
        "print(a)"
      ]
    },
    {
      "cell_type": "markdown",
      "metadata": {
        "id": "ufQJP5b0DntD"
      },
      "source": [
        "#### 25. Given a 1D array, negate all elements which are between 3 and 8, in place. (★☆☆) \n",
        "(**hint**: >, <=)"
      ]
    },
    {
      "cell_type": "code",
      "execution_count": null,
      "metadata": {
        "id": "MJb1XPvXDntE",
        "colab": {
          "base_uri": "https://localhost:8080/"
        },
        "outputId": "bf25037c-0aa5-480e-eaf7-fb07cba99f40"
      },
      "outputs": [
        {
          "output_type": "stream",
          "name": "stdout",
          "text": [
            "[ 0  1  2  3 -4 -5 -6 -7  8  9 10]\n"
          ]
        }
      ],
      "source": [
        "a = np.arange(11)\n",
        "a[(3<a) & (a<8)] *= -1\n",
        "print(a)"
      ]
    },
    {
      "cell_type": "markdown",
      "metadata": {
        "id": "T41zXw_iDntF"
      },
      "source": [
        "#### 26. What is the output of the following script? (★☆☆) \n",
        "(**hint**: np.sum)"
      ]
    },
    {
      "cell_type": "markdown",
      "metadata": {
        "id": "Yf07PeZHDntG"
      },
      "source": [
        "```python\n",
        "# Author: Jake VanderPlas\n",
        "\n",
        "print(sum(range(5),-1))\n",
        "from numpy import *\n",
        "print(sum(range(5),-1))\n",
        "```"
      ]
    },
    {
      "cell_type": "code",
      "execution_count": null,
      "metadata": {
        "id": "qQNcrWFfDntH",
        "colab": {
          "base_uri": "https://localhost:8080/"
        },
        "outputId": "7e7f24f6-cd1f-4c35-a267-01563b5ff6d9"
      },
      "outputs": [
        {
          "output_type": "stream",
          "name": "stdout",
          "text": [
            "9\n",
            "10\n"
          ]
        }
      ],
      "source": [
        "print(sum(range(5),-1))\n",
        "from numpy import *\n",
        "print(sum(range(5),-1))"
      ]
    },
    {
      "cell_type": "markdown",
      "metadata": {
        "id": "EriWk_5BDntH"
      },
      "source": [
        "#### 27. Consider an integer vector Z, which of these expressions are legal? (★☆☆)"
      ]
    },
    {
      "cell_type": "markdown",
      "metadata": {
        "id": "Z8PLnSl1DntH"
      },
      "source": [
        "```python\n",
        "Z**Z\n",
        "2 << Z >> 2\n",
        "Z <- Z\n",
        "1j*Z\n",
        "Z/1/1\n",
        "Z<Z>Z\n",
        "```"
      ]
    },
    {
      "cell_type": "code",
      "execution_count": null,
      "metadata": {
        "id": "zfGwD43RDntI",
        "colab": {
          "base_uri": "https://localhost:8080/"
        },
        "outputId": "d3c93b12-7823-4bc7-f2fc-46a8352249f5"
      },
      "outputs": [
        {
          "output_type": "stream",
          "name": "stdout",
          "text": [
            "[        1         1         4        27       256      3125     46656\n",
            "    823543  16777216 387420489]\n",
            "[  0   1   2   4   8  16  32  64 128 256]\n",
            "[False False False False False False False False False False]\n",
            "[0.+0.j 0.+1.j 0.+2.j 0.+3.j 0.+4.j 0.+5.j 0.+6.j 0.+7.j 0.+8.j 0.+9.j]\n",
            "[0. 1. 2. 3. 4. 5. 6. 7. 8. 9.]\n",
            "[False False False False False False False False False False]\n"
          ]
        }
      ],
      "source": [
        "z=np.arange(10)\n",
        "print(z**z)\n",
        "print(2 << z >> 2)\n",
        "print(z <- z)\n",
        "print(1j*z)\n",
        "print(z/1/1)\n",
        "print((z<z)>z)\n"
      ]
    },
    {
      "cell_type": "markdown",
      "metadata": {
        "id": "IYSJmuHoDntI"
      },
      "source": [
        "#### 28. What are the result of the following expressions?"
      ]
    },
    {
      "cell_type": "markdown",
      "metadata": {
        "id": "1xO6DWLNDntI"
      },
      "source": [
        "```python\n",
        "np.array(0) / np.array(0)\n",
        "np.array(0) // np.array(0)\n",
        "np.array([np.nan]).astype(int).astype(float)\n",
        "```"
      ]
    },
    {
      "cell_type": "code",
      "execution_count": null,
      "metadata": {
        "id": "k6t7S1rdDntJ",
        "colab": {
          "base_uri": "https://localhost:8080/"
        },
        "outputId": "1a5da19f-c636-473d-f125-d0d81a96191a"
      },
      "outputs": [
        {
          "output_type": "stream",
          "name": "stdout",
          "text": [
            "nan\n",
            "0\n",
            "[-9.22337204e+18]\n"
          ]
        },
        {
          "output_type": "stream",
          "name": "stderr",
          "text": [
            "/usr/local/lib/python3.7/dist-packages/ipykernel_launcher.py:1: RuntimeWarning: invalid value encountered in true_divide\n",
            "  \"\"\"Entry point for launching an IPython kernel.\n",
            "/usr/local/lib/python3.7/dist-packages/ipykernel_launcher.py:2: RuntimeWarning: divide by zero encountered in floor_divide\n",
            "  \n"
          ]
        }
      ],
      "source": [
        "print(np.array(0)/np.array(0))\n",
        "print(np.array(0) // np.array(0))\n",
        "print(np.array([np.nan]).astype(int).astype(float))"
      ]
    },
    {
      "cell_type": "markdown",
      "metadata": {
        "id": "Pj_cOtIuDntJ"
      },
      "source": [
        "#### 29. How to round away from zero a float array ? (★☆☆) \n",
        "(**hint**: np.uniform, np.copysign, np.ceil, np.abs)"
      ]
    },
    {
      "cell_type": "code",
      "execution_count": null,
      "metadata": {
        "id": "P1FdxiJqDntJ",
        "colab": {
          "base_uri": "https://localhost:8080/"
        },
        "outputId": "0c4a3c0c-e1a3-449e-a9f5-6adffb493ccc"
      },
      "outputs": [
        {
          "output_type": "stream",
          "name": "stdout",
          "text": [
            "[-4.26644095  1.27701613 -0.86251187  1.10945404  0.24629106 -3.02775544\n",
            " -1.11375715 -0.63866865  2.62867961  4.6138374 ]\n",
            "[-5.  2. -1.  2.  1. -4. -2. -1.  3.  5.]\n"
          ]
        }
      ],
      "source": [
        "a = np.random.uniform(-5,+5,10)\n",
        "print(a)\n",
        "print(np.copysign(np.ceil(np.abs(a)), a))"
      ]
    },
    {
      "cell_type": "markdown",
      "metadata": {
        "id": "P8TvOfuRDntJ"
      },
      "source": [
        "#### 30. How to find common values between two arrays? (★☆☆) \n",
        "(**hint**: np.intersect1d)"
      ]
    },
    {
      "cell_type": "code",
      "execution_count": null,
      "metadata": {
        "id": "b4xyYtPRDntK",
        "colab": {
          "base_uri": "https://localhost:8080/"
        },
        "outputId": "1aaca4dc-26d9-44e2-dda7-284a96c08f9c"
      },
      "outputs": [
        {
          "output_type": "stream",
          "name": "stdout",
          "text": [
            "[1 1 2 4 1]\n",
            "[2 4 2 2 4]\n",
            "[2 4]\n"
          ]
        }
      ],
      "source": [
        "a = np.random.randint(0,5,5)\n",
        "b = np.random.randint(0,5,5)\n",
        "print(a)\n",
        "print(b)\n",
        "print(np.intersect1d(a,b))"
      ]
    },
    {
      "cell_type": "markdown",
      "metadata": {
        "id": "nAQVfhcCDntK"
      },
      "source": [
        "#### 31. How to ignore all numpy warnings (not recommended)? (★☆☆) \n",
        "(**hint**: np.seterr, np.errstate)"
      ]
    },
    {
      "cell_type": "code",
      "execution_count": null,
      "metadata": {
        "id": "FpoHuhFuDntK",
        "colab": {
          "base_uri": "https://localhost:8080/"
        },
        "outputId": "cf9fa64d-652e-4229-8ee2-23b75f0b5a0f"
      },
      "outputs": [
        {
          "output_type": "execute_result",
          "data": {
            "text/plain": [
              "array([inf])"
            ]
          },
          "metadata": {},
          "execution_count": 7
        }
      ],
      "source": [
        "np.seterr(all=\"ignore\")\n",
        "a = np.ones(1)/0\n",
        "np.errstate(all=\"ignore\")\n",
        "a"
      ]
    },
    {
      "cell_type": "markdown",
      "metadata": {
        "id": "GCcK576fDntK"
      },
      "source": [
        "#### 32. Is the following expressions true? (★☆☆) \n",
        "(**hint**: imaginary number)"
      ]
    },
    {
      "cell_type": "markdown",
      "metadata": {
        "id": "d0-4EXofDntL"
      },
      "source": [
        "```python\n",
        "np.sqrt(-1) == np.emath.sqrt(-1)\n",
        "```"
      ]
    },
    {
      "cell_type": "code",
      "execution_count": null,
      "metadata": {
        "id": "rM7MVsdYDntL",
        "colab": {
          "base_uri": "https://localhost:8080/"
        },
        "outputId": "d2854267-4fbd-4283-c131-442792c5cbb5"
      },
      "outputs": [
        {
          "output_type": "execute_result",
          "data": {
            "text/plain": [
              "False"
            ]
          },
          "metadata": {},
          "execution_count": 8
        }
      ],
      "source": [
        "np.sqrt(-1) == np.emath.sqrt(-1)"
      ]
    },
    {
      "cell_type": "markdown",
      "metadata": {
        "id": "WPS85AWXDntM"
      },
      "source": [
        "#### 33. How to get the dates of yesterday, today and tomorrow? (★☆☆) \n",
        "(**hint**: np.datetime64, np.timedelta64)"
      ]
    },
    {
      "cell_type": "code",
      "execution_count": null,
      "metadata": {
        "collapsed": true,
        "id": "tb4oRuDKDntN",
        "colab": {
          "base_uri": "https://localhost:8080/"
        },
        "outputId": "9586556b-adbe-474e-9bdf-0cffbeb09eea"
      },
      "outputs": [
        {
          "output_type": "stream",
          "name": "stdout",
          "text": [
            "Yesterday:  2022-02-04\n",
            "Today:  2022-02-05\n",
            "Tomorrow:  2022-02-06\n"
          ]
        }
      ],
      "source": [
        "yesterday = np.datetime64('today')-np.timedelta64(1)\n",
        "today = np.datetime64('today')\n",
        "tomorrow = np.datetime64('today')+np.timedelta64(1)\n",
        "print(\"Yesterday: \", yesterday)\n",
        "print(\"Today: \",today)\n",
        "print(\"Tomorrow: \",tomorrow)\n"
      ]
    },
    {
      "cell_type": "markdown",
      "metadata": {
        "id": "EdowE7BLDntN"
      },
      "source": [
        "#### 34. How to get all the dates corresponding to the month of July 2016? (★★☆) \n",
        "(**hint**: np.arange(dtype=datetime64\\['D'\\]))"
      ]
    },
    {
      "cell_type": "code",
      "execution_count": null,
      "metadata": {
        "id": "Gd-o0gQDDntO",
        "colab": {
          "base_uri": "https://localhost:8080/"
        },
        "outputId": "50b840fe-ab32-4cbb-a332-842eae5d214a"
      },
      "outputs": [
        {
          "output_type": "stream",
          "name": "stdout",
          "text": [
            "['2016-07-01' '2016-07-02' '2016-07-03' '2016-07-04' '2016-07-05'\n",
            " '2016-07-06' '2016-07-07' '2016-07-08' '2016-07-09' '2016-07-10'\n",
            " '2016-07-11' '2016-07-12' '2016-07-13' '2016-07-14' '2016-07-15'\n",
            " '2016-07-16' '2016-07-17' '2016-07-18' '2016-07-19' '2016-07-20'\n",
            " '2016-07-21' '2016-07-22' '2016-07-23' '2016-07-24' '2016-07-25'\n",
            " '2016-07-26' '2016-07-27' '2016-07-28' '2016-07-29' '2016-07-30'\n",
            " '2016-07-31']\n"
          ]
        }
      ],
      "source": [
        "a = np.arange('2016-07', '2016-08', dtype='datetime64[D]')\n",
        "print(a)"
      ]
    },
    {
      "cell_type": "markdown",
      "metadata": {
        "id": "5NlERoYiDntP"
      },
      "source": [
        "#### 35. How to compute ((A+B)\\*(-A/2)) in place (without copy)? (★★☆) \n",
        "(**hint**: np.add(out=), np.negative(out=), np.multiply(out=), np.divide(out=))"
      ]
    },
    {
      "cell_type": "code",
      "execution_count": null,
      "metadata": {
        "id": "zfwgOIQ9DntQ",
        "colab": {
          "base_uri": "https://localhost:8080/"
        },
        "outputId": "bbd1ed94-9332-46e9-cd9b-f5e6c36d113a"
      },
      "outputs": [
        {
          "output_type": "stream",
          "name": "stdout",
          "text": [
            "[3. 3. 3.]\n",
            "[2. 2. 2.]\n"
          ]
        },
        {
          "output_type": "execute_result",
          "data": {
            "text/plain": [
              "array([-7.5, -7.5, -7.5])"
            ]
          },
          "metadata": {},
          "execution_count": 17
        }
      ],
      "source": [
        "A = np.ones(3)*3\n",
        "B = np.ones(3)*2\n",
        "print(A)\n",
        "print(B)\n",
        "np.add(A,B,out=B)\n",
        "np.divide(A,2,out=A)\n",
        "np.negative(A,out=A)\n",
        "np.multiply(A,B,out=A)"
      ]
    },
    {
      "cell_type": "markdown",
      "metadata": {
        "id": "c4uNcZh5DntQ"
      },
      "source": [
        "#### 36. Extract the integer part of a random array using 5 different methods (★★☆) \n",
        "(**hint**: %, np.floor, np.ceil, astype, np.trunc)"
      ]
    },
    {
      "cell_type": "code",
      "execution_count": null,
      "metadata": {
        "id": "iMpTAA_KDntR",
        "colab": {
          "base_uri": "https://localhost:8080/"
        },
        "outputId": "feb32fe9-5d60-45a1-fb83-487d03b36e37"
      },
      "outputs": [
        {
          "output_type": "stream",
          "name": "stdout",
          "text": [
            "[4.99332897 2.72513175 2.9998625  3.58897503 1.1371295 ]\n",
            "[4. 2. 2. 3. 1.]\n",
            "[4. 2. 2. 3. 1.]\n",
            "[4. 2. 2. 3. 1.]\n",
            "[4 2 2 3 1]\n",
            "[4. 2. 2. 3. 1.]\n"
          ]
        }
      ],
      "source": [
        "Z = np.random.uniform(1,5,5)\n",
        "print(Z)\n",
        "print(Z - Z%1)\n",
        "print(Z // 1)\n",
        "print(np.floor(Z))\n",
        "print(Z.astype(int))\n",
        "print(np.trunc(Z))"
      ]
    },
    {
      "cell_type": "markdown",
      "metadata": {
        "id": "4HnJxrJ3DntR"
      },
      "source": [
        "#### 37. Create a 5x5 matrix with row values ranging from 0 to 4 (★★☆) \n",
        "(**hint**: np.arange)"
      ]
    },
    {
      "cell_type": "code",
      "execution_count": null,
      "metadata": {
        "id": "eNutyiXbDntR",
        "colab": {
          "base_uri": "https://localhost:8080/"
        },
        "outputId": "b43550f5-e98b-40b1-96ac-07ffca107dd9"
      },
      "outputs": [
        {
          "output_type": "stream",
          "name": "stdout",
          "text": [
            "[[0. 1. 2. 3. 4.]\n",
            " [0. 1. 2. 3. 4.]\n",
            " [0. 1. 2. 3. 4.]\n",
            " [0. 1. 2. 3. 4.]\n",
            " [0. 1. 2. 3. 4.]]\n"
          ]
        }
      ],
      "source": [
        "a = np.zeros((5,5))\n",
        "a+=np.arange(5)\n",
        "print(a)"
      ]
    },
    {
      "cell_type": "markdown",
      "metadata": {
        "id": "X32ReHusDntS"
      },
      "source": [
        "#### 38. Consider a generator function that generates 10 integers and use it to build an array (★☆☆) \n",
        "(**hint**: np.fromiter)"
      ]
    },
    {
      "cell_type": "code",
      "execution_count": null,
      "metadata": {
        "id": "hzQYj3AzDntS",
        "colab": {
          "base_uri": "https://localhost:8080/"
        },
        "outputId": "b99d1c20-3a34-4549-ac6e-b5d7d1a668c3"
      },
      "outputs": [
        {
          "output_type": "stream",
          "name": "stdout",
          "text": [
            "[0. 1. 2. 3. 4. 5. 6. 7. 8. 9.]\n"
          ]
        }
      ],
      "source": [
        "def generate():\n",
        "    for x in range(10):\n",
        "        yield x\n",
        "a= np.fromiter(generate(),dtype=float,count=-1)\n",
        "print(a)"
      ]
    },
    {
      "cell_type": "markdown",
      "metadata": {
        "id": "KWXJlEaBDntS"
      },
      "source": [
        "#### 39. Create a vector of size 10 with values ranging from 0 to 1, both excluded (★★☆) \n",
        "(**hint**: np.linspace)"
      ]
    },
    {
      "cell_type": "code",
      "execution_count": null,
      "metadata": {
        "id": "WjKRVW9LDntT",
        "colab": {
          "base_uri": "https://localhost:8080/"
        },
        "outputId": "9e568a92-da6f-4aea-ac09-ab1d7a0eeda2"
      },
      "outputs": [
        {
          "output_type": "stream",
          "name": "stdout",
          "text": [
            "[0.09090909 0.18181818 0.27272727 0.36363636 0.45454545 0.54545455\n",
            " 0.63636364 0.72727273 0.81818182 0.90909091]\n"
          ]
        }
      ],
      "source": [
        "a= np.linspace(0,1,12,endpoint=True)[1:-1]\n",
        "print(a)"
      ]
    },
    {
      "cell_type": "markdown",
      "metadata": {
        "id": "mlkrof1YDntT"
      },
      "source": [
        "#### 40. Create a random vector of size 10 and sort it (★★☆) \n",
        "(**hint**: sort)"
      ]
    },
    {
      "cell_type": "code",
      "execution_count": null,
      "metadata": {
        "id": "3KuzLdAYDntT",
        "colab": {
          "base_uri": "https://localhost:8080/"
        },
        "outputId": "9021cde4-e44f-41f5-c4e6-175b3ae17b8c"
      },
      "outputs": [
        {
          "output_type": "stream",
          "name": "stdout",
          "text": [
            "Random Vector: \n",
            " [0.25699004 0.29869809 0.17508159 0.53754657 0.54766796 0.29514876\n",
            " 0.22856368 0.94444032 0.03122303 0.32689052]\n",
            "Sorted Vecotr: \n",
            " [0.03122303 0.17508159 0.22856368 0.25699004 0.29514876 0.29869809\n",
            " 0.32689052 0.53754657 0.54766796 0.94444032]\n"
          ]
        }
      ],
      "source": [
        "a = np.random.random(10)\n",
        "print(\"Random Vector: \\n\",a)\n",
        "a.sort()\n",
        "print(\"Sorted Vecotr: \\n\",a)"
      ]
    },
    {
      "cell_type": "markdown",
      "metadata": {
        "id": "Nu3z91CvDntT"
      },
      "source": [
        "#### 41. How to sum a small array faster than np.sum? (★★☆) \n",
        "(**hint**: np.add.reduce)"
      ]
    },
    {
      "cell_type": "code",
      "execution_count": null,
      "metadata": {
        "id": "9QvTHVqzDntU",
        "colab": {
          "base_uri": "https://localhost:8080/"
        },
        "outputId": "a9f74400-7e5d-4f5e-d665-f70719ad7bf1"
      },
      "outputs": [
        {
          "output_type": "stream",
          "name": "stdout",
          "text": [
            "[0 1 2 3 4]\n"
          ]
        },
        {
          "output_type": "execute_result",
          "data": {
            "text/plain": [
              "10"
            ]
          },
          "metadata": {},
          "execution_count": 31
        }
      ],
      "source": [
        "a=np.arange(5)\n",
        "print(a)\n",
        "np.add.reduce(a)"
      ]
    },
    {
      "cell_type": "markdown",
      "metadata": {
        "id": "n77tEsZ-DntU"
      },
      "source": [
        "#### 42. Consider two random array A and B, check if they are equal (★★☆) \n",
        "(**hint**: np.allclose, np.array\\_equal)"
      ]
    },
    {
      "cell_type": "code",
      "execution_count": null,
      "metadata": {
        "id": "0as0LcJSDntU",
        "colab": {
          "base_uri": "https://localhost:8080/"
        },
        "outputId": "e793a41b-7d30-42c3-bfae-e45822c2532c"
      },
      "outputs": [
        {
          "output_type": "stream",
          "name": "stdout",
          "text": [
            "True\n",
            "True\n"
          ]
        }
      ],
      "source": [
        "A = np.ones(5)\n",
        "B = np.ones(5)\n",
        "#using np.allclose \n",
        "print(np.allclose(A,B))\n",
        "#using np.array_equal\n",
        "print(np.array_equal(A,B))"
      ]
    },
    {
      "cell_type": "markdown",
      "metadata": {
        "id": "tqso2HXoDntU"
      },
      "source": [
        "#### 43. Make an array immutable (read-only) (★★☆) \n",
        "(**hint**: flags.writeable)"
      ]
    },
    {
      "cell_type": "code",
      "execution_count": null,
      "metadata": {
        "id": "gp5DSEnvDntW",
        "colab": {
          "base_uri": "https://localhost:8080/",
          "height": 201
        },
        "outputId": "f11afc19-f13f-4fa2-d108-4de9fa1925b1"
      },
      "outputs": [
        {
          "output_type": "error",
          "ename": "ValueError",
          "evalue": "ignored",
          "traceback": [
            "\u001b[0;31m---------------------------------------------------------------------------\u001b[0m",
            "\u001b[0;31mValueError\u001b[0m                                Traceback (most recent call last)",
            "\u001b[0;32m<ipython-input-40-0554c6d88c97>\u001b[0m in \u001b[0;36m<module>\u001b[0;34m()\u001b[0m\n\u001b[1;32m      1\u001b[0m \u001b[0ma\u001b[0m \u001b[0;34m=\u001b[0m \u001b[0mnp\u001b[0m\u001b[0;34m.\u001b[0m\u001b[0mzeros\u001b[0m\u001b[0;34m(\u001b[0m\u001b[0;36m10\u001b[0m\u001b[0;34m)\u001b[0m\u001b[0;34m\u001b[0m\u001b[0;34m\u001b[0m\u001b[0m\n\u001b[1;32m      2\u001b[0m \u001b[0ma\u001b[0m\u001b[0;34m.\u001b[0m\u001b[0mflags\u001b[0m\u001b[0;34m.\u001b[0m\u001b[0mwriteable\u001b[0m \u001b[0;34m=\u001b[0m \u001b[0;32mFalse\u001b[0m\u001b[0;34m\u001b[0m\u001b[0;34m\u001b[0m\u001b[0m\n\u001b[0;32m----> 3\u001b[0;31m \u001b[0ma\u001b[0m\u001b[0;34m[\u001b[0m\u001b[0;36m0\u001b[0m\u001b[0;34m]\u001b[0m \u001b[0;34m=\u001b[0m \u001b[0;36m1\u001b[0m\u001b[0;34m\u001b[0m\u001b[0;34m\u001b[0m\u001b[0m\n\u001b[0m",
            "\u001b[0;31mValueError\u001b[0m: assignment destination is read-only"
          ]
        }
      ],
      "source": [
        "a = np.zeros(10)\n",
        "a.flags.writeable = False\n",
        "a[0] = 1"
      ]
    },
    {
      "cell_type": "markdown",
      "metadata": {
        "id": "iFKpDGWIDntX"
      },
      "source": [
        "#### 44. Consider a random 10x2 matrix representing cartesian coordinates, convert them to polar coordinates (★★☆) \n",
        "(**hint**: np.sqrt, np.arctan2)"
      ]
    },
    {
      "cell_type": "code",
      "execution_count": null,
      "metadata": {
        "id": "ElvW2viSDntX",
        "colab": {
          "base_uri": "https://localhost:8080/"
        },
        "outputId": "7b8bb970-d09f-4da8-d533-b1993118a579"
      },
      "outputs": [
        {
          "output_type": "stream",
          "name": "stdout",
          "text": [
            "[0.52350602 0.99745991 0.97273615 0.09421623 0.73109144 0.95785095\n",
            " 0.59825671 0.3693346  0.51243509 1.16783986]\n",
            "[0.36942776 1.24212697 0.7702655  1.37193629 0.99283965 0.59359413\n",
            " 1.38729319 1.48373201 0.57006223 0.56688959]\n"
          ]
        }
      ],
      "source": [
        "a = np.random.random((10,2))\n",
        "X,Y = a[:,0], a[:,1]\n",
        "R = np.sqrt(X**2+Y**2)\n",
        "T = np.arctan2(Y,X)\n",
        "print(R)\n",
        "print(T)"
      ]
    },
    {
      "cell_type": "markdown",
      "metadata": {
        "id": "AhyFyOWEDntX"
      },
      "source": [
        "#### 45. Create random vector of size 10 and replace the maximum value by 0 (★★☆) \n",
        "(**hint**: argmax)"
      ]
    },
    {
      "cell_type": "code",
      "execution_count": null,
      "metadata": {
        "id": "2E7Ef_7KDntY",
        "colab": {
          "base_uri": "https://localhost:8080/"
        },
        "outputId": "092241ff-5eba-4872-a0d4-a76351aa7df2"
      },
      "outputs": [
        {
          "output_type": "stream",
          "name": "stdout",
          "text": [
            "[0.78040751 0.26208686 0.76310087 0.13045467 0.83330034 0.76612762\n",
            " 0.05334379 0.57416962 0.61230826 0.58691541]\n",
            "\n",
            "Result: \n",
            "\n",
            "[0.78040751 0.26208686 0.76310087 0.13045467 0.         0.76612762\n",
            " 0.05334379 0.57416962 0.61230826 0.58691541]\n"
          ]
        }
      ],
      "source": [
        "a = np.random.random(10)\n",
        "print(a)\n",
        "a[a.argmax()]=0\n",
        "print(\"\\nResult: \\n\")\n",
        "print(a)"
      ]
    },
    {
      "cell_type": "markdown",
      "metadata": {
        "id": "BS1fUXh8DntY"
      },
      "source": [
        "#### 46. Create a structured array with `x` and `y` coordinates covering the \\[0,1\\]x\\[0,1\\] area (★★☆) \n",
        "(**hint**: np.meshgrid)"
      ]
    },
    {
      "cell_type": "code",
      "execution_count": null,
      "metadata": {
        "id": "_8BKN2DfDntY",
        "colab": {
          "base_uri": "https://localhost:8080/"
        },
        "outputId": "bdf90371-9aec-4a38-dade-05d5aabf1086"
      },
      "outputs": [
        {
          "output_type": "stream",
          "name": "stdout",
          "text": [
            "[[(0.        , 0.        ) (0.11111111, 0.        )\n",
            "  (0.22222222, 0.        ) (0.33333333, 0.        )\n",
            "  (0.44444444, 0.        ) (0.55555556, 0.        )\n",
            "  (0.66666667, 0.        ) (0.77777778, 0.        )\n",
            "  (0.88888889, 0.        ) (1.        , 0.        )]\n",
            " [(0.        , 0.11111111) (0.11111111, 0.11111111)\n",
            "  (0.22222222, 0.11111111) (0.33333333, 0.11111111)\n",
            "  (0.44444444, 0.11111111) (0.55555556, 0.11111111)\n",
            "  (0.66666667, 0.11111111) (0.77777778, 0.11111111)\n",
            "  (0.88888889, 0.11111111) (1.        , 0.11111111)]\n",
            " [(0.        , 0.22222222) (0.11111111, 0.22222222)\n",
            "  (0.22222222, 0.22222222) (0.33333333, 0.22222222)\n",
            "  (0.44444444, 0.22222222) (0.55555556, 0.22222222)\n",
            "  (0.66666667, 0.22222222) (0.77777778, 0.22222222)\n",
            "  (0.88888889, 0.22222222) (1.        , 0.22222222)]\n",
            " [(0.        , 0.33333333) (0.11111111, 0.33333333)\n",
            "  (0.22222222, 0.33333333) (0.33333333, 0.33333333)\n",
            "  (0.44444444, 0.33333333) (0.55555556, 0.33333333)\n",
            "  (0.66666667, 0.33333333) (0.77777778, 0.33333333)\n",
            "  (0.88888889, 0.33333333) (1.        , 0.33333333)]\n",
            " [(0.        , 0.44444444) (0.11111111, 0.44444444)\n",
            "  (0.22222222, 0.44444444) (0.33333333, 0.44444444)\n",
            "  (0.44444444, 0.44444444) (0.55555556, 0.44444444)\n",
            "  (0.66666667, 0.44444444) (0.77777778, 0.44444444)\n",
            "  (0.88888889, 0.44444444) (1.        , 0.44444444)]\n",
            " [(0.        , 0.55555556) (0.11111111, 0.55555556)\n",
            "  (0.22222222, 0.55555556) (0.33333333, 0.55555556)\n",
            "  (0.44444444, 0.55555556) (0.55555556, 0.55555556)\n",
            "  (0.66666667, 0.55555556) (0.77777778, 0.55555556)\n",
            "  (0.88888889, 0.55555556) (1.        , 0.55555556)]\n",
            " [(0.        , 0.66666667) (0.11111111, 0.66666667)\n",
            "  (0.22222222, 0.66666667) (0.33333333, 0.66666667)\n",
            "  (0.44444444, 0.66666667) (0.55555556, 0.66666667)\n",
            "  (0.66666667, 0.66666667) (0.77777778, 0.66666667)\n",
            "  (0.88888889, 0.66666667) (1.        , 0.66666667)]\n",
            " [(0.        , 0.77777778) (0.11111111, 0.77777778)\n",
            "  (0.22222222, 0.77777778) (0.33333333, 0.77777778)\n",
            "  (0.44444444, 0.77777778) (0.55555556, 0.77777778)\n",
            "  (0.66666667, 0.77777778) (0.77777778, 0.77777778)\n",
            "  (0.88888889, 0.77777778) (1.        , 0.77777778)]\n",
            " [(0.        , 0.88888889) (0.11111111, 0.88888889)\n",
            "  (0.22222222, 0.88888889) (0.33333333, 0.88888889)\n",
            "  (0.44444444, 0.88888889) (0.55555556, 0.88888889)\n",
            "  (0.66666667, 0.88888889) (0.77777778, 0.88888889)\n",
            "  (0.88888889, 0.88888889) (1.        , 0.88888889)]\n",
            " [(0.        , 1.        ) (0.11111111, 1.        )\n",
            "  (0.22222222, 1.        ) (0.33333333, 1.        )\n",
            "  (0.44444444, 1.        ) (0.55555556, 1.        )\n",
            "  (0.66666667, 1.        ) (0.77777778, 1.        )\n",
            "  (0.88888889, 1.        ) (1.        , 1.        )]]\n"
          ]
        }
      ],
      "source": [
        "a = np.zeros((10,10), [('x',float),('y',float)])\n",
        "a['x'], a['y'] = np.meshgrid(np.linspace(0,1,10),\n",
        "                             np.linspace(0,1,10))\n",
        "print(a)"
      ]
    },
    {
      "cell_type": "markdown",
      "metadata": {
        "id": "Z5Y6TBiMDntZ"
      },
      "source": [
        "####  47. Given two arrays, X and Y, construct the Cauchy matrix C (Cij =1/(xi - yj)) \n",
        "(**hint**: np.subtract.outer)"
      ]
    },
    {
      "cell_type": "code",
      "execution_count": null,
      "metadata": {
        "id": "tQCsbzAYDntZ",
        "colab": {
          "base_uri": "https://localhost:8080/"
        },
        "outputId": "6bc7b49b-1d54-498a-ec74-1688f09ff25a"
      },
      "outputs": [
        {
          "output_type": "stream",
          "name": "stdout",
          "text": [
            "33961.93294480225\n"
          ]
        }
      ],
      "source": [
        "X = np.arange(10)\n",
        "Y = X + 0.5\n",
        "C = 1.0 / np.subtract.outer(X, Y)\n",
        "print(np.linalg.det(C))\n"
      ]
    },
    {
      "cell_type": "markdown",
      "metadata": {
        "id": "E3CGgZx0Dnta"
      },
      "source": [
        "#### 48. Print the minimum and maximum representable value for each numpy scalar type (★★☆) \n",
        "(**hint**: np.iinfo, np.finfo, eps)"
      ]
    },
    {
      "cell_type": "code",
      "execution_count": null,
      "metadata": {
        "id": "MJbrtv2ADnta",
        "colab": {
          "base_uri": "https://localhost:8080/"
        },
        "outputId": "5bbe7770-e5ab-4f20-f342-d1da946b8c47"
      },
      "outputs": [
        {
          "output_type": "stream",
          "name": "stdout",
          "text": [
            "-128\n",
            "127\n",
            "-2147483648\n",
            "2147483647\n",
            "-9223372036854775808\n",
            "9223372036854775807\n",
            "-3.4028235e+38\n",
            "3.4028235e+38\n",
            "1.1920929e-07\n",
            "-1.7976931348623157e+308\n",
            "1.7976931348623157e+308\n",
            "2.220446049250313e-16\n"
          ]
        }
      ],
      "source": [
        "for dtype in [np.int8,np.int32,np.int64]:\n",
        "  print(np.iinfo(dtype).min)\n",
        "  print(np.iinfo(dtype).max)\n",
        "for dtype in [np.float32, np.float64]:\n",
        "  print(np.finfo(dtype).min)\n",
        "  print(np.finfo(dtype).max)\n",
        "  print(np.finfo(dtype).eps)\n"
      ]
    },
    {
      "cell_type": "markdown",
      "metadata": {
        "id": "TsHxXZuaDnta"
      },
      "source": [
        "#### 49. How to print all the values of an array? (★★☆) \n",
        "(**hint**: np.set\\_printoptions)"
      ]
    },
    {
      "cell_type": "code",
      "execution_count": null,
      "metadata": {
        "id": "7h8nxGzrDntb",
        "colab": {
          "base_uri": "https://localhost:8080/"
        },
        "outputId": "377f9de3-e313-4766-ba64-19d0ab10a6b5"
      },
      "outputs": [
        {
          "output_type": "stream",
          "name": "stdout",
          "text": [
            "[   0    1    2    3    4    5    6    7    8    9   10   11   12   13\n",
            "   14   15   16   17   18   19   20   21   22   23   24   25   26   27\n",
            "   28   29   30   31   32   33   34   35   36   37   38   39   40   41\n",
            "   42   43   44   45   46   47   48   49   50   51   52   53   54   55\n",
            "   56   57   58   59   60   61   62   63   64   65   66   67   68   69\n",
            "   70   71   72   73   74   75   76   77   78   79   80   81   82   83\n",
            "   84   85   86   87   88   89   90   91   92   93   94   95   96   97\n",
            "   98   99  100  101  102  103  104  105  106  107  108  109  110  111\n",
            "  112  113  114  115  116  117  118  119  120  121  122  123  124  125\n",
            "  126  127  128  129  130  131  132  133  134  135  136  137  138  139\n",
            "  140  141  142  143  144  145  146  147  148  149  150  151  152  153\n",
            "  154  155  156  157  158  159  160  161  162  163  164  165  166  167\n",
            "  168  169  170  171  172  173  174  175  176  177  178  179  180  181\n",
            "  182  183  184  185  186  187  188  189  190  191  192  193  194  195\n",
            "  196  197  198  199  200  201  202  203  204  205  206  207  208  209\n",
            "  210  211  212  213  214  215  216  217  218  219  220  221  222  223\n",
            "  224  225  226  227  228  229  230  231  232  233  234  235  236  237\n",
            "  238  239  240  241  242  243  244  245  246  247  248  249  250  251\n",
            "  252  253  254  255  256  257  258  259  260  261  262  263  264  265\n",
            "  266  267  268  269  270  271  272  273  274  275  276  277  278  279\n",
            "  280  281  282  283  284  285  286  287  288  289  290  291  292  293\n",
            "  294  295  296  297  298  299  300  301  302  303  304  305  306  307\n",
            "  308  309  310  311  312  313  314  315  316  317  318  319  320  321\n",
            "  322  323  324  325  326  327  328  329  330  331  332  333  334  335\n",
            "  336  337  338  339  340  341  342  343  344  345  346  347  348  349\n",
            "  350  351  352  353  354  355  356  357  358  359  360  361  362  363\n",
            "  364  365  366  367  368  369  370  371  372  373  374  375  376  377\n",
            "  378  379  380  381  382  383  384  385  386  387  388  389  390  391\n",
            "  392  393  394  395  396  397  398  399  400  401  402  403  404  405\n",
            "  406  407  408  409  410  411  412  413  414  415  416  417  418  419\n",
            "  420  421  422  423  424  425  426  427  428  429  430  431  432  433\n",
            "  434  435  436  437  438  439  440  441  442  443  444  445  446  447\n",
            "  448  449  450  451  452  453  454  455  456  457  458  459  460  461\n",
            "  462  463  464  465  466  467  468  469  470  471  472  473  474  475\n",
            "  476  477  478  479  480  481  482  483  484  485  486  487  488  489\n",
            "  490  491  492  493  494  495  496  497  498  499  500  501  502  503\n",
            "  504  505  506  507  508  509  510  511  512  513  514  515  516  517\n",
            "  518  519  520  521  522  523  524  525  526  527  528  529  530  531\n",
            "  532  533  534  535  536  537  538  539  540  541  542  543  544  545\n",
            "  546  547  548  549  550  551  552  553  554  555  556  557  558  559\n",
            "  560  561  562  563  564  565  566  567  568  569  570  571  572  573\n",
            "  574  575  576  577  578  579  580  581  582  583  584  585  586  587\n",
            "  588  589  590  591  592  593  594  595  596  597  598  599  600  601\n",
            "  602  603  604  605  606  607  608  609  610  611  612  613  614  615\n",
            "  616  617  618  619  620  621  622  623  624  625  626  627  628  629\n",
            "  630  631  632  633  634  635  636  637  638  639  640  641  642  643\n",
            "  644  645  646  647  648  649  650  651  652  653  654  655  656  657\n",
            "  658  659  660  661  662  663  664  665  666  667  668  669  670  671\n",
            "  672  673  674  675  676  677  678  679  680  681  682  683  684  685\n",
            "  686  687  688  689  690  691  692  693  694  695  696  697  698  699\n",
            "  700  701  702  703  704  705  706  707  708  709  710  711  712  713\n",
            "  714  715  716  717  718  719  720  721  722  723  724  725  726  727\n",
            "  728  729  730  731  732  733  734  735  736  737  738  739  740  741\n",
            "  742  743  744  745  746  747  748  749  750  751  752  753  754  755\n",
            "  756  757  758  759  760  761  762  763  764  765  766  767  768  769\n",
            "  770  771  772  773  774  775  776  777  778  779  780  781  782  783\n",
            "  784  785  786  787  788  789  790  791  792  793  794  795  796  797\n",
            "  798  799  800  801  802  803  804  805  806  807  808  809  810  811\n",
            "  812  813  814  815  816  817  818  819  820  821  822  823  824  825\n",
            "  826  827  828  829  830  831  832  833  834  835  836  837  838  839\n",
            "  840  841  842  843  844  845  846  847  848  849  850  851  852  853\n",
            "  854  855  856  857  858  859  860  861  862  863  864  865  866  867\n",
            "  868  869  870  871  872  873  874  875  876  877  878  879  880  881\n",
            "  882  883  884  885  886  887  888  889  890  891  892  893  894  895\n",
            "  896  897  898  899  900  901  902  903  904  905  906  907  908  909\n",
            "  910  911  912  913  914  915  916  917  918  919  920  921  922  923\n",
            "  924  925  926  927  928  929  930  931  932  933  934  935  936  937\n",
            "  938  939  940  941  942  943  944  945  946  947  948  949  950  951\n",
            "  952  953  954  955  956  957  958  959  960  961  962  963  964  965\n",
            "  966  967  968  969  970  971  972  973  974  975  976  977  978  979\n",
            "  980  981  982  983  984  985  986  987  988  989  990  991  992  993\n",
            "  994  995  996  997  998  999 1000 1001 1002 1003 1004]\n"
          ]
        }
      ],
      "source": [
        "a = np.arange(1005)\n",
        "np.set_printoptions(threshold=np.inf)\n",
        "print(a)"
      ]
    },
    {
      "cell_type": "markdown",
      "metadata": {
        "id": "Om2-xqWdDntb"
      },
      "source": [
        "#### 50. How to find the closest value (to a given scalar) in a vector? (★★☆) \n",
        "(**hint**: argmin)"
      ]
    },
    {
      "cell_type": "code",
      "execution_count": null,
      "metadata": {
        "id": "C0SOiy9PDntc",
        "colab": {
          "base_uri": "https://localhost:8080/"
        },
        "outputId": "73be74aa-9c06-4778-9c11-b1dcec92ad01"
      },
      "outputs": [
        {
          "output_type": "stream",
          "name": "stdout",
          "text": [
            "[ 0  1  2  3  4  5  6  7  8  9 10 11 12 13 14 15 16 17 18 19 20 21 22 23\n",
            " 24 25 26 27 28 29 30 31 32 33 34 35 36 37 38 39 40 41 42 43 44 45 46 47\n",
            " 48 49 50 51 52 53 54 55 56 57 58 59 60 61 62 63 64 65 66 67 68 69 70 71\n",
            " 72 73 74 75 76 77 78 79 80 81 82 83 84 85 86 87 88 89 90 91 92 93 94 95\n",
            " 96 97 98 99]\n",
            "25.828652840162214\n",
            "26\n"
          ]
        }
      ],
      "source": [
        "a = np.arange(100)\n",
        "print(a)\n",
        "b = np.random.uniform(0,100)\n",
        "print(b)\n",
        "index = (np.abs(a-b)).argmin()\n",
        "print(a[index])"
      ]
    },
    {
      "cell_type": "markdown",
      "metadata": {
        "id": "54VbvwahDntc"
      },
      "source": [
        "#### 51. Create a structured array representing a position (x,y) and a color (r,g,b) (★★☆) \n",
        "(**hint**: dtype)"
      ]
    },
    {
      "cell_type": "code",
      "execution_count": null,
      "metadata": {
        "id": "C_xgtRkWDntd",
        "colab": {
          "base_uri": "https://localhost:8080/"
        },
        "outputId": "73d16375-f092-4ce5-d22e-8119010c3c4e"
      },
      "outputs": [
        {
          "output_type": "stream",
          "name": "stdout",
          "text": [
            "[((0., 0.), (0., 0., 0.)) ((0., 0.), (0., 0., 0.))\n",
            " ((0., 0.), (0., 0., 0.)) ((0., 0.), (0., 0., 0.))\n",
            " ((0., 0.), (0., 0., 0.)) ((0., 0.), (0., 0., 0.))\n",
            " ((0., 0.), (0., 0., 0.)) ((0., 0.), (0., 0., 0.))\n",
            " ((0., 0.), (0., 0., 0.)) ((0., 0.), (0., 0., 0.))]\n"
          ]
        },
        {
          "output_type": "stream",
          "name": "stderr",
          "text": [
            "/usr/local/lib/python3.7/dist-packages/ipykernel_launcher.py:1: FutureWarning: Passing (type, 1) or '1type' as a synonym of type is deprecated; in a future version of numpy, it will be understood as (type, (1,)) / '(1,)type'.\n",
            "  \"\"\"Entry point for launching an IPython kernel.\n"
          ]
        }
      ],
      "source": [
        "a = np.zeros(10, [(\"position\", [ (\"x\", float, 1),(\"y\", float, 1)]),(\"color\",[ (\"r\", float, 1),(\"g\", float, 1),(\"b\", float, 1)])])\n",
        "print(a)"
      ]
    },
    {
      "cell_type": "markdown",
      "metadata": {
        "id": "2z1rsqIxDntd"
      },
      "source": [
        "#### 52. Consider a random vector with shape (100,2) representing coordinates, find point by point distances (★★☆) \n",
        "(**hint**: np.atleast\\_2d, T, np.sqrt)"
      ]
    },
    {
      "cell_type": "code",
      "execution_count": null,
      "metadata": {
        "id": "KaBKYT35Dntd",
        "colab": {
          "base_uri": "https://localhost:8080/"
        },
        "outputId": "4cffa3c9-a4fd-4240-a321-34fb3ac62ffb"
      },
      "outputs": [
        {
          "output_type": "stream",
          "name": "stdout",
          "text": [
            "[[0.         0.30514008 0.55070083 0.74978461 0.58939395 0.66472116\n",
            "  0.87695218 0.84899633 0.85432769 0.21650247 0.1676097  0.56587306\n",
            "  0.92509621 0.15777991 0.68294177 0.49793356 0.31989794 0.14603111\n",
            "  0.37013761 0.32579571 0.64553624 0.43991009 0.64977944 0.37823662\n",
            "  0.75497299 0.13021027 0.68051773 0.57376691 0.78152568 0.66767324\n",
            "  0.68212576 0.40028247 0.89164193 0.32286709 0.61901348 0.87677191\n",
            "  0.62173349 0.22880271 0.3583576  0.26402646 0.08265734 0.64376933\n",
            "  0.65758571 0.53927175 0.18527677 0.98325652 0.26701427 0.87101298\n",
            "  0.82055505 0.05774562 0.67249339 0.62356417 0.88681913 0.27169702\n",
            "  0.66953608 0.75311011 0.63412387 0.73039515 0.21573873 0.74770972\n",
            "  0.69571695 0.61446453 0.59760737 0.80566444 0.35754918 0.23093097\n",
            "  0.22049012 0.51732497 0.18300067 0.47433857 0.61597285 0.1591906\n",
            "  0.74947248 0.64116327 0.34563006 0.67449552 0.1719207  0.44600481\n",
            "  0.94214773 0.80149278 0.68008104 0.4393794  0.23319077 0.46155186\n",
            "  0.66005145 0.44318862 0.20012607 0.40784463 0.50081175 0.65320158\n",
            "  0.48717647 0.50311131 0.49889315 0.59867157 0.49302496 0.76551016\n",
            "  0.40407814 0.06906034 0.70256955 0.24915094]\n",
            " [0.30514008 0.         0.58096262 0.50923118 0.28465304 0.38217222\n",
            "  0.62750208 0.54392022 0.58323335 0.37843135 0.19996552 0.26194882\n",
            "  0.69733865 0.15094561 0.51847861 0.20944722 0.47824206 0.16529265\n",
            "  0.47398982 0.04076132 0.41801376 0.34377345 0.67274317 0.35791912\n",
            "  0.53748124 0.39348868 0.39261153 0.41537893 0.47672909 0.58694127\n",
            "  0.42693875 0.37677906 0.59485447 0.16924769 0.47488875 0.6138003\n",
            "  0.48642901 0.30512158 0.51280134 0.1692372  0.387771   0.63408779\n",
            "  0.37852469 0.34955079 0.30721553 0.73503153 0.25292098 0.57866923\n",
            "  0.57261751 0.32305477 0.45195218 0.31843892 0.61224561 0.38787\n",
            "  0.62171236 0.47953714 0.67851168 0.4318181  0.18154489 0.50682137\n",
            "  0.58853777 0.32558155 0.37370106 0.61431386 0.51520257 0.40081559\n",
            "  0.30555853 0.30846519 0.42900103 0.16929451 0.43722612 0.40716695\n",
            "  0.4606247  0.36150323 0.1330308  0.37199533 0.19355024 0.56181976\n",
            "  0.69132858 0.51316617 0.49627835 0.28252414 0.37176869 0.24682098\n",
            "  0.60873558 0.23703702 0.16206007 0.29503663 0.58087107 0.46366307\n",
            "  0.31325082 0.20571235 0.21630492 0.33072798 0.25874058 0.54563025\n",
            "  0.29090467 0.29353311 0.40791001 0.21937163]\n",
            " [0.55070083 0.58096262 0.         0.57690957 0.7481551  0.64588074\n",
            "  1.17655545 0.93562655 1.10911999 0.76541801 0.44181583 0.74278626\n",
            "  0.66171899 0.56876797 0.38353413 0.75499578 0.27259398 0.51346965\n",
            "  0.1931322  0.55465581 0.99104107 0.9027653  0.0996097  0.22304457\n",
            "  0.52664008 0.46660463 0.90779613 0.9947685  0.8555697  0.2265185\n",
            "  0.57680506 0.20487207 0.86377973 0.73147586 0.32428042 1.14887648\n",
            "  0.30867366 0.33025376 0.25146093 0.69934574 0.56876032 0.10913485\n",
            "  0.91215312 0.39604429 0.7206121  0.75669506 0.33884233 0.82362171\n",
            "  1.12586838 0.4980892  1.02626877 0.75932705 0.76356656 0.81550051\n",
            "  0.17531216 1.01056297 0.09764316 0.75643791 0.67316934 1.06881669\n",
            "  0.284746   0.64055435 0.94968401 0.50134751 0.25611945 0.7811739\n",
            "  0.33686982 0.42852283 0.72463719 0.65503216 0.38833261 0.43911985\n",
            "  0.72137115 0.62380544 0.46658158 0.83663326 0.64395481 0.16685633\n",
            "  0.7324341  1.01162268 0.41989632 0.35613427 0.77913144 0.82767725\n",
            "  0.17523046 0.427679   0.64381067 0.3100417  0.09529121 0.42081852\n",
            "  0.89265329 0.61861702 0.76887428 0.88389658 0.83660431 0.53791041\n",
            "  0.31281558 0.61340956 0.71665219 0.72342943]\n",
            " [0.74978461 0.50923118 0.57690957 0.         0.40117713 0.18703498\n",
            "  0.8087388  0.43801749 0.71252714 0.88236348 0.5839523  0.4185823\n",
            "  0.18919116 0.63421086 0.20656819 0.50630346 0.70595149 0.61246555\n",
            "  0.63993673 0.47002708 0.72213077 0.80927807 0.60730523 0.47358096\n",
            "  0.07387799 0.7703748  0.54627639 0.81391389 0.37112802 0.39195835\n",
            "  0.08955784 0.46674549 0.30675465 0.65805406 0.2534058  0.75994598\n",
            "  0.27041972 0.58633492 0.71712711 0.67559753 0.82125356 0.53506129\n",
            "  0.57645559 0.22530868 0.81201478 0.2334742  0.51175406 0.26286967\n",
            "  0.77508447 0.73489089 0.75510038 0.38098458 0.1866639  0.89672184\n",
            "  0.46426379 0.64272403 0.64465826 0.26995811 0.69053722 0.74922731\n",
            "  0.34154745 0.23816529 0.70305461 0.17211138 0.72218023 0.90464922\n",
            "  0.59441841 0.23424347 0.91419312 0.40788097 0.19062169 0.76399694\n",
            "  0.20203003 0.18834098 0.40971187 0.4420179  0.69709892 0.69093416\n",
            "  0.19299337 0.59823268 0.161833   0.324965   0.87846541 0.65149862\n",
            "  0.45304298 0.30661088 0.66907907 0.3753149  0.65028124 0.15609125\n",
            "  0.73073531 0.3395064  0.52444067 0.59238013 0.63100025 0.07048017\n",
            "  0.37727293 0.76933893 0.2403718  0.72770506]\n",
            " [0.58939395 0.28465304 0.7481551  0.40117713 0.         0.21548589\n",
            "  0.44102365 0.25995543 0.36296689 0.62563746 0.47219618 0.02764071\n",
            "  0.57650687 0.43300179 0.52263135 0.13157501 0.72604696 0.44926811\n",
            "  0.69955099 0.27134562 0.32100892 0.44876906 0.82180229 0.54391159\n",
            "  0.46202688 0.67473172 0.16498786 0.42142141 0.19834483 0.665203\n",
            "  0.31443276 0.55456527 0.34372076 0.34493281 0.51564007 0.40525881\n",
            "  0.5336346  0.55456561 0.75533057 0.38982367 0.6720495  0.76431676\n",
            "  0.18316744 0.38294622 0.55720918 0.57594183 0.48333109 0.34166204\n",
            "  0.39698115 0.60692944 0.35431565 0.0382879  0.41590261 0.61486378\n",
            "  0.72296311 0.26982163 0.84183403 0.19007175 0.42740792 0.3573925\n",
            "  0.64064798 0.1643363  0.30307448 0.56113198 0.75878272 0.6469382\n",
            "  0.55791292 0.33772446 0.69655172 0.11811502 0.4480901  0.68550501\n",
            "  0.25009731 0.21322737 0.31018466 0.09365229 0.45636128 0.78133891\n",
            "  0.53250346 0.26378209 0.4814338  0.39227121 0.61164628 0.27847467\n",
            "  0.70926633 0.32056711 0.42075443 0.43960305 0.77884364 0.45091529\n",
            "  0.35146717 0.12980699 0.14595248 0.19120302 0.24803906 0.46440139\n",
            "  0.43731605 0.57162616 0.18823881 0.44202413]\n",
            " [0.66472116 0.38217222 0.64588074 0.18703498 0.21548589 0.\n",
            "  0.62698516 0.2932366  0.53414126 0.75981077 0.5116636  0.23483904\n",
            "  0.36190667 0.52607603 0.34072044 0.32934923 0.70318626 0.51922789\n",
            "  0.65387671 0.34875678 0.5358369  0.64273524 0.7002984  0.48253325\n",
            "  0.25253006 0.71527778 0.3601546  0.63362122 0.21516764 0.50966659\n",
            "  0.1053314  0.48452345 0.23905188 0.5067898  0.35531595 0.58089462\n",
            "  0.37452934 0.55194399 0.72370439 0.53536893 0.74370821 0.6336376\n",
            "  0.38949315 0.2498437  0.68858355 0.37078675 0.47316084 0.21021623\n",
            "  0.59088516 0.66366381 0.56847546 0.19395334 0.23061628 0.76385614\n",
            "  0.57655457 0.45862667 0.72963932 0.11149165 0.55979639 0.5626477\n",
            "  0.47235542 0.06069592 0.51845119 0.35325824 0.72816463 0.78214398\n",
            "  0.55826963 0.22147343 0.80910706 0.24428337 0.28141331 0.71657291\n",
            "  0.08805074 0.02529901 0.32297952 0.25703262 0.57567447 0.72253831\n",
            "  0.32649406 0.4210931  0.29476738 0.31283387 0.75156711 0.47816154\n",
            "  0.56351771 0.25731024 0.54337805 0.37000592 0.69980511 0.26977307\n",
            "  0.55584219 0.1822035  0.34691875 0.40639089 0.45373442 0.25329053\n",
            "  0.36983154 0.66875762 0.07201305 0.58927015]\n",
            " [0.87695218 0.62750208 1.17655545 0.8087388  0.44102365 0.62698516\n",
            "  0.         0.41830775 0.10452363 0.80024659 0.82420075 0.43944792\n",
            "  0.95450399 0.73112008 0.95890617 0.42576359 1.10567385 0.77291353\n",
            "  1.09831932 0.63949209 0.23430669 0.49823138 1.25611235 0.96117962\n",
            "  0.87835149 0.99492803 0.27608961 0.35890705 0.45338297 1.10622607\n",
            "  0.73231281 0.97540136 0.6030068  0.55445288 0.95617726 0.06071014\n",
            "  0.97434299 0.93255306 1.14027655 0.61418816 0.95115992 1.20180147\n",
            "  0.26474125 0.82394751 0.75491322 0.91980202 0.8752792  0.6323019\n",
            "  0.05640429 0.91653745 0.21456095 0.44383593 0.74674028 0.75631594\n",
            "  1.16339849 0.17147797 1.27253956 0.54188417 0.66330425 0.13006798\n",
            "  1.08081059 0.59231358 0.28139031 0.9791739  1.14270169 0.8143636\n",
            "  0.93305925 0.77844526 0.90214209 0.52156918 0.88732108 1.01557568\n",
            "  0.61443961 0.63461071 0.71454455 0.37122415 0.70651975 1.18505045\n",
            "  0.88299169 0.21501186 0.91554831 0.82532311 0.77631019 0.41544416\n",
            "  1.14968157 0.75411928 0.67682611 0.86679599 1.19511599 0.88671038\n",
            "  0.40507743 0.56434646 0.41455407 0.29780519 0.38492757 0.87794846\n",
            "  0.86388215 0.82949109 0.56843208 0.64165525]\n",
            " [0.84899633 0.54392022 0.93562655 0.43801749 0.25995543 0.2932366\n",
            "  0.41830775 0.         0.31385721 0.8778502  0.72510789 0.28478214\n",
            "  0.5516668  0.69292061 0.62618909 0.37296235 0.96148711 0.70755306\n",
            "  0.92354937 0.52750097 0.44255916 0.66042559 0.99313753 0.75665145\n",
            "  0.51186811 0.93020734 0.24620652 0.58646532 0.08029272 0.80131605\n",
            "  0.3845182  0.76229819 0.18486863 0.59250139 0.6474806  0.36019103\n",
            "  0.66669526 0.7958517  0.98705386 0.64277357 0.93164815 0.92684713\n",
            "  0.29025381 0.54089181 0.81131384 0.5056521  0.72009002 0.21697475\n",
            "  0.40387385 0.86471173 0.46230142 0.22553471 0.3347629  0.86094479\n",
            "  0.86919258 0.28888947 1.02154026 0.18193415 0.68337448 0.41198912\n",
            "  0.76099849 0.29638493 0.45294775 0.6082767  0.99102118 0.89848294\n",
            "  0.8003754  0.50730849 0.95379115 0.37518637 0.57344532 0.93897934\n",
            "  0.23737136 0.31321008 0.54937153 0.18498837 0.71450891 0.99888102\n",
            "  0.47153302 0.20936587 0.57912766 0.58959122 0.8619111  0.49529497\n",
            "  0.85626929 0.52374486 0.67879971 0.64475425 0.9835779  0.55789599\n",
            "  0.55078134 0.36116069 0.38081034 0.34864301 0.45688123 0.50799459\n",
            "  0.64366484 0.83133564 0.22122818 0.69289628]\n",
            " [0.85432769 0.58323335 1.10911999 0.71252714 0.36296689 0.53414126\n",
            "  0.10452363 0.31385721 0.         0.80346026 0.78300473 0.36636677\n",
            "  0.85328432 0.7019722  0.87071942 0.37450248 1.0591201  0.73837846\n",
            "  1.04468419 0.58914268 0.24267316 0.51552343 1.18454218 0.89903608\n",
            "  0.78335736 0.96554369 0.20151583 0.39009441 0.35151487 1.02470361\n",
            "  0.63909961 0.91162726 0.49862972 0.53771922 0.87258448 0.047759\n",
            "  0.89113641 0.88500724 1.09207195 0.59785338 0.93218188 1.12725661\n",
            "  0.205138   0.74355305 0.75116104 0.81637878 0.82240284 0.52842994\n",
            "  0.10349046 0.88883475 0.23788888 0.35948722 0.64355088 0.7659102\n",
            "  1.0845101  0.10369916 1.20369683 0.44363839 0.6467425  0.15221607\n",
            "  0.99608457 0.50423861 0.28236798 0.88394608 1.09488155 0.81969786\n",
            "  0.88644507 0.69948016 0.90061038 0.45715576 0.80199092 0.98365831\n",
            "  0.5153969  0.54380127 0.65526414 0.28332624 0.68835086 1.12983505\n",
            "  0.78006199 0.11445032 0.82629331 0.75423092 0.78112289 0.40083554\n",
            "  1.07085747 0.68250419 0.65601207 0.79931684 1.13431545 0.79858921\n",
            "  0.41087968 0.49111203 0.36696044 0.25646943 0.36463341 0.78233939\n",
            "  0.79672752 0.81331818 0.47236874 0.63267882]\n",
            " [0.21650247 0.37843135 0.76541801 0.88236348 0.62563746 0.75981077\n",
            "  0.80024659 0.8778502  0.80346026 0.         0.34710313 0.5985019\n",
            "  1.06780807 0.25152746 0.85449893 0.50492768 0.53393071 0.28817411\n",
            "  0.58664008 0.41488913 0.56785086 0.30827966 0.86481484 0.58007458\n",
            "  0.90222137 0.331091   0.66570878 0.45425256 0.82367844 0.86604591\n",
            "  0.80325436 0.60269836 0.9614186  0.28607168 0.79674358 0.81475733\n",
            "  0.80268677 0.43811745 0.5717433  0.23585832 0.23205934 0.85532469\n",
            "  0.63184316 0.69551125 0.07124389 1.11154336 0.45926947 0.94994196\n",
            "  0.74584301 0.27281499 0.5857866  0.66362481 0.99027503 0.0628489\n",
            "  0.8752363  0.7120451  0.85027762 0.79877793 0.20136598 0.67165818\n",
            "  0.88751975 0.70195098 0.52325377 0.96752042 0.57049838 0.02239251\n",
            "  0.43057507 0.66346122 0.10692142 0.5291145  0.77973996 0.36272958\n",
            "  0.83544022 0.73968392 0.47641128 0.69316532 0.1856902  0.66160524\n",
            "  1.06819165 0.77899968 0.84322151 0.60412313 0.02615365 0.40724195\n",
            "  0.86489299 0.58680847 0.21650944 0.58611867 0.71731349 0.81305712\n",
            "  0.39578184 0.57987303 0.49805773 0.56594631 0.44647205 0.91150863\n",
            "  0.58192428 0.152085   0.77961975 0.18498984]\n",
            " [0.1676097  0.19996552 0.44181583 0.5839523  0.47219618 0.5116636\n",
            "  0.82420075 0.72510789 0.78300473 0.34710313 0.         0.45272527\n",
            "  0.75767643 0.12742744 0.51767331 0.40940094 0.28407893 0.07173758\n",
            "  0.29548716 0.20167144 0.60649913 0.46685242 0.54055052 0.23646079\n",
            "  0.58746363 0.206517   0.59209143 0.5747251  0.65200027 0.51915088\n",
            "  0.51940162 0.25912201 0.74542104 0.30454479 0.45558413 0.8128134\n",
            "  0.45972716 0.11992717 0.3207468  0.26281724 0.23756409 0.51976257\n",
            "  0.57845611 0.37166261 0.29001842 0.8173426  0.11285491 0.72106357\n",
            "  0.76868935 0.15301859 0.63858225 0.50185066 0.72744714 0.38706028\n",
            "  0.53157097 0.67932919 0.53507757 0.58825747 0.23208205 0.70061577\n",
            "  0.54079966 0.46630039 0.56000176 0.63875376 0.32249167 0.36666298\n",
            "  0.1169898  0.35055104 0.34440784 0.3541243  0.44895257 0.21388778\n",
            "  0.5985679  0.48718449 0.18869764 0.56369496 0.20231726 0.38309748\n",
            "  0.77673541 0.71218819 0.51311939 0.2719784  0.35474664 0.42479907\n",
            "  0.52063139 0.27761681 0.20309365 0.24350203 0.41716913 0.48584006\n",
            "  0.47545867 0.3661643  0.41605289 0.52922844 0.44564079 0.59805371\n",
            "  0.2395298  0.20315096 0.55687607 0.28200857]\n",
            " [0.56587306 0.26194882 0.74278626 0.4185823  0.02764071 0.23483904\n",
            "  0.43944792 0.28478214 0.36636677 0.5985019  0.45272527 0.\n",
            "  0.59669463 0.40894868 0.53113635 0.10448522 0.71117146 0.42708191\n",
            "  0.68740638 0.25117599 0.30554714 0.42238963 0.81873102 0.5349518\n",
            "  0.47722346 0.65377244 0.16542045 0.39933604 0.22522555 0.66815254\n",
            "  0.33065252 0.54655993 0.37127848 0.31736241 0.52055191 0.40696468\n",
            "  0.53817344 0.53869684 0.7412678  0.36265242 0.64849307 0.76286035\n",
            "  0.17698557 0.38596408 0.53027416 0.59906795 0.46906524 0.3687408\n",
            "  0.39317812 0.58486549 0.3397126  0.06590154 0.44088099 0.5873334\n",
            "  0.72412119 0.26957523 0.8373565  0.21665382 0.4007269  0.34915014\n",
            "  0.64588715 0.18047891 0.28447385 0.57538191 0.74459014 0.61974525\n",
            "  0.54169279 0.33973617 0.67026861 0.09957098 0.45479989 0.6653647\n",
            "  0.27480036 0.23024637 0.29669542 0.11098568 0.43030711 0.77027922\n",
            "  0.55540098 0.27247125 0.49117775 0.38802943 0.58433708 0.25246969\n",
            "  0.71039717 0.31635853 0.3946477  0.43314329 0.77028098 0.45997266\n",
            "  0.32656208 0.12523915 0.1194526  0.17575926 0.22317592 0.48016206\n",
            "  0.43063211 0.54656949 0.21282038 0.41469011]\n",
            " [0.92509621 0.69733865 0.66171899 0.18919116 0.57650687 0.36190667\n",
            "  0.95450399 0.5516668  0.85328432 1.06780807 0.75767643 0.59669463\n",
            "  0.         0.81792957 0.28466998 0.68971786 0.84054604 0.79248827\n",
            "  0.76607839 0.6577381  0.89443822 0.99703699 0.66465633 0.61315795\n",
            "  0.17044674 0.93268024 0.70765069 0.99543935 0.50179856 0.44315103\n",
            "  0.2769432  0.60128509 0.37979688 0.84723089 0.35361437 0.90100902\n",
            "  0.36365852 0.74373467 0.84499791 0.86440081 0.99267609 0.59208913\n",
            "  0.74227014 0.38690637 0.9979482  0.10102188 0.67424342 0.33904925\n",
            "  0.9272555  0.90506437 0.9258719  0.55128114 0.22111845 1.08413942\n",
            "  0.51216422 0.79648748 0.70825291 0.41619541 0.87825167 0.91040734\n",
            "  0.38373667 0.41901518 0.87949097 0.16057289 0.85026432 1.08999348\n",
            "  0.75238256 0.40866714 1.09472524 0.59513371 0.32100183 0.92266551\n",
            "  0.34303547 0.36928288 0.59233941 0.60220545 0.88321295 0.80137114\n",
            "  0.09850982 0.73969874 0.2626786  0.4885438  1.06484604 0.83693322\n",
            "  0.50468277 0.48463372 0.85611384 0.53093455 0.74797851 0.28074789\n",
            "  0.9156179  0.52723739 0.70759061 0.76612769 0.81449794 0.15964804\n",
            "  0.53375955 0.94963593 0.39760018 0.91624975]\n",
            " [0.15777991 0.15094561 0.56876797 0.63421086 0.43300179 0.52607603\n",
            "  0.73112008 0.69292061 0.7019722  0.25152746 0.12742744 0.40894868\n",
            "  0.81792957 0.         0.6046607  0.34058541 0.3987806  0.05586289\n",
            "  0.42007992 0.17805357 0.50432874 0.34090349 0.66717271 0.35829524\n",
            "  0.65130113 0.26417107 0.52384546 0.45554704 0.62715505 0.63150817\n",
            "  0.55818789 0.3806327  0.7447499  0.18721232 0.54914543 0.7267926\n",
            "  0.55638233 0.24580342 0.4370412  0.13834088 0.24004239 0.64380377\n",
            "  0.50245926 0.44407979 0.18441477 0.86547543 0.23387199 0.72716374\n",
            "  0.67482514 0.1868626  0.53403009 0.46790973 0.75384508 0.27857396\n",
            "  0.65042094 0.5996858  0.66242847 0.58202215 0.10465462 0.60358277\n",
            "  0.64677296 0.47191921 0.45664184 0.71608479 0.43806249 0.27334105\n",
            "  0.24172907 0.41211335 0.28353971 0.31972175 0.52877699 0.28453335\n",
            "  0.60755194 0.50393957 0.22564124 0.51699003 0.07859932 0.50668305\n",
            "  0.82271723 0.64500972 0.59203291 0.35439955 0.25222024 0.31919364\n",
            "  0.63885077 0.33542247 0.07579683 0.34187001 0.54393151 0.56165757\n",
            "  0.35941866 0.35492712 0.34221663 0.44554062 0.34637513 0.66076565\n",
            "  0.33755657 0.14338965 0.55684863 0.15468788]\n",
            " [0.68294177 0.51847861 0.38353413 0.20656819 0.52263135 0.34072044\n",
            "  0.95890617 0.62618909 0.87071942 0.85449893 0.51767331 0.53113635\n",
            "  0.28466998 0.6046607  0.         0.59346865 0.55869999 0.56708869\n",
            "  0.48241619 0.47813909 0.83203901 0.85571342 0.40334874 0.33709882\n",
            "  0.14532652 0.6692908  0.68460206 0.89402779 0.55210856 0.18543299\n",
            "  0.24174668 0.32259726 0.51180406 0.6859671  0.07057018 0.9165573\n",
            "  0.0789906  0.4789692  0.56134144 0.68537763 0.74138378 0.33045628\n",
            "  0.70578888 0.16927194 0.78902439 0.37513439 0.41846302 0.46839591\n",
            "  0.91811815 0.65347599 0.86731396 0.51526676 0.38939459 0.88267261\n",
            "  0.25785862 0.78785266 0.44268426 0.44678934 0.68565266 0.87973441\n",
            "  0.13636919 0.36682945 0.80330213 0.13162578 0.56663007 0.87567621\n",
            "  0.48799265 0.21368659 0.86207905 0.48229552 0.08234593 0.65541486\n",
            "  0.39035053 0.32776894 0.39012072 0.5883315  0.6790787  0.5169954\n",
            "  0.34908508 0.75934376 0.0471743  0.25041068 0.85677744 0.72036409\n",
            "  0.24689127 0.28144647 0.65903646 0.27511996 0.46580547 0.07220729\n",
            "  0.79914857 0.4183622  0.61146748 0.70448144 0.71036649 0.15598126\n",
            "  0.2788645  0.71959509 0.40999042 0.73111002]\n",
            " [0.49793356 0.20944722 0.75499578 0.50630346 0.13157501 0.32934923\n",
            "  0.42576359 0.37296235 0.37450248 0.50492768 0.40940094 0.10448522\n",
            "  0.68971786 0.34058541 0.59346865 0.         0.68477472 0.36966095\n",
            "  0.6731986  0.21515862 0.24353603 0.31844264 0.83871718 0.53669712\n",
            "  0.55886914 0.5989215  0.18427423 0.30808749 0.32268313 0.71099814\n",
            "  0.41686111 0.55182606 0.47484501 0.21968612 0.57201335 0.40692949\n",
            "  0.58813429 0.51071933 0.71808907 0.27040645 0.57942069 0.7893034\n",
            "  0.16941603 0.43478581 0.43893864 0.69837849 0.45019442 0.47318833\n",
            "  0.37287265 0.52498718 0.27942528 0.16903885 0.54360964 0.48910908\n",
            "  0.76021156 0.27086867 0.85192317 0.32109626 0.31293199 0.31382444\n",
            "  0.69652755 0.27076549 0.21041776 0.65356548 0.72080257 0.52552112\n",
            "  0.51202086 0.3871644  0.58349001 0.11180291 0.51311512 0.61459281\n",
            "  0.37749992 0.32043759 0.28968246 0.18826466 0.34735917 0.75956179\n",
            "  0.65435787 0.30545901 0.55776154 0.41236697 0.48900223 0.14969609\n",
            "  0.74655076 0.34435808 0.31187837 0.44757238 0.76972631 0.52511059\n",
            "  0.22650694 0.1759185  0.01833345 0.12912321 0.12482266 0.56321325\n",
            "  0.4442976  0.46926754 0.31561874 0.31995052]\n",
            " [0.31989794 0.47824206 0.27259398 0.70595149 0.72604696 0.70318626\n",
            "  1.10567385 0.96148711 1.0591201  0.53393071 0.28407893 0.71117146\n",
            "  0.84054604 0.3987806  0.55869999 0.68477472 0.         0.34612184\n",
            "  0.08383894 0.47002528 0.89046279 0.73613843 0.36231487 0.23237325\n",
            "  0.67933511 0.2084912  0.86297153 0.85420981 0.88318656 0.4614331\n",
            "  0.67123004 0.2405402  0.94140919 0.58470049 0.48831079 1.09133453\n",
            "  0.48095681 0.17412867 0.03901412 0.5368204  0.31412297 0.38034803\n",
            "  0.85399068 0.48354085 0.50425213 0.9230169  0.24293481 0.90848161\n",
            "  1.05060207 0.26226041 0.92265382 0.74961517 0.88155024 0.59121779\n",
            "  0.43321089 0.95558529 0.33544317 0.80095077 0.49762366 0.98360698\n",
            "  0.50932412 0.67438239 0.84406099 0.68999712 0.03937157 0.54586582\n",
            "  0.17283831 0.49098703 0.47381585 0.61201596 0.5239293  0.17769995\n",
            "  0.79001697 0.67802531 0.41619844 0.81968747 0.45864888 0.13007187\n",
            "  0.8897909  0.98032508 0.57814343 0.39415518 0.55233084 0.70876527\n",
            "  0.42847699 0.44626477 0.47170504 0.33766835 0.19660106 0.56396512\n",
            "  0.75686108 0.60383399 0.69347026 0.80887244 0.72956656 0.69122086\n",
            "  0.3369174  0.38861175 0.7639253  0.54320714]\n",
            " [0.14603111 0.16529265 0.51346965 0.61246555 0.44926811 0.51922789\n",
            "  0.77291353 0.70755306 0.73837846 0.28817411 0.07173758 0.42708191\n",
            "  0.79248827 0.05586289 0.56708869 0.36966095 0.34612184 0.\n",
            "  0.36466239 0.18111008 0.54973011 0.39642327 0.61209024 0.30535207\n",
            "  0.62379076 0.22933242 0.55393407 0.50839413 0.63824785 0.58310941\n",
            "  0.54097735 0.32786941 0.74565249 0.23858808 0.50859273 0.76546131\n",
            "  0.51454894 0.19002963 0.38398801 0.19306413 0.22715698 0.59009158\n",
            "  0.53597452 0.41176948 0.22606732 0.84542025 0.18077825 0.72502712\n",
            "  0.71687119 0.15778822 0.58056133 0.48209145 0.7429284  0.32263063\n",
            "  0.59915039 0.63520904 0.60681342 0.58462553 0.16045318 0.64690121\n",
            "  0.60117801 0.4684823  0.50246029 0.68298941 0.38523505 0.30896655\n",
            "  0.18611711 0.38402418 0.30225161 0.33238733 0.49391763 0.24544416\n",
            "  0.60360145 0.49589658 0.20364983 0.53728231 0.13116506 0.45156606\n",
            "  0.80348806 0.67508253 0.557846   0.31711482 0.2927487  0.36556146\n",
            "  0.58785677 0.30785674 0.13165605 0.29813969 0.48809745 0.52865123\n",
            "  0.41075155 0.35758058 0.37367936 0.48230978 0.38988694 0.63377531\n",
            "  0.29391781 0.1571633  0.55655606 0.21028277]\n",
            " [0.37013761 0.47398982 0.1931322  0.63993673 0.69955099 0.65387671\n",
            "  1.09831932 0.92354937 1.04468419 0.58664008 0.29548716 0.68740638\n",
            "  0.76607839 0.42007992 0.48241619 0.6731986  0.08383894 0.36466239\n",
            "  0.         0.45884239 0.89170393 0.76098306 0.2873351  0.17192423\n",
            "  0.60834152 0.2750454  0.84526783 0.86976541 0.84404959 0.37794936\n",
            "  0.61235146 0.17411826 0.88955507 0.59979268 0.41258604 1.07953223\n",
            "  0.40387821 0.17564129 0.07893607 0.55764843 0.3789004  0.29903274\n",
            "  0.84050545 0.42216658 0.54907924 0.85128605 0.22305392 0.8545626\n",
            "  1.04436133 0.31452472 0.92522307 0.71969119 0.81961653 0.64063616\n",
            "  0.3496014  0.94198627 0.26591803 0.75631078 0.52342214 0.98025699\n",
            "  0.42671229 0.6308296  0.84668229 0.61294727 0.08421776 0.60064801\n",
            "  0.17868966 0.4357247  0.53694999 0.59014748 0.45375332 0.24666875\n",
            "  0.73896801 0.62911607 0.39098967 0.79283225 0.48816855 0.08824084\n",
            "  0.81961181 0.95941889 0.50487564 0.34112431 0.60275754 0.7147925\n",
            "  0.34470764 0.40092288 0.4955392  0.28389532 0.13067972 0.49315768\n",
            "  0.76975983 0.5729299  0.68378921 0.8005205  0.731496   0.62023923\n",
            "  0.28405259 0.43648838 0.71809122 0.57173115]\n",
            " [0.32579571 0.04076132 0.55465581 0.47002708 0.27134562 0.34875678\n",
            "  0.63949209 0.52750097 0.58914268 0.41488913 0.20167144 0.25117599\n",
            "  0.6577381  0.17805357 0.47813909 0.21515862 0.47002528 0.18111008\n",
            "  0.45884239 0.         0.43808632 0.38178948 0.64441017 0.33212352\n",
            "  0.49712437 0.40348356 0.39367849 0.44662751 0.45727522 0.55055958\n",
            "  0.38877744 0.34980393 0.56745404 0.20849362 0.43551285 0.62208759\n",
            "  0.44742296 0.295897   0.50300569 0.20995179 0.4078074  0.60307109\n",
            "  0.38404857 0.30908304 0.34386373 0.69707977 0.23584497 0.54918494\n",
            "  0.5855531  0.33734322 0.47284373 0.30251927 0.57779454 0.42669802\n",
            "  0.5875186  0.48568505 0.65229669 0.40526299 0.22054734 0.52234234\n",
            "  0.55043156 0.29391679 0.3955148  0.57356293 0.50576839 0.43727817\n",
            "  0.29753401 0.26774059 0.4603922  0.15330898 0.39673708 0.41427966\n",
            "  0.42952618 0.32719677 0.09612279 0.36216153 0.22927088 0.54580111\n",
            "  0.65355349 0.51255966 0.45558702 0.24476019 0.40932867 0.27467421\n",
            "  0.574385   0.19677724 0.19946622 0.2611949  0.56012654 0.42294179\n",
            "  0.34498537 0.17776739 0.22503659 0.34168726 0.28195332 0.50537372\n",
            "  0.25719084 0.32138525 0.37907714 0.259705  ]\n",
            " [0.64553624 0.41801376 0.99104107 0.72213077 0.32100892 0.5358369\n",
            "  0.23430669 0.44255916 0.24267316 0.56785086 0.60649913 0.30554714\n",
            "  0.89443822 0.50432874 0.83203901 0.24353603 0.89046279 0.54973011\n",
            "  0.89170393 0.43808632 0.         0.2730737  1.07778375 0.76956375\n",
            "  0.78253872 0.76633295 0.201529   0.15319219 0.4353221  0.95450216\n",
            "  0.63532809 0.78638471 0.60422839 0.32270697 0.8142243  0.24767789\n",
            "  0.83069316 0.72031014 0.92659683 0.38175365 0.71824952 1.03070931\n",
            "  0.15920015 0.6771229  0.52083677 0.88448159 0.67084452 0.61893413\n",
            "  0.17873605 0.68738872 0.03589535 0.34323879 0.7157573  0.52661782\n",
            "  1.00348019 0.1731223  1.08852729 0.48657491 0.43064292 0.10437613\n",
            "  0.93914306 0.48505702 0.04794472 0.88092575 0.9285723  0.58278708\n",
            "  0.71972415 0.62955499 0.66859724 0.3545411  0.75310314 0.78842372\n",
            "  0.5568364  0.53421866 0.52470661 0.29979967 0.47417829 0.97968282\n",
            "  0.84249955 0.259584   0.79400889 0.65495413 0.54444839 0.18522969\n",
            "  0.98983847 0.58771063 0.44575643 0.68741709 0.99786797 0.76206007\n",
            "  0.17208362 0.41421437 0.22703571 0.12994572 0.16090559 0.78519819\n",
            "  0.68392994 0.59612364 0.49814907 0.40746811]\n",
            " [0.43991009 0.34377345 0.9027653  0.80927807 0.44876906 0.64273524\n",
            "  0.49823138 0.66042559 0.51552343 0.30827966 0.46685242 0.42238963\n",
            "  0.99703699 0.34090349 0.85571342 0.31844264 0.73613843 0.39642327\n",
            "  0.76098306 0.38178948 0.2730737  0.         0.99926085 0.6839577\n",
            "  0.85249622 0.5698004  0.41971678 0.14597295 0.62689377 0.93029848\n",
            "  0.72029841 0.70502883 0.78806424 0.17574124 0.81671427 0.51956744\n",
            "  0.82903194 0.58635748 0.77490495 0.20422817 0.49757298 0.96818457\n",
            "  0.37811456 0.68668322 0.27670002 1.01347928 0.56392426 0.78974729\n",
            "  0.44578943 0.49251138 0.28463745 0.48488909 0.86181948 0.2592604\n",
            "  0.96238109 0.43614973 0.99838477 0.6388402  0.23865105 0.37301791\n",
            "  0.93214184 0.58249252 0.23474697 0.93948395 0.77550268 0.31985712\n",
            "  0.5825386  0.6422838  0.41407219 0.40194559 0.77347897 0.59742546\n",
            "  0.69579991 0.63056698 0.47678109 0.48257406 0.27798708 0.84746353\n",
            "  0.96921447 0.51518277 0.82876701 0.6262173  0.28300859 0.17073297\n",
            "  0.94969003 0.57653748 0.26563784 0.63673732 0.88400189 0.79554206\n",
            "  0.11153162 0.46987019 0.30294075 0.31393909 0.20558603 0.85870126\n",
            "  0.63249998 0.37715268 0.63398818 0.19377485]\n",
            " [0.64977944 0.67274317 0.0996097  0.60730523 0.82180229 0.7002984\n",
            "  1.25611235 0.99313753 1.18454218 0.86481484 0.54055052 0.81873102\n",
            "  0.66465633 0.66717271 0.40334874 0.83871718 0.36231487 0.61209024\n",
            "  0.2873351  0.64441017 1.07778375 0.99926085 0.         0.31621644\n",
            "  0.5485746  0.56232124 0.98414991 1.08777412 0.9139282  0.22258594\n",
            "  0.62104965 0.29625469 0.90572096 0.82683064 0.35614183 1.22569553\n",
            "  0.33799713 0.4298254  0.33627493 0.79642744 0.66559106 0.07325093\n",
            "  0.99137489 0.45315529 0.82022067 0.76351181 0.43573156 0.86380873\n",
            "  1.20671513 0.59666792 1.11329292 0.82974202 0.79235297 0.91508979\n",
            "  0.15254709 1.08802974 0.04679963 0.81177752 0.77136813 1.15210006\n",
            "  0.28126947 0.70227925 1.03761921 0.5052856  0.34039958 0.88042526\n",
            "  0.43647333 0.49136029 0.82245869 0.73523549 0.42740491 0.53396113\n",
            "  0.76979029 0.67994039 0.55343141 0.90743092 0.74282632 0.24276868\n",
            "  0.74436963 1.08356256 0.44572164 0.43092075 0.8786681  0.91871546\n",
            "  0.16022946 0.50243224 0.74192518 0.39114567 0.16834786 0.45385867\n",
            "  0.98558432 0.69359105 0.85336089 0.96687592 0.92574452 0.55898249\n",
            "  0.39443182 0.71285209 0.77214287 0.82172821]\n",
            " [0.37823662 0.35791912 0.22304457 0.47358096 0.54391159 0.48253325\n",
            "  0.96117962 0.75665145 0.89903608 0.58007458 0.23646079 0.5349518\n",
            "  0.61315795 0.35829524 0.33709882 0.53669712 0.23237325 0.30535207\n",
            "  0.17192423 0.33212352 0.76956375 0.6839577  0.31621644 0.\n",
            "  0.44884889 0.33776538 0.69768444 0.77208226 0.67668335 0.28948131\n",
            "  0.44123998 0.02269136 0.71766584 0.5107808  0.26692535 0.936821\n",
            "  0.26349499 0.15246208 0.24560701 0.48230916 0.42140527 0.28593923\n",
            "  0.69822825 0.25191078 0.52597001 0.69253635 0.12458941 0.68265694\n",
            "  0.90924052 0.33672015 0.80457999 0.56035435 0.6500946  0.62292099\n",
            "  0.29548306 0.79832029 0.32061888 0.58635441 0.46063352 0.84992604\n",
            "  0.32062642 0.46184191 0.72755856 0.46840056 0.2504656  0.59851408\n",
            "  0.16147885 0.26380061 0.56106396 0.44197027 0.29351583 0.32085134\n",
            "  0.56720582 0.45792346 0.24701548 0.63575096 0.43615516 0.24223319\n",
            "  0.65837546 0.80706972 0.35066833 0.16973267 0.58957815 0.60464251\n",
            "  0.28488903 0.23294079 0.43102259 0.11277141 0.23538273 0.33383518\n",
            "  0.66992029 0.41467832 0.54973125 0.66581666 0.61401695 0.46068754\n",
            "  0.11337989 0.43055224 0.54774124 0.51114489]\n",
            " [0.75497299 0.53748124 0.52664008 0.07387799 0.46202688 0.25253006\n",
            "  0.87835149 0.51186811 0.78335736 0.90222137 0.58746363 0.47722346\n",
            "  0.17044674 0.65130113 0.14532652 0.55886914 0.67933511 0.62379076\n",
            "  0.60834152 0.49712437 0.78253872 0.85249622 0.5485746  0.44884889\n",
            "  0.         0.76297544 0.61259052 0.866884   0.44440589 0.32897412\n",
            "  0.14818321 0.43883115 0.37745273 0.69436484 0.20351561 0.83060085\n",
            "  0.21807365 0.57468924 0.68680665 0.70628361 0.82223304 0.47558101\n",
            "  0.64085422 0.21645993 0.83304646 0.24374497 0.50421029 0.33322748\n",
            "  0.84325537 0.73461895 0.8162349  0.44496739 0.24537059 0.92131884\n",
            "  0.40158337 0.71092801 0.5879957  0.34227288 0.71657151 0.81466271\n",
            "  0.27542244 0.2976906  0.76087099 0.10084749 0.69199462 0.92426587\n",
            "  0.58323764 0.23983029 0.925825   0.45506063 0.15545335 0.75364283\n",
            "  0.27554743 0.24941646 0.42582627 0.50947438 0.71881373 0.65187487\n",
            "  0.21138282 0.66929313 0.10710104 0.31814125 0.90039125 0.70021611\n",
            "  0.39114784 0.31636329 0.69317524 0.36159325 0.60550943 0.11538753\n",
            "  0.77991735 0.38642377 0.57717912 0.65259677 0.68257889 0.01190003\n",
            "  0.3642745  0.78079662 0.31105616 0.756814  ]\n",
            " [0.13021027 0.39348868 0.46660463 0.7703748  0.67473172 0.71527778\n",
            "  0.99492803 0.93020734 0.96554369 0.331091   0.206517   0.65377244\n",
            "  0.93268024 0.26417107 0.6692908  0.5989215  0.2084912  0.22933242\n",
            "  0.2750454  0.40348356 0.76633295 0.5698004  0.56232124 0.33776538\n",
            "  0.76297544 0.         0.78319129 0.70194683 0.8579566  0.61904975\n",
            "  0.7139892  0.35679471 0.95081792 0.444572   0.60067237 0.99091713\n",
            "  0.59934351 0.19041145 0.24434805 0.3877816  0.10563202 0.56861578\n",
            "  0.76443209 0.5480442  0.31201233 1.00143318 0.25914563 0.92530959\n",
            "  0.93858055 0.07923783 0.79477517 0.70584339 0.92512574 0.3910322\n",
            "  0.60757928 0.86283967 0.53996353 0.794576   0.34109347 0.8668424\n",
            "  0.65635238 0.67185171 0.71843861 0.79846214 0.24246141 0.34102889\n",
            "  0.18145403 0.53688388 0.26533325 0.55678232 0.61329339 0.03171821\n",
            "  0.80278499 0.69046013 0.39345032 0.76453961 0.29762347 0.33852332\n",
            "  0.96288992 0.9043724  0.6754762  0.4463658  0.35160981 0.58120524\n",
            "  0.60004658 0.47036902 0.32176047 0.40180198 0.40199769 0.6529334\n",
            "  0.61282723 0.57247948 0.60255705 0.70908522 0.6100082  0.77429697\n",
            "  0.39892761 0.19701343 0.76273173 0.37793489]\n",
            " [0.68051773 0.39261153 0.90779613 0.54627639 0.16498786 0.3601546\n",
            "  0.27608961 0.24620652 0.20151583 0.66570878 0.59209143 0.16542045\n",
            "  0.70765069 0.52384546 0.68460206 0.18427423 0.86297153 0.55393407\n",
            "  0.84526783 0.39367849 0.201529   0.41971678 0.98414991 0.69768444\n",
            "  0.61259052 0.78319129 0.         0.34051046 0.23383028 0.83016914\n",
            "  0.4646854  0.71013941 0.40270355 0.38240263 0.6801851  0.24154609\n",
            "  0.69830209 0.68898427 0.89494419 0.43963461 0.76132096 0.92799625\n",
            "  0.04410175 0.54793237 0.60470173 0.68961497 0.6238717  0.4182153\n",
            "  0.23352688 0.70902586 0.22674209 0.16974748 0.51859719 0.63966751\n",
            "  0.88781297 0.10484729 1.00262374 0.29281535 0.48599902 0.2033434\n",
            "  0.80496149 0.31953741 0.20703476 0.71317143 0.89794389 0.68469511\n",
            "  0.69097081 0.50264023 0.75307543 0.2560804  0.61177181 0.79876727\n",
            "  0.36529075 0.36448867 0.45486151 0.10547607 0.52392584 0.92976159\n",
            "  0.64874472 0.12125104 0.64210554 0.55342755 0.64663452 0.26318796\n",
            "  0.87410834 0.48177303 0.48924262 0.59789614 0.93302053 0.61252064\n",
            "  0.30855426 0.29059856 0.18165871 0.10588706 0.22325434 0.61343555\n",
            "  0.59527808 0.64804401 0.31059197 0.48344165]\n",
            " [0.57376691 0.41537893 0.9947685  0.81391389 0.42142141 0.63362122\n",
            "  0.35890705 0.58646532 0.39009441 0.45425256 0.5747251  0.39933604\n",
            "  0.99543935 0.45554704 0.89402779 0.30808749 0.85420981 0.50839413\n",
            "  0.86976541 0.44662751 0.15319219 0.14597295 1.08777412 0.77208226\n",
            "  0.866884   0.70194683 0.34051046 0.         0.56919065 0.99305432\n",
            "  0.7246224  0.79155527 0.7372482  0.27022084 0.8650731  0.38690818\n",
            "  0.87961278 0.69419465 0.89229166 0.31840181 0.63684266 1.04923208\n",
            "  0.29640944 0.72928938 0.42036083 0.9972346  0.65945886 0.74687945\n",
            "  0.30934248 0.62323176 0.15225486 0.45176224 0.83434988 0.40434174\n",
            "  1.03346639 0.32628616 1.09201096 0.60446031 0.361918   0.2401827\n",
            "  0.98659961 0.57687093 0.13351965 0.96090669 0.89343404 0.46564953\n",
            "  0.69168897 0.68231515 0.55993876 0.41434862 0.81224731 0.727901\n",
            "  0.67007394 0.62684813 0.54190466 0.42640528 0.40472231 0.95767047\n",
            "  0.95389395 0.4122572  0.86108882 0.68640393 0.4289587  0.17517022\n",
            "  1.02020665 0.62680011 0.38475093 0.70772739 0.98689366 0.82802102\n",
            "  0.10219002 0.48194193 0.28981404 0.24454202 0.18478587 0.87129543\n",
            "  0.7037573  0.51469434 0.60875971 0.32465351]\n",
            " [0.78152568 0.47672909 0.8555697  0.37112802 0.19834483 0.21516764\n",
            "  0.45338297 0.08029272 0.35151487 0.82367844 0.65200027 0.22522555\n",
            "  0.50179856 0.62715505 0.55210856 0.32268313 0.88318656 0.63824785\n",
            "  0.84404959 0.45727522 0.4353221  0.62689377 0.9139282  0.67668335\n",
            "  0.44440589 0.8579566  0.23383028 0.56919065 0.         0.72459796\n",
            "  0.31059664 0.68214671 0.16896697 0.54118631 0.570372   0.39922378\n",
            "  0.58959094 0.71891161 0.90822788 0.58782011 0.86402245 0.84813805\n",
            "  0.27650183 0.46126039 0.75548845 0.46811559 0.64252499 0.18620024\n",
            "  0.4296969  0.79443564 0.46007053 0.16093255 0.29479861 0.81120851\n",
            "  0.79172111 0.30309752 0.9418821  0.10534342 0.6257511  0.42390703\n",
            "  0.68584433 0.21609334 0.43716136 0.54300597 0.9122522  0.84486315\n",
            "  0.72367714 0.42715521 0.89463902 0.30748082 0.49639774 0.86557504\n",
            "  0.16922725 0.23412955 0.47309167 0.14488631 0.65426989 0.91891525\n",
            "  0.43015286 0.23837133 0.5053002  0.50937333 0.80925369 0.45753167\n",
            "  0.77868422 0.44384774 0.61874013 0.5646551  0.90329207 0.48266046\n",
            "  0.52067483 0.28619363 0.33339253 0.325069   0.42130984 0.44159797\n",
            "  0.56360667 0.76772456 0.14338213 0.63959475]\n",
            " [0.66767324 0.58694127 0.2265185  0.39195835 0.665203   0.50966659\n",
            "  1.10622607 0.80131605 1.02470361 0.86604591 0.51915088 0.66815254\n",
            "  0.44315103 0.63150817 0.18543299 0.71099814 0.4614331  0.58310941\n",
            "  0.37794936 0.55055958 0.95450216 0.93029848 0.22258594 0.28948131\n",
            "  0.32897412 0.61904975 0.83016914 0.99305432 0.72459796 0.\n",
            "  0.41880231 0.26767686 0.69620113 0.75476044 0.15448398 1.06882523\n",
            "  0.13532928 0.44108288 0.4522373  0.73958303 0.70886757 0.14946374\n",
            "  0.8451026  0.28232942 0.80842052 0.54133777 0.40678578 0.65309974\n",
            "  1.06125808 0.62558261 0.99037782 0.66522526 0.57415808 0.90535821\n",
            "  0.07261101 0.93495919 0.26524527 0.61973546 0.72752624 1.01512882\n",
            "  0.0596411  0.52406218 0.91994808 0.28313104 0.45745365 0.8852049\n",
            "  0.44994055 0.32848425 0.85054176 0.60023878 0.22825364 0.59782205\n",
            "  0.56911662 0.49270598 0.45451585 0.7417317  0.71002036 0.38458736\n",
            "  0.52178425 0.91701824 0.23075978 0.30682025 0.87382317 0.81813776\n",
            "  0.062634   0.36824892 0.6984563  0.29483352 0.31967921 0.24538903\n",
            "  0.89295826 0.54554995 0.72780915 0.83277381 0.81615052 0.3388821\n",
            "  0.29915761 0.71845403 0.58121988 0.77699803]\n",
            " [0.68212576 0.42693875 0.57680506 0.08955784 0.31443276 0.1053314\n",
            "  0.73231281 0.3845182  0.63909961 0.80325436 0.51940162 0.33065252\n",
            "  0.2769432  0.55818789 0.24174668 0.41686111 0.67123004 0.54097735\n",
            "  0.61235146 0.38877744 0.63532809 0.72029841 0.62104965 0.44123998\n",
            "  0.14818321 0.7139892  0.4646854  0.7246224  0.31059664 0.41880231\n",
            "  0.         0.43851455 0.28697625 0.57121956 0.26705522 0.68597795\n",
            "  0.28604841 0.53655008 0.68680433 0.59114301 0.75670107 0.55149408\n",
            "  0.49267105 0.190608   0.73241915 0.30832318 0.45913464 0.2473555\n",
            "  0.69604422 0.67210892 0.66874812 0.29678465 0.2125276  0.81477905\n",
            "  0.48843233 0.56384401 0.65407821 0.20541457 0.60846724 0.66652028\n",
            "  0.37659871 0.15030724 0.6149952  0.24850941 0.69162399 0.82562066\n",
            "  0.54400806 0.18157449 0.84056812 0.31860963 0.1939307  0.71061119\n",
            "  0.15033651 0.10135457 0.33737495 0.36219447 0.61757699 0.67241997\n",
            "  0.26496068 0.52571558 0.19478968 0.27845387 0.79810569 0.56195642\n",
            "  0.47595279 0.24370897 0.58823535 0.33383257 0.64050173 0.17383965\n",
            "  0.64117837 0.25042822 0.43502474 0.50540621 0.54151066 0.15001218\n",
            "  0.33487955 0.69654728 0.16980467 0.64385865]\n",
            " [0.40028247 0.37677906 0.20487207 0.46674549 0.55456527 0.48452345\n",
            "  0.97540136 0.76229819 0.91162726 0.60269836 0.25912201 0.54655993\n",
            "  0.60128509 0.3806327  0.32259726 0.55182606 0.2405402  0.32786941\n",
            "  0.17411826 0.34980393 0.78638471 0.70502883 0.29625469 0.02269136\n",
            "  0.43883115 0.35679471 0.71013941 0.79155527 0.68214671 0.26767686\n",
            "  0.43851455 0.         0.71782365 0.53142742 0.25210455 0.94999481\n",
            "  0.24746001 0.1735814  0.25042948 0.50383018 0.44219575 0.26404947\n",
            "  0.71184533 0.24812763 0.54866107 0.68254815 0.14709121 0.68195027\n",
            "  0.92388005 0.35805648 0.82154501 0.56973359 0.6455351  0.64561229\n",
            "  0.27279732 0.81147612 0.30250385 0.58996765 0.48272386 0.8654344\n",
            "  0.30021695 0.46655741 0.74484486 0.45418147 0.25545983 0.62109566\n",
            "  0.18251589 0.26402832 0.58300272 0.45502511 0.28340164 0.3388549\n",
            "  0.568073   0.46022307 0.26246925 0.64572665 0.45858746 0.23807142\n",
            "  0.64927244 0.81814704 0.33860883 0.17303899 0.61225453 0.62322512\n",
            "  0.26223036 0.23959251 0.45311264 0.11770846 0.22447006 0.32348697\n",
            "  0.68936807 0.42493446 0.56524591 0.68092234 0.63174257 0.45071232\n",
            "  0.11912396 0.45304938 0.55100509 0.53322398]\n",
            " [0.89164193 0.59485447 0.86377973 0.30675465 0.34372076 0.23905188\n",
            "  0.6030068  0.18486863 0.49862972 0.9614186  0.74542104 0.37127848\n",
            "  0.37979688 0.7447499  0.51180406 0.47484501 0.94140919 0.74565249\n",
            "  0.88955507 0.56745404 0.60422839 0.78806424 0.90572096 0.71766584\n",
            "  0.37745273 0.95081792 0.40270355 0.7372482  0.16896697 0.69620113\n",
            "  0.28697625 0.71782365 0.         0.6867434  0.54974087 0.54505731\n",
            "  0.56819354 0.79084728 0.96092199 0.72744948 0.97248706 0.83497437\n",
            "  0.4454688  0.47367703 0.89129661 0.32359106 0.712091   0.0443543\n",
            "  0.58659338 0.89557735 0.62854066 0.30584604 0.15868058 0.95547846\n",
            "  0.76780817 0.46579617 0.94003182 0.16326258 0.76038375 0.58836035\n",
            "  0.647735   0.27912214 0.60575483 0.46347824 0.96548039 0.98326287\n",
            "  0.79707694 0.45398656 1.02292554 0.43263303 0.47863249 0.95350489\n",
            "  0.15144997 0.26435045 0.55736878 0.31110752 0.78360339 0.95471288\n",
            "  0.29250538 0.39179455 0.46557097 0.54881675 0.94944943 0.61747275\n",
            "  0.75600377 0.49619049 0.74906622 0.60603774 0.92622186 0.45263797\n",
            "  0.68452762 0.38985458 0.48802507 0.49276076 0.58312987 0.37054395\n",
            "  0.60620173 0.88803192 0.18917888 0.7808577 ]\n",
            " [0.32286709 0.16924769 0.73147586 0.65805406 0.34493281 0.5067898\n",
            "  0.55445288 0.59250139 0.53771922 0.28607168 0.30454479 0.31736241\n",
            "  0.84723089 0.18721232 0.6859671  0.21968612 0.58470049 0.23858808\n",
            "  0.59979268 0.20849362 0.32270697 0.17574124 0.82683064 0.5107808\n",
            "  0.69436484 0.444572   0.38240263 0.27022084 0.54118631 0.75476044\n",
            "  0.57121956 0.53142742 0.6867434  0.         0.64395294 0.55683072\n",
            "  0.65564561 0.4241621  0.62256123 0.06021843 0.39691688 0.79372068\n",
            "  0.3515011  0.51671011 0.22252115 0.87424767 0.39330635 0.67995479\n",
            "  0.49809274 0.36540838 0.35030553 0.38321886 0.7350071  0.27007158\n",
            "  0.78670997 0.43968221 0.82793041 0.52685356 0.10934961 0.4249549\n",
            "  0.75764607 0.4463093  0.2747677  0.7765335  0.62382309 0.3062754\n",
            "  0.4215286  0.47388765 0.37070029 0.26340804 0.60417508 0.46780596\n",
            "  0.57262763 0.49058411 0.30212791 0.40758242 0.15212267 0.68758843\n",
            "  0.82993441 0.49904909 0.66164664 0.45162101 0.26942759 0.13911933\n",
            "  0.77399216 0.40499916 0.12312159 0.46100339 0.71846121 0.628664\n",
            "  0.17231399 0.32544524 0.21207544 0.28744672 0.1731335  0.701558\n",
            "  0.45676338 0.27616399 0.51315237 0.10151847]\n",
            " [0.61901348 0.47488875 0.32428042 0.2534058  0.51564007 0.35531595\n",
            "  0.95617726 0.6474806  0.87258448 0.79674358 0.45558413 0.52055191\n",
            "  0.35361437 0.54914543 0.07057018 0.57201335 0.48831079 0.50859273\n",
            "  0.41258604 0.43551285 0.8142243  0.81671427 0.35614183 0.26692535\n",
            "  0.20351561 0.60067237 0.6801851  0.8650731  0.570372   0.15448398\n",
            "  0.26705522 0.25210455 0.54974087 0.64395294 0.         0.91722206\n",
            "  0.01922033 0.41063734 0.49152128 0.63839872 0.6750781  0.28526885\n",
            "  0.69733909 0.1372279  0.73283506 0.44149624 0.35289418 0.50768205\n",
            "  0.91257518 0.58743191 0.84992243 0.51345326 0.43994189 0.82771926\n",
            "  0.22187318 0.78470949 0.39192273 0.46570312 0.63488779 0.86932103\n",
            "  0.12539926 0.37026882 0.78236772 0.20219287 0.49679838 0.81754555\n",
            "  0.4197078  0.18484931 0.79958296 0.46023757 0.07403532 0.58612131\n",
            "  0.41717869 0.33822286 0.34313685 0.58929977 0.62520563 0.44998212\n",
            "  0.41304867 0.76390349 0.09642738 0.1963585  0.80032548 0.69012065\n",
            "  0.20915646 0.24055184 0.60737223 0.21208806 0.40201289 0.09797966\n",
            "  0.76756048 0.40093477 0.58950097 0.68943524 0.68372725 0.21507472\n",
            "  0.2160917  0.65847577 0.42699476 0.68183034]\n",
            " [0.87677191 0.6138003  1.14887648 0.75994598 0.40525881 0.58089462\n",
            "  0.06071014 0.36019103 0.047759   0.81475733 0.8128134  0.40696468\n",
            "  0.90100902 0.7267926  0.9165573  0.40692949 1.09133453 0.76546131\n",
            "  1.07953223 0.62208759 0.24767789 0.51956744 1.22569553 0.936821\n",
            "  0.83060085 0.99091713 0.24154609 0.38690818 0.39922378 1.06882523\n",
            "  0.68597795 0.94999481 0.54505731 0.55683072 0.91722206 0.\n",
            "  0.93567554 0.91741665 1.12493826 0.61703322 0.95323315 1.16933035\n",
            "  0.23920188 0.7871943  0.76538964 0.86361957 0.85673926 0.57545193\n",
            "  0.08064967 0.91341945 0.23597637 0.40378287 0.69091417 0.77429054\n",
            "  1.12788998 0.13852008 1.24396853 0.49125721 0.66617929 0.14714689\n",
            "  1.04107949 0.54982872 0.29151289 0.93124385 1.1276053  0.83009108\n",
            "  0.91850122 0.74265362 0.91416913 0.49497801 0.84706701 1.01007468\n",
            "  0.56310049 0.59010651 0.69170219 0.32846819 0.70858389 1.16532405\n",
            "  0.82749866 0.16211322 0.87237264 0.79494032 0.79166531 0.41822845\n",
            "  1.11421293 0.72330548 0.67726515 0.8388554  1.17180494 0.84438352\n",
            "  0.41940574 0.53213563 0.39787502 0.28367367 0.3841594  0.82968073\n",
            "  0.83615241 0.83299455 0.5196983  0.64883477]\n",
            " [0.62173349 0.48642901 0.30867366 0.27041972 0.5336346  0.37452934\n",
            "  0.97434299 0.66669526 0.89113641 0.80268677 0.45972716 0.53817344\n",
            "  0.36365852 0.55638233 0.0789906  0.58813429 0.48095681 0.51454894\n",
            "  0.40387821 0.44742296 0.83069316 0.82903194 0.33799713 0.26349499\n",
            "  0.21807365 0.59934351 0.69830209 0.87961278 0.58959094 0.13532928\n",
            "  0.28604841 0.24746001 0.56819354 0.65564561 0.01922033 0.93567554\n",
            "  0.         0.4099135  0.48276911 0.6486299  0.67597855 0.2667888\n",
            "  0.7150508  0.15360127 0.73954085 0.45343162 0.35494573 0.52598985\n",
            "  0.93049077 0.58863756 0.86643299 0.53189274 0.45670397 0.83486674\n",
            "  0.20270266 0.80289296 0.3743568  0.48492235 0.6438467  0.88672984\n",
            "  0.10845077 0.38916039 0.7983827  0.20915464 0.48806559 0.82329607\n",
            "  0.41902095 0.20113873 0.80303748 0.47643002 0.09325061 0.58388977\n",
            "  0.43623097 0.35738298 0.35407185 0.60789133 0.63300269 0.43820029\n",
            "  0.42614554 0.78265773 0.11122421 0.20582308 0.80685524 0.7045418\n",
            "  0.19002731 0.25382178 0.61604258 0.21676708 0.38828706 0.11586167\n",
            "  0.78163494 0.41790992 0.60552053 0.7063686  0.69884793 0.22944762\n",
            "  0.22090316 0.66285065 0.4462142  0.69124961]\n",
            " [0.22880271 0.30512158 0.33025376 0.58633492 0.55456561 0.55194399\n",
            "  0.93255306 0.7958517  0.88500724 0.43811745 0.11992717 0.53869684\n",
            "  0.74373467 0.24580342 0.4789692  0.51071933 0.17412867 0.19002963\n",
            "  0.17564129 0.295897   0.72031014 0.58635748 0.4298254  0.15246208\n",
            "  0.57468924 0.19041145 0.68898427 0.69419465 0.71891161 0.44108288\n",
            "  0.53655008 0.1735814  0.79084728 0.4241621  0.41063734 0.91741665\n",
            "  0.4099135  0.         0.20773792 0.38254987 0.2690017  0.4172073\n",
            "  0.67988434 0.36178313 0.39057153 0.8151283  0.07879864 0.76126825\n",
            "  0.87773705 0.18450512 0.75321476 0.57969398 0.74905103 0.48602504\n",
            "  0.44073663 0.78149158 0.42042273 0.64265518 0.35002135 0.81160209\n",
            "  0.47302214 0.51637314 0.67456153 0.60805998 0.21025636 0.45512713\n",
            "  0.00912642 0.35586602 0.41056928 0.43925544 0.42352498 0.17896353\n",
            "  0.63993956 0.52666215 0.24678739 0.64805111 0.3170261  0.26348098\n",
            "  0.77766493 0.80670253 0.48531645 0.26144473 0.45036907 0.54108047\n",
            "  0.43131371 0.29679207 0.32156569 0.21312631 0.29821091 0.46339058\n",
            "  0.59441441 0.43548145 0.51961467 0.63533433 0.55954206 0.5861585\n",
            "  0.21056426 0.28629743 0.60738938 0.39921588]\n",
            " [0.3583576  0.51280134 0.25146093 0.71712711 0.75533057 0.72370439\n",
            "  1.14027655 0.98705386 1.09207195 0.5717433  0.3207468  0.7412678\n",
            "  0.84499791 0.4370412  0.56134144 0.71808907 0.03901412 0.38398801\n",
            "  0.07893607 0.50300569 0.92659683 0.77490495 0.33627493 0.24560701\n",
            "  0.68680665 0.24434805 0.89494419 0.89229166 0.90822788 0.4522373\n",
            "  0.68680433 0.25042948 0.96092199 0.62256123 0.49152128 1.12493826\n",
            "  0.48276911 0.20773792 0.         0.57520354 0.34982196 0.36044473\n",
            "  0.88703037 0.49740351 0.54294748 0.92993794 0.27220273 0.92693235\n",
            "  1.08541041 0.30065669 0.95903144 0.77782634 0.89547687 0.62941465\n",
            "  0.41848836 0.9886771  0.30634023 0.82366562 0.53633716 1.01895735\n",
            "  0.50279995 0.69740282 0.88039834 0.69179935 0.00531659 0.58332855\n",
            "  0.20735762 0.50822752 0.50948191 0.64250908 0.53196052 0.21306772\n",
            "  0.80980438 0.69869634 0.44514596 0.84896944 0.49752682 0.09695972\n",
            "  0.89797766 1.01151614 0.58366206 0.4122178  0.5904384  0.74554038\n",
            "  0.41487674 0.46801822 0.51026702 0.35510856 0.16829433 0.57153105\n",
            "  0.79460212 0.63148808 0.72723681 0.84306236 0.76569527 0.69870643\n",
            "  0.35479215 0.42717758 0.78608365 0.58208325]\n",
            " [0.26402646 0.1692372  0.69934574 0.67559753 0.38982367 0.53536893\n",
            "  0.61418816 0.64277357 0.59785338 0.23585832 0.26281724 0.36265242\n",
            "  0.86440081 0.13834088 0.68537763 0.27040645 0.5368204  0.19306413\n",
            "  0.55764843 0.20995179 0.38175365 0.20422817 0.79642744 0.48230916\n",
            "  0.70628361 0.3877816  0.43963461 0.31840181 0.58782011 0.73958303\n",
            "  0.59114301 0.50383018 0.72744948 0.06021843 0.63839872 0.61703322\n",
            "  0.6486299  0.38254987 0.57520354 0.         0.33699111 0.76775676\n",
            "  0.41006614 0.51721371 0.16857352 0.89769361 0.36070924 0.71783124\n",
            "  0.55786319 0.3085478  0.40846879 0.42786133 0.76556442 0.2293662\n",
            "  0.7665177  0.49948514 0.79458064 0.56558025 0.04918738 0.48451167\n",
            "  0.74713052 0.4757885  0.33387101 0.78348511 0.57614419 0.25711575\n",
            "  0.37899473 0.47723104 0.31417339 0.29703143 0.60483429 0.41206914\n",
            "  0.60635244 0.51722487 0.2956832  0.45854309 0.09242968 0.64462975\n",
            "  0.85361104 0.55740116 0.66475936 0.44285521 0.22219803 0.19913216\n",
            "  0.75421601 0.40437337 0.06661617 0.44478058 0.67986562 0.63233298\n",
            "  0.22532486 0.35324513 0.26497885 0.34668661 0.23332222 0.71424456\n",
            "  0.4404482  0.21596577 0.54864439 0.05402681]\n",
            " [0.08265734 0.387771   0.56876032 0.82125356 0.6720495  0.74370821\n",
            "  0.95115992 0.93164815 0.93218188 0.23205934 0.23756409 0.64849307\n",
            "  0.99267609 0.24004239 0.74138378 0.57942069 0.31412297 0.22715698\n",
            "  0.3789004  0.4078074  0.71824952 0.49757298 0.66559106 0.42140527\n",
            "  0.82223304 0.10563202 0.76132096 0.63684266 0.86402245 0.70886757\n",
            "  0.75670107 0.44219575 0.97248706 0.39691688 0.6750781  0.95323315\n",
            "  0.67597855 0.2690017  0.34982196 0.33699111 0.         0.6685144\n",
            "  0.73735833 0.60578711 0.22571054 1.05451965 0.32300814 0.95105537\n",
            "  0.89484719 0.08807589 0.74377505 0.70620471 0.96355348 0.29392048\n",
            "  0.70294001 0.83173002 0.64451947 0.81174954 0.28785604 0.82140215\n",
            "  0.74201459 0.69459939 0.6704794  0.86727594 0.347822   0.23957265\n",
            "  0.25994903 0.58741205 0.15970914 0.55692936 0.67861396 0.13675714\n",
            "  0.82916118 0.71983387 0.42241656 0.75697736 0.24481203 0.44414659\n",
            "  1.01413581 0.88207579 0.74226966 0.50441778 0.25459418 0.53603286\n",
            "  0.69460936 0.51514548 0.27619493 0.4674027  0.50700007 0.71697476\n",
            "  0.55543927 0.58472873 0.57986062 0.67740008 0.5690738  0.83308431\n",
            "  0.4639554  0.12282927 0.78332317 0.31421585]\n",
            " [0.64376933 0.63408779 0.10913485 0.53506129 0.76431676 0.6336376\n",
            "  1.20180147 0.92684713 1.12725661 0.85532469 0.51976257 0.76286035\n",
            "  0.59208913 0.64380377 0.33045628 0.7893034  0.38034803 0.59009158\n",
            "  0.29903274 0.60307109 1.03070931 0.96818457 0.07325093 0.28593923\n",
            "  0.47558101 0.56861578 0.92799625 1.04923208 0.84813805 0.14946374\n",
            "  0.55149408 0.26404947 0.83497437 0.79372068 0.28526885 1.16933035\n",
            "  0.2667888  0.4172073  0.36044473 0.76775676 0.6685144  0.\n",
            "  0.9374003  0.38927301 0.80609856 0.69066391 0.40995181 0.79275715\n",
            "  1.15357214 0.59369286 1.06644499 0.77017338 0.71968599 0.90234483\n",
            "  0.08091663 1.03242962 0.11630617 0.74508814 0.74653853 1.1012703\n",
            "  0.20842903 0.63864474 0.99204123 0.43242214 0.36514718 0.87222386\n",
            "  0.42481407 0.42977875 0.82165172 0.68313081 0.3575684  0.54237566\n",
            "  0.70093422 0.61401548 0.50937427 0.84782523 0.72121698 0.27505257\n",
            "  0.67120727 1.02419616 0.37330867 0.37762704 0.86727489 0.87762878\n",
            "  0.0874065  0.44802581 0.71692992 0.34391548 0.20140611 0.38252603\n",
            "  0.94722179 0.63766194 0.80464525 0.91625964 0.8820347  0.48592427\n",
            "  0.34759763 0.70345338 0.70562832 0.79705429]\n",
            " [0.65758571 0.37852469 0.91215312 0.57645559 0.18316744 0.38949315\n",
            "  0.26474125 0.29025381 0.205138   0.63184316 0.57845611 0.17698557\n",
            "  0.74227014 0.50245926 0.70578888 0.16941603 0.85399068 0.53597452\n",
            "  0.84050545 0.38404857 0.15920015 0.37811456 0.99137489 0.69822825\n",
            "  0.64085422 0.76443209 0.04410175 0.29640944 0.27650183 0.8451026\n",
            "  0.49267105 0.71184533 0.4454688  0.3515011  0.69733909 0.23920188\n",
            "  0.7150508  0.67988434 0.88703037 0.41006614 0.73735833 0.9374003\n",
            "  0.         0.56294816 0.57264836 0.72769156 0.61787291 0.45973621\n",
            "  0.21654387 0.68887333 0.18633927 0.19589237 0.55774821 0.60341849\n",
            "  0.90054311 0.10165346 1.00794777 0.32985742 0.45752075 0.17452741\n",
            "  0.82260815 0.34464372 0.16294238 0.74093733 0.88981329 0.6503084\n",
            "  0.6813071  0.51664404 0.72177495 0.25715055 0.63079441 0.78140881\n",
            "  0.4014123  0.39156644 0.45260256 0.14187511 0.4968876  0.92615765\n",
            "  0.68627347 0.14760825 0.66452576 0.56062695 0.61200878 0.22613181\n",
            "  0.88681343 0.48951948 0.4629003  0.60224327 0.93295692 0.63408095\n",
            "  0.26666909 0.30064001 0.16266174 0.06644666 0.18623807 0.6423335\n",
            "  0.59937726 0.62174354 0.34467418 0.45152107]\n",
            " [0.53927175 0.34955079 0.39604429 0.22530868 0.38294622 0.2498437\n",
            "  0.82394751 0.54089181 0.74355305 0.69551125 0.37166261 0.38596408\n",
            "  0.38690637 0.44407979 0.16927194 0.43478581 0.48354085 0.41176948\n",
            "  0.42216658 0.30908304 0.6771229  0.68668322 0.45315529 0.25191078\n",
            "  0.21645993 0.5480442  0.54793237 0.72928938 0.46126039 0.28232942\n",
            "  0.190608   0.24812763 0.47367703 0.51671011 0.1372279  0.7871943\n",
            "  0.15360127 0.36178313 0.49740351 0.51721371 0.60578711 0.38927301\n",
            "  0.56294816 0.         0.62811351 0.45358628 0.28890318 0.43609144\n",
            "  0.77897219 0.51815953 0.71285056 0.38426406 0.39819491 0.71987799\n",
            "  0.34106455 0.65275359 0.4806513  0.36064043 0.51965417 0.73379119\n",
            "  0.26204592 0.24941862 0.64514257 0.27201086 0.50230307 0.71717533\n",
            "  0.37003667 0.04762145 0.71249655 0.32301417 0.08768192 0.54017457\n",
            "  0.327045   0.22805372 0.22336062 0.46141375 0.51594897 0.4820867\n",
            "  0.41588412 0.6375108  0.14861792 0.10190457 0.69591419 0.55467603\n",
            "  0.32744879 0.11284622 0.49386598 0.15000634 0.45288253 0.11759306\n",
            "  0.63275797 0.26450531 0.45227811 0.55286294 0.54714965 0.22739507\n",
            "  0.15199793 0.56787901 0.32084882 0.56398976]\n",
            " [0.18527677 0.30721553 0.7206121  0.81201478 0.55720918 0.68858355\n",
            "  0.75491322 0.81131384 0.75116104 0.07124389 0.29001842 0.53027416\n",
            "  0.9979482  0.18441477 0.78902439 0.43893864 0.50425213 0.22606732\n",
            "  0.54907924 0.34386373 0.52083677 0.27670002 0.82022067 0.52597001\n",
            "  0.83304646 0.31201233 0.60470173 0.42036083 0.75548845 0.80842052\n",
            "  0.73241915 0.54866107 0.89129661 0.22252115 0.73283506 0.76538964\n",
            "  0.73954085 0.39057153 0.54294748 0.16857352 0.22571054 0.80609856\n",
            "  0.57264836 0.62811351 0.         1.04073609 0.40287119 0.8793103\n",
            "  0.69957029 0.24291446 0.54175873 0.59502353 0.91903574 0.09704418\n",
            "  0.82138593 0.6567982  0.8087355  0.72846855 0.1309129  0.62520292\n",
            "  0.82724532 0.63078989 0.47468547 0.9000345  0.54231638 0.09361223\n",
            "  0.38376056 0.59491853 0.14966579 0.45876223 0.71313157 0.34254137\n",
            "  0.76442825 0.66844004 0.40751441 0.62711216 0.11493409 0.62840383\n",
            "  0.99731777 0.72023076 0.77627821 0.53868834 0.06782333 0.35121473\n",
            "  0.81056149 0.51840082 0.14526575 0.52373979 0.67927423 0.74570565\n",
            "  0.35028465 0.50879412 0.4331007  0.50752045 0.38937604 0.84218906\n",
            "  0.51948069 0.11622872 0.70885461 0.12126619]\n",
            " [0.98325652 0.73503153 0.75669506 0.2334742  0.57594183 0.37078675\n",
            "  0.91980202 0.5056521  0.81637878 1.11154336 0.8173426  0.59906795\n",
            "  0.10102188 0.86547543 0.37513439 0.69837849 0.9230169  0.84542025\n",
            "  0.85128605 0.69707977 0.88448159 1.01347928 0.76351181 0.69253635\n",
            "  0.24374497 1.00143318 0.68961497 0.9972346  0.46811559 0.54133777\n",
            "  0.30832318 0.68254815 0.32359106 0.87424767 0.44149624 0.86361957\n",
            "  0.45343162 0.8151283  0.92993794 0.89769361 1.05451965 0.69066391\n",
            "  0.72769156 0.45358628 1.04073609 0.         0.74232048 0.2887131\n",
            "  0.89780928 0.96792977 0.91380028 0.54597085 0.17332972 1.12271464\n",
            "  0.61123011 0.77025954 0.80657874 0.39799254 0.91647502 0.88886306\n",
            "  0.48225911 0.4312358  0.87481965 0.25824224 0.93514955 1.13390397\n",
            "  0.82347345 0.46716321 1.14669679 0.61410516 0.39919721 0.99372686\n",
            "  0.32818806 0.38436841 0.64217703 0.5858218  0.9258788  0.89141533\n",
            "  0.04436653 0.70534144 0.34672428 0.55507495 1.10640545 0.84788213\n",
            "  0.60332305 0.54008467 0.89652054 0.60229515 0.84084335 0.35906202\n",
            "  0.9245697  0.54905111 0.71548415 0.75963677 0.8216091  0.23188102\n",
            "  0.60467902 1.00205026 0.38871505 0.95084829]\n",
            " [0.26701427 0.25292098 0.33884233 0.51175406 0.48333109 0.47316084\n",
            "  0.8752792  0.72009002 0.82240284 0.45926947 0.11285491 0.46906524\n",
            "  0.67424342 0.23387199 0.41846302 0.45019442 0.24293481 0.18077825\n",
            "  0.22305392 0.23584497 0.67084452 0.56392426 0.43573156 0.12458941\n",
            "  0.50421029 0.25914563 0.6238717  0.65945886 0.64252499 0.40678578\n",
            "  0.45913464 0.14709121 0.712091   0.39330635 0.35289418 0.85673926\n",
            "  0.35494573 0.07879864 0.27220273 0.36070924 0.32300814 0.40995181\n",
            "  0.61787291 0.28890318 0.40287119 0.74232048 0.         0.68247541\n",
            "  0.82139798 0.2350317  0.70486925 0.50668743 0.67149258 0.49991399\n",
            "  0.41892345 0.71944682 0.43477803 0.56458224 0.33682347 0.75776736\n",
            "  0.43043446 0.4381414  0.62661029 0.54450636 0.27554852 0.47844507\n",
            "  0.08545301 0.27937753 0.44918212 0.37039415 0.35662968 0.25240011\n",
            "  0.56114865 0.44787633 0.17328409 0.57698337 0.31158412 0.31000095\n",
            "  0.7039753  0.73962643 0.4198691  0.18724739 0.46746777 0.49756372\n",
            "  0.40788072 0.21821183 0.30724005 0.14472118 0.32869316 0.39564958\n",
            "  0.55783128 0.36110008 0.46073908 0.57748888 0.5115801  0.51545167\n",
            "  0.14144817 0.31247807 0.52902277 0.38733373]\n",
            " [0.87101298 0.57866923 0.82362171 0.26286967 0.34166204 0.21021623\n",
            "  0.6323019  0.21697475 0.52842994 0.94994196 0.72106357 0.3687408\n",
            "  0.33904925 0.72716374 0.46839591 0.47318833 0.90848161 0.72502712\n",
            "  0.8545626  0.54918494 0.61893413 0.78974729 0.86380873 0.68265694\n",
            "  0.33322748 0.92530959 0.4182153  0.74687945 0.18620024 0.65309974\n",
            "  0.2473555  0.68195027 0.0443543  0.67995479 0.50768205 0.57545193\n",
            "  0.52598985 0.76126825 0.92693235 0.71783124 0.95105537 0.79275715\n",
            "  0.45973621 0.43609144 0.8793103  0.2887131  0.68247541 0.\n",
            "  0.61285129 0.87242759 0.64494941 0.30490982 0.1187765  0.94684207\n",
            "  0.72488195 0.48860618 0.8986528  0.15320157 0.74858083 0.609989\n",
            "  0.60413971 0.25654847 0.61713689 0.41919603 0.93157123 0.97198311\n",
            "  0.7677762  0.41890335 1.00763876 0.42109541 0.437236   0.92678821\n",
            "  0.12253759 0.23528052 0.53242199 0.32109879 0.76970451 0.91797643\n",
            "  0.25495351 0.41883054 0.42236515 0.51477286 0.93903698 0.61905855\n",
            "  0.71318669 0.46514208 0.735727   0.5718249  0.88773001 0.41024656\n",
            "  0.68888967 0.37295835 0.48748627 0.50264409 0.58631459 0.32624242\n",
            "  0.57219819 0.87054324 0.17085123 0.7716216 ]\n",
            " [0.82055505 0.57261751 1.12586838 0.77508447 0.39698115 0.59088516\n",
            "  0.05640429 0.40387385 0.10349046 0.74584301 0.76868935 0.39317812\n",
            "  0.9272555  0.67482514 0.91811815 0.37287265 1.05060207 0.71687119\n",
            "  1.04436133 0.5855531  0.17873605 0.44578943 1.20671513 0.90924052\n",
            "  0.84325537 0.93858055 0.23352688 0.30934248 0.4296969  1.06125808\n",
            "  0.69604422 0.92388005 0.58659338 0.49809274 0.91257518 0.08064967\n",
            "  0.93049077 0.87773705 1.08541041 0.55786319 0.89484719 1.15357214\n",
            "  0.21654387 0.77897219 0.69957029 0.89780928 0.82139798 0.61285129\n",
            "  0.         0.86016297 0.16119111 0.40315478 0.72448491 0.70291279\n",
            "  1.11707136 0.13237117 1.22220692 0.51186318 0.60699213 0.07437006\n",
            "  1.037628   0.55277284 0.22545068 0.94406815 1.08778031 0.76030255\n",
            "  0.87811214 0.7329048  0.84718077 0.47151172 0.84487857 0.95930757\n",
            "  0.58498457 0.5968138  0.66232533 0.33385887 0.65017501 1.13132789\n",
            "  0.85962411 0.19483609 0.87559898 0.77638923 0.72212309 0.35906183\n",
            "  1.10334223 0.70556033 0.62042909 0.81654887 1.14259779 0.84604577\n",
            "  0.35023491 0.51718379 0.36098741 0.24414223 0.32857258 0.84346624\n",
            "  0.81353801 0.77325346 0.53573573 0.58573074]\n",
            " [0.05774562 0.32305477 0.4980892  0.73489089 0.60692944 0.66366381\n",
            "  0.91653745 0.86471173 0.88883475 0.27281499 0.15301859 0.58486549\n",
            "  0.90506437 0.1868626  0.65347599 0.52498718 0.26226041 0.15778822\n",
            "  0.31452472 0.33734322 0.68738872 0.49251138 0.59666792 0.33672015\n",
            "  0.73461895 0.07923783 0.70902586 0.62323176 0.79443564 0.62558261\n",
            "  0.67210892 0.35805648 0.89557735 0.36540838 0.58743191 0.91341945\n",
            "  0.58863756 0.18450512 0.30065669 0.3085478  0.08807589 0.59369286\n",
            "  0.68887333 0.51815953 0.24291446 0.96792977 0.2350317  0.87242759\n",
            "  0.86016297 0.         0.71566318 0.63940921 0.88046549 0.3290585\n",
            "  0.62327556 0.78649608 0.57953149 0.73655378 0.26199281 0.78819125\n",
            "  0.65684742 0.61668233 0.63947556 0.77920504 0.29981927 0.28620809\n",
            "  0.17564613 0.50077543 0.22812822 0.48973562 0.59055296 0.10496898\n",
            "  0.75008363 0.63938256 0.34087586 0.69504958 0.21864213 0.38890583\n",
            "  0.92786599 0.83027686 0.65419533 0.41663744 0.29033404 0.50234482\n",
            "  0.6143455  0.42948008 0.24253635 0.37933988 0.44505802 0.62896119\n",
            "  0.533636   0.51119726 0.52774595 0.63239825 0.53162678 0.74552736\n",
            "  0.37588474 0.12675824 0.7065428  0.29978924]\n",
            " [0.67249339 0.45195218 1.02626877 0.75510038 0.35431565 0.56847546\n",
            "  0.21456095 0.46230142 0.23788888 0.5857866  0.63858225 0.3397126\n",
            "  0.9258719  0.53403009 0.86731396 0.27942528 0.92265382 0.58056133\n",
            "  0.92522307 0.47284373 0.03589535 0.28463745 1.11329292 0.80457999\n",
            "  0.8162349  0.79477517 0.22674209 0.15225486 0.46007053 0.99037782\n",
            "  0.66874812 0.82154501 0.62854066 0.35030553 0.84992243 0.23597637\n",
            "  0.86643299 0.75321476 0.95903144 0.40846879 0.74377505 1.06644499\n",
            "  0.18633927 0.71285056 0.54175873 0.91380028 0.70486925 0.64494941\n",
            "  0.16119111 0.71566318 0.         0.37519165 0.74408713 0.54190388\n",
            "  1.03936787 0.18265695 1.12378861 0.51582825 0.45696401 0.08883821\n",
            "  0.97488376 0.51859031 0.07865716 0.91492433 0.96092576 0.59980589\n",
            "  0.75244894 0.66529472 0.68816404 0.39036735 0.78855793 0.81747574\n",
            "  0.58681782 0.5675075  0.56008527 0.32812172 0.50070121 1.01328502\n",
            "  0.87216406 0.27062461 0.82904208 0.69080649 0.56177382 0.21506657\n",
            "  1.02572725 0.6236043  0.4733913  0.72306474 1.03229326 0.79718398\n",
            "  0.19147489 0.44971848 0.26292792 0.16396113 0.19376079 0.81871125\n",
            "  0.7195618  0.62123737 0.52887216 0.43115386]\n",
            " [0.62356417 0.31843892 0.75932705 0.38098458 0.0382879  0.19395334\n",
            "  0.44383593 0.22553471 0.35948722 0.66362481 0.50185066 0.06590154\n",
            "  0.55128114 0.46790973 0.51526676 0.16903885 0.74961517 0.48209145\n",
            "  0.71969119 0.30251927 0.34323879 0.48488909 0.82974202 0.56035435\n",
            "  0.44496739 0.70584339 0.16974748 0.45176224 0.16093255 0.66522526\n",
            "  0.29678465 0.56973359 0.30584604 0.38321886 0.51345326 0.40378287\n",
            "  0.53189274 0.57969398 0.77782634 0.42786133 0.70620471 0.77017338\n",
            "  0.19589237 0.38426406 0.59502353 0.54597085 0.50668743 0.30490982\n",
            "  0.40315478 0.63940921 0.37519165 0.         0.38303735 0.65313623\n",
            "  0.72532284 0.27260389 0.85163738 0.15474481 0.46501134 0.36987498\n",
            "  0.63752485 0.14983864 0.3294311  0.54512323 0.78143841 0.68497343\n",
            "  0.58346535 0.34087529 0.73370651 0.14970569 0.44370615 0.71562473\n",
            "  0.21831798 0.19577111 0.333517   0.07769893 0.49334761 0.79993948\n",
            "  0.50297978 0.2540277  0.47245888 0.40334696 0.64977702 0.31426859\n",
            "  0.7116972  0.33225027 0.45780936 0.45327081 0.79418882 0.44311373\n",
            "  0.38568142 0.14676207 0.18271229 0.21504353 0.28247229 0.44646191\n",
            "  0.45128808 0.60751394 0.15725693 0.48018083]\n",
            " [0.88681913 0.61224561 0.76356656 0.1866639  0.41590261 0.23061628\n",
            "  0.74674028 0.3347629  0.64355088 0.99027503 0.72744714 0.44088099\n",
            "  0.22111845 0.75384508 0.38939459 0.54360964 0.88155024 0.7429284\n",
            "  0.81961653 0.57779454 0.7157573  0.86181948 0.79235297 0.6500946\n",
            "  0.24537059 0.92512574 0.51859719 0.83434988 0.29479861 0.57415808\n",
            "  0.2125276  0.6455351  0.15868058 0.7350071  0.43994189 0.69091417\n",
            "  0.45670397 0.74905103 0.89547687 0.76556442 0.96355348 0.71968599\n",
            "  0.55774821 0.39819491 0.91903574 0.17332972 0.67149258 0.1187765\n",
            "  0.72448491 0.88046549 0.74408713 0.38303735 0.         0.99432433\n",
            "  0.64676247 0.59720517 0.83051754 0.23023619 0.79040998 0.71639904\n",
            "  0.52071028 0.28977682 0.70876203 0.31770732 0.90040441 1.01262242\n",
            "  0.75647382 0.39391444 1.03735523 0.47160095 0.37648911 0.9225326\n",
            "  0.16614458 0.25076135 0.54134393 0.41607202 0.80579374 0.87457074\n",
            "  0.13685846 0.53212212 0.34679767 0.49050152 0.98217685 0.69301116\n",
            "  0.63612039 0.4549208  0.7737885  0.54514392 0.83608061 0.34275205\n",
            "  0.7673091  0.41234803 0.55977218 0.59332418 0.66387464 0.23599576\n",
            "  0.54640387 0.89550637 0.22810958 0.81952865]\n",
            " [0.27169702 0.38787    0.81550051 0.89672184 0.61486378 0.76385614\n",
            "  0.75631594 0.86094479 0.7659102  0.0628489  0.38706028 0.5873334\n",
            "  1.08413942 0.27857396 0.88267261 0.48910908 0.59121779 0.32263063\n",
            "  0.64063616 0.42669802 0.52661782 0.2592604  0.91508979 0.62292099\n",
            "  0.92131884 0.3910322  0.63966751 0.40434174 0.81120851 0.90535821\n",
            "  0.81477905 0.64561229 0.95547846 0.27007158 0.82771926 0.77429054\n",
            "  0.83486674 0.48602504 0.62941465 0.2293662  0.29392048 0.90234483\n",
            "  0.60341849 0.71987799 0.09704418 1.12271464 0.49991399 0.94684207\n",
            "  0.70291279 0.3290585  0.54190388 0.65313623 0.99432433 0.\n",
            "  0.91836706 0.67814467 0.90240028 0.79427551 0.20632529 0.62924833\n",
            "  0.92367711 0.70463829 0.48382447 0.99129256 0.62838403 0.06464303\n",
            "  0.47896499 0.68496162 0.16594235 0.52634022 0.80572976 0.42251515\n",
            "  0.83570418 0.74507544 0.49754099 0.67599781 0.20393667 0.71768812\n",
            "  1.07889917 0.74915644 0.86839785 0.63271038 0.03946571 0.37728785\n",
            "  0.90757227 0.60889559 0.22818735 0.6196366  0.77122194 0.83733825\n",
            "  0.35526909 0.58201957 0.48020714 0.53700767 0.41719314 0.93009959\n",
            "  0.61535508 0.20416287 0.77795576 0.17537809]\n",
            " [0.66953608 0.62171236 0.17531216 0.46426379 0.72296311 0.57655457\n",
            "  1.16339849 0.86919258 1.0845101  0.8752363  0.53157097 0.72412119\n",
            "  0.51216422 0.65042094 0.25785862 0.76021156 0.43321089 0.59915039\n",
            "  0.3496014  0.5875186  1.00348019 0.96238109 0.15254709 0.29548306\n",
            "  0.40158337 0.60757928 0.88781297 1.03346639 0.79172111 0.07261101\n",
            "  0.48843233 0.27279732 0.76780817 0.78670997 0.22187318 1.12788998\n",
            "  0.20270266 0.44073663 0.41848836 0.7665177  0.70294001 0.08091663\n",
            "  0.90054311 0.34106455 0.82138593 0.61123011 0.41892345 0.72488195\n",
            "  1.11707136 0.62327556 1.03936787 0.72532284 0.64676247 0.91836706\n",
            "  0.         0.99264769 0.19702289 0.68732426 0.75015225 1.06836373\n",
            "  0.12935008 0.58750486 0.96709973 0.35309833 0.42349807 0.89338212\n",
            "  0.44911915 0.38526585 0.85088863 0.65096983 0.29585689 0.58370756\n",
            "  0.63873147 0.55858526 0.49170262 0.80245933 0.72889613 0.34094109\n",
            "  0.59289594 0.97845999 0.30277039 0.34933074 0.88503716 0.8595334\n",
            "  0.01373114 0.41585657 0.72067739 0.32668555 0.27060195 0.31591486\n",
            "  0.93227123 0.59995092 0.77645126 0.88454286 0.86034268 0.41147063\n",
            "  0.33080809 0.72491815 0.64841686 0.80034454]\n",
            " [0.75311011 0.47953714 1.01056297 0.64272403 0.26982163 0.45862667\n",
            "  0.17147797 0.28888947 0.10369916 0.7120451  0.67932919 0.26957523\n",
            "  0.79648748 0.5996858  0.78785266 0.27086867 0.95558529 0.63520904\n",
            "  0.94198627 0.48568505 0.1731223  0.43614973 1.08802974 0.79832029\n",
            "  0.71092801 0.86283967 0.10484729 0.32628616 0.30309752 0.93495919\n",
            "  0.56384401 0.81147612 0.46579617 0.43968221 0.78470949 0.13852008\n",
            "  0.80289296 0.78149158 0.9886771  0.49948514 0.83173002 1.03242962\n",
            "  0.10165346 0.65275359 0.6567982  0.77025954 0.71944682 0.48860618\n",
            "  0.13237117 0.78649608 0.18265695 0.27260389 0.59720517 0.67814467\n",
            "  0.99264769 0.         1.10582764 0.38050761 0.54799064 0.12315611\n",
            "  0.90933404 0.42163142 0.20216351 0.8117514  0.99145317 0.72925272\n",
            "  0.78286868 0.60748693 0.80646366 0.35645793 0.71588415 0.88058889\n",
            "  0.45370736 0.46495649 0.55342891 0.20166671 0.58886794 1.02747442\n",
            "  0.73117027 0.08800449 0.74480717 0.65713802 0.69066667 0.30561591\n",
            "  0.97894155 0.58560274 0.555875   0.70052307 1.0333487  0.71568365\n",
            "  0.32684405 0.39480398 0.26327731 0.1544388  0.26767285 0.71110218\n",
            "  0.69778939 0.71398374 0.40355031 0.53689398]\n",
            " [0.63412387 0.67851168 0.09764316 0.64465826 0.84183403 0.72963932\n",
            "  1.27253956 1.02154026 1.20369683 0.85027762 0.53507757 0.8373565\n",
            "  0.70825291 0.66242847 0.44268426 0.85192317 0.33544317 0.60681342\n",
            "  0.26591803 0.65229669 1.08852729 0.99838477 0.04679963 0.32061888\n",
            "  0.5879957  0.53996353 1.00262374 1.09201096 0.9418821  0.26524527\n",
            "  0.65407821 0.30250385 0.94003182 0.82793041 0.39192273 1.24396853\n",
            "  0.3743568  0.42042273 0.30634023 0.79458064 0.64451947 0.11630617\n",
            "  1.00794777 0.4806513  0.8087355  0.80657874 0.43477803 0.8986528\n",
            "  1.22220692 0.57953149 1.12378861 0.85163738 0.83051754 0.90240028\n",
            "  0.19702289 1.10582764 0.         0.84091297 0.76704041 1.16573818\n",
            "  0.32451993 0.72842238 1.0472747  0.54837522 0.3100681  0.86504486\n",
            "  0.42636531 0.51646735 0.80285737 0.75098036 0.4614435  0.51060502\n",
            "  0.80160817 0.70852546 0.56394596 0.92918119 0.73650407 0.21030429\n",
            "  0.78643982 1.10477562 0.48375063 0.44959996 0.86525786 0.92526062\n",
            "  0.20364399 0.52133901 0.73784853 0.40574685 0.13884247 0.48990224\n",
            "  0.98993367 0.71269331 0.86596457 0.98070333 0.93424325 0.59864557\n",
            "  0.40869506 0.69891357 0.80115801 0.81707985]\n",
            " [0.73039515 0.4318181  0.75643791 0.26995811 0.19007175 0.11149165\n",
            "  0.54188417 0.18193415 0.44363839 0.79877793 0.58825747 0.21665382\n",
            "  0.41619541 0.58202215 0.44678934 0.32109626 0.80095077 0.58462553\n",
            "  0.75631078 0.40526299 0.48657491 0.6388402  0.81177752 0.58635441\n",
            "  0.34227288 0.794576   0.29281535 0.60446031 0.10534342 0.61973546\n",
            "  0.20541457 0.58996765 0.16326258 0.52685356 0.46570312 0.49125721\n",
            "  0.48492235 0.64265518 0.82366562 0.56558025 0.81174954 0.74508814\n",
            "  0.32985742 0.36064043 0.72846855 0.39799254 0.56458224 0.15320157\n",
            "  0.51186318 0.73655378 0.51582825 0.15474481 0.23023619 0.79427551\n",
            "  0.68732426 0.38050761 0.84091297 0.         0.59757452 0.49462207\n",
            "  0.58053693 0.12664962 0.47855146 0.44202292 0.82793155 0.82070064\n",
            "  0.64822602 0.32970043 0.85967023 0.26970638 0.39167743 0.79907847\n",
            "  0.07320606 0.13263478 0.40220303 0.18809963 0.62037389 0.82789553\n",
            "  0.3564161  0.32919009 0.40001822 0.41705814 0.7872495  0.46849008\n",
            "  0.67437485 0.35575922 0.58589635 0.4736077  0.80812711 0.3773414\n",
            "  0.5404261  0.22749695 0.33596801 0.36311522 0.43719876 0.34028442\n",
            "  0.47300077 0.72518808 0.03979306 0.61922957]\n",
            " [0.21573873 0.18154489 0.67316934 0.69053722 0.42740792 0.55979639\n",
            "  0.66330425 0.68337448 0.6467425  0.20136598 0.23208205 0.4007269\n",
            "  0.87825167 0.10465462 0.68565266 0.31293199 0.49762366 0.16045318\n",
            "  0.52342214 0.22054734 0.43064292 0.23865105 0.77136813 0.46063352\n",
            "  0.71657151 0.34109347 0.48599902 0.361918   0.6257511  0.72752624\n",
            "  0.60846724 0.48272386 0.76038375 0.10934961 0.63488779 0.66617929\n",
            "  0.6438467  0.35002135 0.53633716 0.04918738 0.28785604 0.74653853\n",
            "  0.45752075 0.51965417 0.1309129  0.91647502 0.33682347 0.74858083\n",
            "  0.60699213 0.26199281 0.45696401 0.46501134 0.79040998 0.20632529\n",
            "  0.75015225 0.54799064 0.76704041 0.59757452 0.         0.53357534\n",
            "  0.73891262 0.50136392 0.38279831 0.78940439 0.53699447 0.2234565\n",
            "  0.34564154 0.48240526 0.27068191 0.32787008 0.60665057 0.36626353\n",
            "  0.6343175  0.54030004 0.29629425 0.50015701 0.04382171 0.60935955\n",
            "  0.87270751 0.6045618  0.66817234 0.43852949 0.19177975 0.24831912\n",
            "  0.73825057 0.40733747 0.02961157 0.43413189 0.64823176 0.63640339\n",
            "  0.27188089 0.37899506 0.30894148 0.39475139 0.28233963 0.72510799\n",
            "  0.42977736 0.1668177  0.57826587 0.05051779]\n",
            " [0.74770972 0.50682137 1.06881669 0.74922731 0.3573925  0.5626477\n",
            "  0.13006798 0.41198912 0.15221607 0.67165818 0.70061577 0.34915014\n",
            "  0.91040734 0.60358277 0.87973441 0.31382444 0.98360698 0.64690121\n",
            "  0.98025699 0.52234234 0.10437613 0.37301791 1.15210006 0.84992604\n",
            "  0.81466271 0.8668424  0.2033434  0.2401827  0.42390703 1.01512882\n",
            "  0.66652028 0.8654344  0.58836035 0.4249549  0.86932103 0.14714689\n",
            "  0.88672984 0.81160209 1.01895735 0.48451167 0.82140215 1.1012703\n",
            "  0.17452741 0.73379119 0.62520292 0.88886306 0.75776736 0.609989\n",
            "  0.07437006 0.78819125 0.08883821 0.36987498 0.71639904 0.62924833\n",
            "  1.06836373 0.12315611 1.16573818 0.49462207 0.53357534 0.\n",
            "  0.99471323 0.51908163 0.15132484 0.91496157 1.02117583 0.68626375\n",
            "  0.81161336 0.68690483 0.77283435 0.41825115 0.80394101 0.88810467\n",
            "  0.56755561 0.56564323 0.60303483 0.30867767 0.57690421 1.06770665\n",
            "  0.84890931 0.20689954 0.8388221  0.72365786 0.64803152 0.28620228\n",
            "  1.05464082 0.65387063 0.54762878 0.76102451 1.08169041 0.80818634\n",
            "  0.27595639 0.46959301 0.30021329 0.18522509 0.25729758 0.81586004\n",
            "  0.75782225 0.69958079 0.51382721 0.51158948]\n",
            " [0.69571695 0.58853777 0.284746   0.34154745 0.64064798 0.47235542\n",
            "  1.08081059 0.76099849 0.99608457 0.88751975 0.54079966 0.64588715\n",
            "  0.38373667 0.64677296 0.13636919 0.69652755 0.50932412 0.60117801\n",
            "  0.42671229 0.55043156 0.93914306 0.93214184 0.28126947 0.32062642\n",
            "  0.27542244 0.65635238 0.80496149 0.98659961 0.68584433 0.0596411\n",
            "  0.37659871 0.30021695 0.647735   0.75764607 0.12539926 1.04107949\n",
            "  0.10845077 0.47302214 0.50279995 0.74713052 0.74201459 0.20842903\n",
            "  0.82260815 0.26204592 0.82724532 0.48225911 0.43043446 0.60413971\n",
            "  1.037628   0.65684742 0.97488376 0.63752485 0.52071028 0.92367711\n",
            "  0.12935008 0.90933404 0.32451993 0.58053693 0.73891262 0.99471323\n",
            "  0.         0.49241867 0.90672458 0.22402133 0.50807264 0.90736665\n",
            "  0.48206656 0.30958933 0.87863214 0.58484959 0.19411675 0.63690136\n",
            "  0.52608008 0.45731288 0.45553339 0.71277527 0.72468451 0.43958279\n",
            "  0.46354593 0.88645531 0.18336662 0.30602823 0.89369505 0.81144242\n",
            "  0.12106402 0.35991095 0.71039741 0.30519569 0.37676797 0.2032046\n",
            "  0.88800449 0.52623455 0.71387739 0.81472379 0.80656124 0.28474343\n",
            "  0.30953779 0.74280038 0.54291941 0.78744492]\n",
            " [0.61446453 0.32558155 0.64055435 0.23816529 0.1643363  0.06069592\n",
            "  0.59231358 0.29638493 0.50423861 0.70195098 0.46630039 0.18047891\n",
            "  0.41901518 0.47191921 0.36682945 0.27076549 0.67438239 0.4684823\n",
            "  0.6308296  0.29391679 0.48505702 0.58249252 0.70227925 0.46184191\n",
            "  0.2976906  0.67185171 0.31953741 0.57687093 0.21609334 0.52406218\n",
            "  0.15030724 0.46655741 0.27912214 0.4463093  0.37026882 0.54982872\n",
            "  0.38916039 0.51637314 0.69740282 0.4757885  0.69459939 0.63864474\n",
            "  0.34464372 0.24941862 0.63078989 0.4312358  0.4381414  0.25654847\n",
            "  0.55277284 0.61668233 0.51859031 0.14983864 0.28977682 0.70463829\n",
            "  0.58750486 0.42163142 0.72842238 0.12664962 0.50136392 0.51908163\n",
            "  0.49241867 0.         0.46493954 0.39694863 0.70162823 0.72423731\n",
            "  0.52207326 0.21214484 0.75397841 0.18359937 0.29836902 0.67512336\n",
            "  0.1356501  0.05001133 0.27844695 0.22150251 0.51864517 0.70391174\n",
            "  0.38690975 0.3940369  0.32323935 0.29358335 0.6931166  0.41882684\n",
            "  0.57409129 0.22991867 0.48579635 0.34936951 0.68720659 0.29462768\n",
            "  0.49699068 0.12261983 0.28858828 0.35512232 0.39550098 0.30014808\n",
            "  0.34850972 0.61512943 0.09129668 0.52975801]\n",
            " [0.59760737 0.37370106 0.94968401 0.70305461 0.30307448 0.51845119\n",
            "  0.28139031 0.45294775 0.28236798 0.52325377 0.56000176 0.28447385\n",
            "  0.87949097 0.45664184 0.80330213 0.21041776 0.84406099 0.50246029\n",
            "  0.84668229 0.3955148  0.04794472 0.23474697 1.03761921 0.72755856\n",
            "  0.76087099 0.71843861 0.20703476 0.13351965 0.43716136 0.91994808\n",
            "  0.6149952  0.74484486 0.60575483 0.2747677  0.78236772 0.29151289\n",
            "  0.7983827  0.67456153 0.88039834 0.33387101 0.6704794  0.99204123\n",
            "  0.16294238 0.64514257 0.47468547 0.87481965 0.62661029 0.61713689\n",
            "  0.22545068 0.63947556 0.07865716 0.3294311  0.70876203 0.48382447\n",
            "  0.96709973 0.20216351 1.0472747  0.47855146 0.38279831 0.15132484\n",
            "  0.90672458 0.46493954 0.         0.85797914 0.88230431 0.53873304\n",
            "  0.67379207 0.5975229  0.62298495 0.32221775 0.72331439 0.74061745\n",
            "  0.54664742 0.51471539 0.48418782 0.29603825 0.42629986 0.93477047\n",
            "  0.83211663 0.28441623 0.76667589 0.61791519 0.50026107 0.13745849\n",
            "  0.95351496 0.55206045 0.39781192 0.64824322 0.95434028 0.7342904\n",
            "  0.12858028 0.38499458 0.19287045 0.11543795 0.11518681 0.76417017\n",
            "  0.64465108 0.54845268 0.4864114  0.36028888]\n",
            " [0.80566444 0.61431386 0.50134751 0.17211138 0.56113198 0.35325824\n",
            "  0.9791739  0.6082767  0.88394608 0.96752042 0.63875376 0.57538191\n",
            "  0.16057289 0.71608479 0.13162578 0.65356548 0.68999712 0.68298941\n",
            "  0.61294727 0.57356293 0.88092575 0.93948395 0.5052856  0.46840056\n",
            "  0.10084749 0.79846214 0.71317143 0.96090669 0.54300597 0.28313104\n",
            "  0.24850941 0.45418147 0.46347824 0.7765335  0.20219287 0.93124385\n",
            "  0.20915464 0.60805998 0.69179935 0.78348511 0.86727594 0.43242214\n",
            "  0.74093733 0.27201086 0.9000345  0.25824224 0.54450636 0.41919603\n",
            "  0.94406815 0.77920504 0.91492433 0.54512323 0.31770732 0.99129256\n",
            "  0.35309833 0.8117514  0.54837522 0.44202292 0.78940439 0.91496157\n",
            "  0.22402133 0.39694863 0.85797914 0.         0.6971011  0.98917155\n",
            "  0.61700818 0.30701237 0.98216691 0.54713873 0.18981542 0.78548819\n",
            "  0.37378839 0.34937254 0.49385487 0.61025863 0.78746122 0.64365526\n",
            "  0.24092426 0.76979293 0.12563668 0.36713889 0.96781581 0.79185895\n",
            "  0.34508398 0.38246882 0.76438497 0.39988825 0.58845002 0.15449034\n",
            "  0.87160147 0.47903848 0.67189861 0.75106618 0.77618697 0.10174899\n",
            "  0.40332058 0.83819349 0.41157932 0.83218979]\n",
            " [0.35754918 0.51520257 0.25611945 0.72218023 0.75878272 0.72816463\n",
            "  1.14270169 0.99102118 1.09488155 0.57049838 0.32249167 0.74459014\n",
            "  0.85026432 0.43806249 0.56663007 0.72080257 0.03937157 0.38523505\n",
            "  0.08421776 0.50576839 0.9285723  0.77550268 0.34039958 0.2504656\n",
            "  0.69199462 0.24246141 0.89794389 0.89343404 0.9122522  0.45745365\n",
            "  0.69162399 0.25545983 0.96548039 0.62382309 0.49679838 1.1276053\n",
            "  0.48806559 0.21025636 0.00531659 0.57614419 0.347822   0.36514718\n",
            "  0.88981329 0.50230307 0.54231638 0.93514955 0.27554852 0.93157123\n",
            "  1.08778031 0.29981927 0.96092576 0.78143841 0.90040441 0.62838403\n",
            "  0.42349807 0.99145317 0.3100681  0.82793155 0.53699447 1.02117583\n",
            "  0.50807264 0.70162823 0.88230431 0.6971011  0.         0.58191218\n",
            "  0.20966929 0.51291704 0.50742483 0.64575653 0.53712121 0.21107408\n",
            "  0.81433221 0.70314121 0.44860679 0.85242838 0.49797799 0.10029343\n",
            "  0.90315106 1.01466644 0.58889754 0.41682854 0.58935619 0.74728508\n",
            "  0.41994023 0.47233359 0.51106692 0.35974816 0.17227698 0.57670967\n",
            "  0.7959304  0.63516377 0.72984915 0.84558083 0.76766682 0.70389451\n",
            "  0.35939985 0.42644039 0.79040074 0.58253581]\n",
            " [0.23093097 0.40081559 0.7811739  0.90464922 0.6469382  0.78214398\n",
            "  0.8143636  0.89848294 0.81969786 0.02239251 0.36666298 0.61974525\n",
            "  1.08999348 0.27334105 0.87567621 0.52552112 0.54586582 0.30896655\n",
            "  0.60064801 0.43727817 0.58278708 0.31985712 0.88042526 0.59851408\n",
            "  0.92426587 0.34102889 0.68469511 0.46564953 0.84486315 0.8852049\n",
            "  0.82562066 0.62109566 0.98326287 0.3062754  0.81754555 0.83009108\n",
            "  0.82329607 0.45512713 0.58332855 0.25711575 0.23957265 0.87222386\n",
            "  0.6503084  0.71717533 0.09361223 1.13390397 0.47844507 0.97198311\n",
            "  0.76030255 0.28620809 0.59980589 0.68497343 1.01262242 0.06464303\n",
            "  0.89338212 0.72925272 0.86504486 0.82070064 0.2234565  0.68626375\n",
            "  0.90736665 0.72423731 0.53873304 0.98917155 0.58191218 0.\n",
            "  0.44741875 0.6853869  0.1015845  0.55107589 0.80120492 0.37274407\n",
            "  0.8576474  0.76204544 0.49844122 0.71369129 0.20806771 0.67425301\n",
            "  1.0905617  0.79723257 0.8647567  0.62535387 0.03860273 0.42511393\n",
            "  0.88317376 0.60871618 0.23887521 0.60662721 0.73124061 0.83469292\n",
            "  0.41074355 0.60211809 0.51834881 0.58424652 0.46456074 0.93358421\n",
            "  0.60245098 0.16885012 0.80172071 0.20562642]\n",
            " [0.22049012 0.30555853 0.33686982 0.59441841 0.55791292 0.55826963\n",
            "  0.93305925 0.8003754  0.88644507 0.43057507 0.1169898  0.54169279\n",
            "  0.75238256 0.24172907 0.48799265 0.51202086 0.17283831 0.18611711\n",
            "  0.17868966 0.29753401 0.71972415 0.5825386  0.43647333 0.16147885\n",
            "  0.58323764 0.18145403 0.69097081 0.69168897 0.72367714 0.44994055\n",
            "  0.54400806 0.18251589 0.79707694 0.4215286  0.4197078  0.91850122\n",
            "  0.41902095 0.00912642 0.20735762 0.37899473 0.25994903 0.42481407\n",
            "  0.6813071  0.37003667 0.38376056 0.82347345 0.08545301 0.7677762\n",
            "  0.87811214 0.17564613 0.75244894 0.58346535 0.75647382 0.47896499\n",
            "  0.44911915 0.78286868 0.42636531 0.64822602 0.34564154 0.81161336\n",
            "  0.48206656 0.52207326 0.67379207 0.61700818 0.20966929 0.44741875\n",
            "  0.         0.3635438  0.40200187 0.44217711 0.43228567 0.17041427\n",
            "  0.64629413 0.53300095 0.25106994 0.65130999 0.31197446 0.26612253\n",
            "  0.78589713 0.8090259  0.49416702 0.26947174 0.44310559 0.5398328\n",
            "  0.43977624 0.30366129 0.31739233 0.22164705 0.30280643 0.4721129\n",
            "  0.59222159 0.43971466 0.52063345 0.63608216 0.55887719 0.59468925\n",
            "  0.2190309  0.27864138 0.61317239 0.39457955]\n",
            " [0.51732497 0.30846519 0.42852283 0.23424347 0.33772446 0.22147343\n",
            "  0.77844526 0.50730849 0.69948016 0.66346122 0.35055104 0.33973617\n",
            "  0.40866714 0.41211335 0.21368659 0.3871644  0.49098703 0.38402418\n",
            "  0.4357247  0.26774059 0.62955499 0.6422838  0.49136029 0.26380061\n",
            "  0.23983029 0.53688388 0.50264023 0.68231515 0.42715521 0.32848425\n",
            "  0.18157449 0.26402832 0.45398656 0.47388765 0.18484931 0.74265362\n",
            "  0.20113873 0.35586602 0.50822752 0.47723104 0.58741205 0.42977875\n",
            "  0.51664404 0.04762145 0.59491853 0.46716321 0.27937753 0.41890335\n",
            "  0.7329048  0.50077543 0.66529472 0.34087529 0.39391444 0.68496162\n",
            "  0.38526585 0.60748693 0.51646735 0.32970043 0.48240526 0.68690483\n",
            "  0.30958933 0.21214484 0.5975229  0.30701237 0.51291704 0.6853869\n",
            "  0.3635438  0.         0.68617269 0.27539464 0.13134392 0.53169668\n",
            "  0.30405125 0.19783958 0.18751947 0.41839063 0.48143959 0.50165008\n",
            "  0.42722943 0.59474335 0.18792551 0.09707415 0.66253187 0.50790999\n",
            "  0.37157823 0.07670249 0.4575687  0.15337266 0.47858929 0.15520146\n",
            "  0.58625578 0.21738555 0.40465996 0.5055443  0.4998449  0.24975162\n",
            "  0.15407362 0.54110357 0.29011986 0.5253403 ]\n",
            " [0.18300067 0.42900103 0.72463719 0.91419312 0.69655172 0.80910706\n",
            "  0.90214209 0.95379115 0.90061038 0.10692142 0.34440784 0.67026861\n",
            "  1.09472524 0.28353971 0.86207905 0.58349001 0.47381585 0.30225161\n",
            "  0.53694999 0.4603922  0.66859724 0.41407219 0.82245869 0.56106396\n",
            "  0.925825   0.26533325 0.75307543 0.55993876 0.89463902 0.85054176\n",
            "  0.84056812 0.58300272 1.02292554 0.37070029 0.79958296 0.91416913\n",
            "  0.80303748 0.41056928 0.50948191 0.31417339 0.15970914 0.82165172\n",
            "  0.72177495 0.71249655 0.14966579 1.14669679 0.44918212 1.00763876\n",
            "  0.84718077 0.22812822 0.68816404 0.73370651 1.03735523 0.16594235\n",
            "  0.85088863 0.80646366 0.80285737 0.85967023 0.27068191 0.77283435\n",
            "  0.87863214 0.75397841 0.62298495 0.98216691 0.50742483 0.1015845\n",
            "  0.40200187 0.68617269 0.         0.59160864 0.79241242 0.29642108\n",
            "  0.88937302 0.78724769 0.50455739 0.77083239 0.24050129 0.60381287\n",
            "  1.10438259 0.8693831  0.85658502 0.61503269 0.13300676 0.500878\n",
            "  0.84171678 0.61010269 0.27592063 0.58765476 0.66593426 0.82844398\n",
            "  0.49706477 0.6346882  0.57891829 0.65689565 0.53900741 0.93589495\n",
            "  0.58374355 0.14509077 0.8368318  0.27029573]\n",
            " [0.47433857 0.16929451 0.65503216 0.40788097 0.11811502 0.24428337\n",
            "  0.52156918 0.37518637 0.45715576 0.5291145  0.3541243  0.09957098\n",
            "  0.59513371 0.31972175 0.48229552 0.11180291 0.61201596 0.33238733\n",
            "  0.59014748 0.15330898 0.3545411  0.40194559 0.73523549 0.44197027\n",
            "  0.45506063 0.55678232 0.2560804  0.41434862 0.30748082 0.60023878\n",
            "  0.31860963 0.45502511 0.43263303 0.26340804 0.46023757 0.49497801\n",
            "  0.47643002 0.43925544 0.64250908 0.29703143 0.55692936 0.68313081\n",
            "  0.25715055 0.32301417 0.45876223 0.61410516 0.37039415 0.42109541\n",
            "  0.47151172 0.48973562 0.39036735 0.14970569 0.47160095 0.52634022\n",
            "  0.65096983 0.35645793 0.75098036 0.26970638 0.32787008 0.41825115\n",
            "  0.58484959 0.18359937 0.32221775 0.54713873 0.64575653 0.55107589\n",
            "  0.44217711 0.27539464 0.59160864 0.         0.40159625 0.56739127\n",
            "  0.30985781 0.22979988 0.19920159 0.21002486 0.35148722 0.67401759\n",
            "  0.56974043 0.36942237 0.44751108 0.30551058 0.51794237 0.24516358\n",
            "  0.63726971 0.23567414 0.3166554  0.34523351 0.67717846 0.41464348\n",
            "  0.32488717 0.06870853 0.12947721 0.23366582 0.22960486 0.46032056\n",
            "  0.34231316 0.46097258 0.25161751 0.35096788]\n",
            " [0.61597285 0.43722612 0.38833261 0.19062169 0.4480901  0.28141331\n",
            "  0.88732108 0.57344532 0.80199092 0.77973996 0.44895257 0.45479989\n",
            "  0.32100183 0.52877699 0.08234593 0.51311512 0.5239293  0.49391763\n",
            "  0.45375332 0.39673708 0.75310314 0.77347897 0.42740491 0.29351583\n",
            "  0.15545335 0.61329339 0.61177181 0.81224731 0.49639774 0.22825364\n",
            "  0.1939307  0.28340164 0.47863249 0.60417508 0.07403532 0.84706701\n",
            "  0.09325061 0.42352498 0.53196052 0.60483429 0.67861396 0.3575684\n",
            "  0.63079441 0.08768192 0.71313157 0.39919721 0.35662968 0.437236\n",
            "  0.84487857 0.59055296 0.78855793 0.44370615 0.37648911 0.80572976\n",
            "  0.29585689 0.71588415 0.4614435  0.39167743 0.60665057 0.80394101\n",
            "  0.19411675 0.29836902 0.72331439 0.18981542 0.53712121 0.80120492\n",
            "  0.43228567 0.13134392 0.79241242 0.40159625 0.         0.60225102\n",
            "  0.34368341 0.26472996 0.31045088 0.51869945 0.60182832 0.50101623\n",
            "  0.36609133 0.6923941  0.06418305 0.17739265 0.78095418 0.63833949\n",
            "  0.28306846 0.20046773 0.58054817 0.21201141 0.45971773 0.04038108\n",
            "  0.71700755 0.33890815 0.53099469 0.62647278 0.62889629 0.16732541\n",
            "  0.21519101 0.64860031 0.35301583 0.65136096]\n",
            " [0.1591906  0.40716695 0.43911985 0.76399694 0.68550501 0.71657291\n",
            "  1.01557568 0.93897934 0.98365831 0.36272958 0.21388778 0.6653647\n",
            "  0.92266551 0.28453335 0.65541486 0.61459281 0.17769995 0.24544416\n",
            "  0.24666875 0.41427966 0.78842372 0.59742546 0.53396113 0.32085134\n",
            "  0.75364283 0.03171821 0.79876727 0.727901   0.86557504 0.59782205\n",
            "  0.71061119 0.3388549  0.95350489 0.46780596 0.58612131 1.01007468\n",
            "  0.58388977 0.17896353 0.21306772 0.41206914 0.13675714 0.54237566\n",
            "  0.78140881 0.54017457 0.34254137 0.99372686 0.25240011 0.92678821\n",
            "  0.95930757 0.10496898 0.81747574 0.71562473 0.9225326  0.42251515\n",
            "  0.58370756 0.88058889 0.51060502 0.79907847 0.36626353 0.88810467\n",
            "  0.63690136 0.67512336 0.74061745 0.78548819 0.21107408 0.37274407\n",
            "  0.17041427 0.53169668 0.29642108 0.56739127 0.60225102 0.\n",
            "  0.80441173 0.69155918 0.39693443 0.77632498 0.32318395 0.30776938\n",
            "  0.9558957  0.9197498  0.66362989 0.43912214 0.3831127  0.60319405\n",
            "  0.57658924 0.46771371 0.34565161 0.39205834 0.37228521 0.64221195\n",
            "  0.63738426 0.57948544 0.61903166 0.72739696 0.63090724 0.76510094\n",
            "  0.38944217 0.22701038 0.76629841 0.40474715]\n",
            " [0.74947248 0.4606247  0.72137115 0.20203003 0.25009731 0.08805074\n",
            "  0.61443961 0.23737136 0.5153969  0.83544022 0.5985679  0.27480036\n",
            "  0.34303547 0.60755194 0.39035053 0.37749992 0.79001697 0.60360145\n",
            "  0.73896801 0.42952618 0.5568364  0.69579991 0.76979029 0.56720582\n",
            "  0.27554743 0.80278499 0.36529075 0.67007394 0.16922725 0.56911662\n",
            "  0.15033651 0.568073   0.15144997 0.57262763 0.41717869 0.56310049\n",
            "  0.43623097 0.63993956 0.80980438 0.60635244 0.82916118 0.70093422\n",
            "  0.4014123  0.327045   0.76442825 0.32818806 0.56114865 0.12253759\n",
            "  0.58498457 0.75008363 0.58681782 0.21831798 0.16614458 0.83570418\n",
            "  0.63873147 0.45370736 0.80160817 0.07320606 0.6343175  0.56755561\n",
            "  0.52608008 0.1356501  0.54664742 0.37378839 0.81433221 0.8576474\n",
            "  0.64629413 0.30405125 0.88937302 0.30985781 0.34368341 0.80441173\n",
            "  0.         0.11329578 0.40990583 0.26012409 0.65315034 0.80561305\n",
            "  0.28574965 0.40099319 0.34318013 0.39794015 0.82576202 0.52686693\n",
            "  0.6262095  0.34478147 0.61984424 0.45519121 0.77975757 0.32395766\n",
            "  0.60131748 0.25573843 0.39362783 0.4314495  0.49789488 0.27246251\n",
            "  0.45524845 0.75077822 0.06198224 0.6603694 ]\n",
            " [0.64116327 0.36150323 0.62380544 0.18834098 0.21322737 0.02529901\n",
            "  0.63461071 0.31321008 0.54380127 0.73968392 0.48718449 0.23024637\n",
            "  0.36928288 0.50393957 0.32776894 0.32043759 0.67802531 0.49589658\n",
            "  0.62911607 0.32719677 0.53421866 0.63056698 0.67994039 0.45792346\n",
            "  0.24941646 0.69046013 0.36448867 0.62684813 0.23412955 0.49270598\n",
            "  0.10135457 0.46022307 0.26435045 0.49058411 0.33822286 0.59010651\n",
            "  0.35738298 0.52666215 0.69869634 0.51722487 0.71983387 0.61401548\n",
            "  0.39156644 0.22805372 0.66844004 0.38436841 0.44787633 0.23528052\n",
            "  0.5968138  0.63938256 0.5675075  0.19577111 0.25076135 0.74507544\n",
            "  0.55858526 0.46495649 0.70852546 0.13263478 0.54030004 0.56564323\n",
            "  0.45731288 0.05001133 0.51471539 0.34937254 0.70314121 0.76204544\n",
            "  0.53300095 0.19783958 0.78724769 0.22979988 0.26472996 0.69155918\n",
            "  0.11329578 0.         0.29856356 0.26348308 0.55504452 0.69828372\n",
            "  0.34000202 0.43174812 0.28268537 0.28819241 0.73196338 0.46801349\n",
            "  0.54541857 0.23205978 0.52317514 0.34530438 0.67641267 0.25603483\n",
            "  0.54643849 0.16514888 0.33833504 0.40434602 0.4452312  0.2513596\n",
            "  0.34506531 0.64629881 0.09284677 0.5709819 ]\n",
            " [0.34563006 0.1330308  0.46658158 0.40971187 0.31018466 0.32297952\n",
            "  0.71454455 0.54937153 0.65526414 0.47641128 0.18869764 0.29669542\n",
            "  0.59233941 0.22564124 0.39012072 0.28968246 0.41619844 0.20364983\n",
            "  0.39098967 0.09612279 0.52470661 0.47678109 0.55343141 0.24701548\n",
            "  0.42582627 0.39345032 0.45486151 0.54190466 0.47309167 0.45451585\n",
            "  0.33737495 0.26246925 0.55736878 0.30212791 0.34313685 0.69170219\n",
            "  0.35407185 0.24678739 0.44514596 0.2956832  0.42241656 0.50937427\n",
            "  0.45260256 0.22336062 0.40751441 0.64217703 0.17328409 0.53242199\n",
            "  0.66232533 0.34087586 0.56008527 0.333517   0.54134393 0.49754099\n",
            "  0.49170262 0.55342891 0.56394596 0.40220303 0.29629425 0.60303483\n",
            "  0.45553339 0.27844695 0.48418782 0.49385487 0.44860679 0.49844122\n",
            "  0.25106994 0.18751947 0.50455739 0.19920159 0.31045088 0.39693443\n",
            "  0.40990583 0.29856356 0.         0.4038248  0.29392401 0.47491472\n",
            "  0.60002985 0.56843862 0.37190833 0.14950643 0.47506754 0.36872073\n",
            "  0.47851503 0.11138647 0.27065228 0.1660281  0.48062513 0.34029464\n",
            "  0.44057281 0.18869428 0.30282276 0.4188012  0.37284363 0.4351933\n",
            "  0.16214894 0.35988358 0.36947743 0.34103065]\n",
            " [0.67449552 0.37199533 0.83663326 0.4420179  0.09365229 0.25703262\n",
            "  0.37122415 0.18498837 0.28332624 0.69316532 0.56369496 0.11098568\n",
            "  0.60220545 0.51699003 0.5883315  0.18826466 0.81968747 0.53728231\n",
            "  0.79283225 0.36216153 0.29979967 0.48257406 0.90743092 0.63575096\n",
            "  0.50947438 0.76453961 0.10547607 0.42640528 0.14488631 0.7417317\n",
            "  0.36219447 0.64572665 0.31110752 0.40758242 0.58929977 0.32846819\n",
            "  0.60789133 0.64805111 0.84896944 0.45854309 0.75697736 0.84782523\n",
            "  0.14187511 0.46141375 0.62711216 0.5858218  0.57698337 0.32109879\n",
            "  0.33385887 0.69504958 0.32812172 0.07769893 0.41607202 0.67599781\n",
            "  0.80245933 0.20166671 0.92918119 0.18809963 0.50015701 0.30867767\n",
            "  0.71277527 0.22150251 0.29603825 0.61025863 0.85242838 0.71369129\n",
            "  0.65130999 0.41839063 0.77083239 0.21002486 0.51869945 0.77632498\n",
            "  0.26012409 0.26348308 0.4038248  0.         0.53279788 0.87417706\n",
            "  0.54448041 0.17637698 0.54454312 0.48054111 0.67700896 0.31411411\n",
            "  0.78885547 0.40923418 0.49710115 0.52977367 0.87018235 0.51613019\n",
            "  0.37582121 0.22109078 0.19582507 0.18187227 0.2771184  0.50987103\n",
            "  0.52768168 0.65208778 0.20515437 0.50817742]\n",
            " [0.1719207  0.19355024 0.64395481 0.69709892 0.45636128 0.57567447\n",
            "  0.70651975 0.71450891 0.68835086 0.1856902  0.20231726 0.43030711\n",
            "  0.88321295 0.07859932 0.6790787  0.34735917 0.45864888 0.13116506\n",
            "  0.48816855 0.22927088 0.47417829 0.27798708 0.74282632 0.43615516\n",
            "  0.71881373 0.29762347 0.52392584 0.40472231 0.65426989 0.71002036\n",
            "  0.61757699 0.45858746 0.78360339 0.15212267 0.62520563 0.70858389\n",
            "  0.63300269 0.3170261  0.49752682 0.09242968 0.24481203 0.72121698\n",
            "  0.4968876  0.51594897 0.11493409 0.9258788  0.31158412 0.76970451\n",
            "  0.65017501 0.21864213 0.50070121 0.49334761 0.80579374 0.20393667\n",
            "  0.72889613 0.58886794 0.73650407 0.62037389 0.04382171 0.57690421\n",
            "  0.72468451 0.51864517 0.42629986 0.78746122 0.49797799 0.20806771\n",
            "  0.31197446 0.48143959 0.24050129 0.35148722 0.60182832 0.32318395\n",
            "  0.65315034 0.55504452 0.29392401 0.53279788 0.         0.57308631\n",
            "  0.88250621 0.64336201 0.66446121 0.42952905 0.18166727 0.29124144\n",
            "  0.71736936 0.40518242 0.03571862 0.41956219 0.6146937  0.63343004\n",
            "  0.31559853 0.39747556 0.34480699 0.43506439 0.32447043 0.72783668\n",
            "  0.41523193 0.12511872 0.59889312 0.08455826]\n",
            " [0.44600481 0.56181976 0.16685633 0.69093416 0.78133891 0.72253831\n",
            "  1.18505045 0.99888102 1.12983505 0.66160524 0.38309748 0.77027922\n",
            "  0.80137114 0.50668305 0.5169954  0.75956179 0.13007187 0.45156606\n",
            "  0.08824084 0.54580111 0.97968282 0.84746353 0.24276868 0.24223319\n",
            "  0.65187487 0.33852332 0.92976159 0.95767047 0.91891525 0.38458736\n",
            "  0.67241997 0.23807142 0.95471288 0.68758843 0.44998212 1.16532405\n",
            "  0.43820029 0.26348098 0.09695972 0.64462975 0.44414659 0.27505257\n",
            "  0.92615765 0.4820867  0.62840383 0.89141533 0.31000095 0.91797643\n",
            "  1.13132789 0.38890583 1.01328502 0.79993948 0.87457074 0.71768812\n",
            "  0.34094109 1.02747442 0.21030429 0.82789553 0.60935955 1.06770665\n",
            "  0.43958279 0.70391174 0.93477047 0.64365526 0.10029343 0.67425301\n",
            "  0.26612253 0.50165008 0.60381287 0.67401759 0.50101623 0.30776938\n",
            "  0.80561305 0.69828372 0.47491472 0.87417706 0.57308631 0.\n",
            "  0.86269356 1.04267752 0.5456274  0.41083855 0.67915978 0.80302766\n",
            "  0.33946463 0.47514893 0.58184136 0.35455032 0.07492873 0.5386357\n",
            "  0.85782885 0.6534136  0.77050697 0.88732347 0.81958426 0.6636574\n",
            "  0.35542094 0.51393175 0.78901611 0.65710575]\n",
            " [0.94214773 0.69132858 0.7324341  0.19299337 0.53250346 0.32649406\n",
            "  0.88299169 0.47153302 0.78006199 1.06819165 0.77673541 0.55540098\n",
            "  0.09850982 0.82271723 0.34908508 0.65435787 0.8897909  0.80348806\n",
            "  0.81961181 0.65355349 0.84249955 0.96921447 0.74436963 0.65837546\n",
            "  0.21138282 0.96288992 0.64874472 0.95389395 0.43015286 0.52178425\n",
            "  0.26496068 0.64927244 0.29250538 0.82993441 0.41304867 0.82749866\n",
            "  0.42614554 0.77766493 0.89797766 0.85361104 1.01413581 0.67120727\n",
            "  0.68627347 0.41588412 0.99731777 0.04436653 0.7039753  0.25495351\n",
            "  0.85962411 0.92786599 0.87216406 0.50297978 0.13685846 1.07889917\n",
            "  0.59289594 0.73117027 0.78643982 0.3564161  0.87270751 0.84890931\n",
            "  0.46354593 0.38690975 0.83211663 0.24092426 0.90315106 1.0905617\n",
            "  0.78589713 0.42722943 1.10438259 0.56974043 0.36609133 0.9558957\n",
            "  0.28574965 0.34000202 0.60002985 0.54448041 0.88250621 0.86269356\n",
            "  0.         0.6681561  0.31706928 0.51682094 1.06284341 0.80380403\n",
            "  0.58425176 0.49919573 0.85294699 0.56536196 0.81441824 0.3264588\n",
            "  0.88063218 0.50470542 0.67151823 0.71706605 0.77774936 0.19950386\n",
            "  0.56759127 0.95989486 0.34575879 0.90682106]\n",
            " [0.80149278 0.51316617 1.01162268 0.59823268 0.26378209 0.4210931\n",
            "  0.21501186 0.20936587 0.11445032 0.77899968 0.71218819 0.27247125\n",
            "  0.73969874 0.64500972 0.75934376 0.30545901 0.98032508 0.67508253\n",
            "  0.95941889 0.51255966 0.259584   0.51518277 1.08356256 0.80706972\n",
            "  0.66929313 0.9043724  0.12125104 0.4122572  0.23837133 0.91701824\n",
            "  0.52571558 0.81814704 0.39179455 0.49904909 0.76390349 0.16211322\n",
            "  0.78265773 0.80670253 1.01151614 0.55740116 0.88207579 1.02419616\n",
            "  0.14760825 0.6375108  0.72023076 0.70534144 0.73962643 0.41883054\n",
            "  0.19483609 0.83027686 0.27062461 0.2540277  0.53212212 0.74915644\n",
            "  0.97845999 0.08800449 1.10477562 0.32919009 0.6045618  0.20689954\n",
            "  0.88645531 0.3940369  0.28441623 0.76979293 1.01466644 0.79723257\n",
            "  0.8090259  0.59474335 0.8693831  0.36942237 0.6923941  0.9197498\n",
            "  0.40099319 0.43174812 0.56843862 0.17637698 0.64336201 1.04267752\n",
            "  0.6681561  0.         0.71443296 0.6555303  0.75884032 0.37229011\n",
            "  0.96488127 0.5839443  0.60900271 0.70338391 1.04225368 0.68737079\n",
            "  0.40424209 0.39358895 0.30279309 0.2130583  0.33268498 0.66813663\n",
            "  0.70109641 0.76790559 0.35823996 0.59912422]\n",
            " [0.68008104 0.49627835 0.41989632 0.161833   0.4814338  0.29476738\n",
            "  0.91554831 0.57912766 0.82629331 0.84322151 0.51311939 0.49117775\n",
            "  0.2626786  0.59203291 0.0471743  0.55776154 0.57814343 0.557846\n",
            "  0.50487564 0.45558702 0.79400889 0.82876701 0.44572164 0.35066833\n",
            "  0.10710104 0.6754762  0.64210554 0.86108882 0.5053002  0.23075978\n",
            "  0.19478968 0.33860883 0.46557097 0.66164664 0.09642738 0.87237264\n",
            "  0.11122421 0.48531645 0.58366206 0.66475936 0.74226966 0.37330867\n",
            "  0.66452576 0.14861792 0.77627821 0.34672428 0.4198691  0.42236515\n",
            "  0.87559898 0.65419533 0.82904208 0.47245888 0.34679767 0.86839785\n",
            "  0.30277039 0.74480717 0.48375063 0.40001822 0.66817234 0.8388221\n",
            "  0.18336662 0.32323935 0.76667589 0.12563668 0.58889754 0.8647567\n",
            "  0.49416702 0.18792551 0.85658502 0.44751108 0.06418305 0.66362989\n",
            "  0.34318013 0.28268537 0.37190833 0.54454312 0.66446121 0.5456274\n",
            "  0.31706928 0.71443296 0.         0.24155534 0.84409804 0.68859144\n",
            "  0.29136458 0.26094446 0.64247451 0.27514798 0.49843931 0.03328204\n",
            "  0.76787367 0.38193714 0.57591962 0.66562843 0.6767241  0.11864759\n",
            "  0.27846082 0.71272272 0.36348911 0.71216997]\n",
            " [0.4393794  0.28252414 0.35613427 0.324965   0.39227121 0.31283387\n",
            "  0.82532311 0.58959122 0.75423092 0.60412313 0.2719784  0.38802943\n",
            "  0.4885438  0.35439955 0.25041068 0.41236697 0.39415518 0.31711482\n",
            "  0.34112431 0.24476019 0.65495413 0.6262173  0.43092075 0.16973267\n",
            "  0.31814125 0.4463658  0.55342755 0.68640393 0.50937333 0.30682025\n",
            "  0.27845387 0.17303899 0.54881675 0.45162101 0.1963585  0.79494032\n",
            "  0.20582308 0.26144473 0.4122178  0.44285521 0.50441778 0.37762704\n",
            "  0.56062695 0.10190457 0.53868834 0.55507495 0.18724739 0.51477286\n",
            "  0.77638923 0.41663744 0.69080649 0.40334696 0.49050152 0.63271038\n",
            "  0.34933074 0.65713802 0.44959996 0.41705814 0.43852949 0.72365786\n",
            "  0.30602823 0.29358335 0.61791519 0.36713889 0.41682854 0.62535387\n",
            "  0.26947174 0.09707415 0.61503269 0.30551058 0.17739265 0.43912214\n",
            "  0.39794015 0.28819241 0.14950643 0.48054111 0.42952905 0.41083855\n",
            "  0.51682094 0.6555303  0.24155534 0.         0.60641444 0.511674\n",
            "  0.33580131 0.07174266 0.4110652  0.05725212 0.39454575 0.2138617\n",
            "  0.5861459  0.26313413 0.42814392 0.5387148  0.51118554 0.32917665\n",
            "  0.0574292  0.47123962 0.37824114 0.48557352]\n",
            " [0.23319077 0.37176869 0.77913144 0.87846541 0.61164628 0.75156711\n",
            "  0.77631019 0.8619111  0.78112289 0.02615365 0.35474664 0.58433708\n",
            "  1.06484604 0.25222024 0.85677744 0.48900223 0.55233084 0.2927487\n",
            "  0.60275754 0.40932867 0.54444839 0.28300859 0.8786681  0.58957815\n",
            "  0.90039125 0.35160981 0.64663452 0.4289587  0.80925369 0.87382317\n",
            "  0.79810569 0.61225453 0.94944943 0.26942759 0.80032548 0.79166531\n",
            "  0.80685524 0.45036907 0.5904384  0.22219803 0.25459418 0.86727489\n",
            "  0.61200878 0.69591419 0.06782333 1.10640545 0.46746777 0.93903698\n",
            "  0.72212309 0.29033404 0.56177382 0.64977702 0.98217685 0.03946571\n",
            "  0.88503716 0.69066667 0.86525786 0.7872495  0.19177975 0.64803152\n",
            "  0.89369505 0.6931166  0.50026107 0.96781581 0.58935619 0.03860273\n",
            "  0.44310559 0.66253187 0.13300676 0.51794237 0.78095418 0.3831127\n",
            "  0.82576202 0.73196338 0.47506754 0.67700896 0.18166727 0.67915978\n",
            "  1.06284341 0.75884032 0.84409804 0.60641444 0.         0.38665562\n",
            "  0.87444704 0.58606224 0.20989686 0.59078686 0.7334069  0.81350481\n",
            "  0.37237766 0.57068412 0.48143294 0.54589376 0.42615611 0.90946047\n",
            "  0.58654514 0.16640559 0.76915609 0.16966249]\n",
            " [0.46155186 0.24682098 0.82767725 0.65149862 0.27847467 0.47816154\n",
            "  0.41544416 0.49529497 0.40083554 0.40724195 0.42479907 0.25246969\n",
            "  0.83693322 0.31919364 0.72036409 0.14969609 0.70876527 0.36556146\n",
            "  0.7147925  0.27467421 0.18522969 0.17073297 0.91871546 0.60464251\n",
            "  0.70021611 0.58120524 0.26318796 0.17517022 0.45753167 0.81813776\n",
            "  0.56195642 0.62322512 0.61747275 0.13911933 0.69012065 0.41822845\n",
            "  0.7045418  0.54108047 0.74554038 0.19913216 0.53603286 0.87762878\n",
            "  0.22613181 0.55467603 0.35121473 0.84788213 0.49756372 0.61905855\n",
            "  0.35906183 0.50234482 0.21506657 0.31426859 0.69301116 0.37728785\n",
            "  0.8595334  0.30561591 0.92526062 0.46849008 0.24831912 0.28620228\n",
            "  0.81144242 0.41882684 0.13745849 0.79185895 0.74728508 0.42511393\n",
            "  0.5398328  0.50790999 0.500878   0.24516358 0.63833949 0.60319405\n",
            "  0.52686693 0.46801349 0.36872073 0.31411411 0.29124144 0.80302766\n",
            "  0.80380403 0.37229011 0.68859144 0.511674   0.38665562 0.\n",
            "  0.84619883 0.4516299  0.26144204 0.5347486  0.82624754 0.65539931\n",
            "  0.0797543  0.31379908 0.13323921 0.1597232  0.03997303 0.7053949\n",
            "  0.53086397 0.41501606 0.46491624 0.23187866]\n",
            " [0.66005145 0.60873558 0.17523046 0.45304298 0.70926633 0.56351771\n",
            "  1.14968157 0.85626929 1.07085747 0.86489299 0.52063139 0.71039717\n",
            "  0.50468277 0.63885077 0.24689127 0.74655076 0.42847699 0.58785677\n",
            "  0.34470764 0.574385   0.98983847 0.94969003 0.16022946 0.28488903\n",
            "  0.39114784 0.60004658 0.87410834 1.02020665 0.77868422 0.062634\n",
            "  0.47595279 0.26223036 0.75600377 0.77399216 0.20915646 1.11421293\n",
            "  0.19002731 0.43131371 0.41487674 0.75421601 0.69460936 0.0874065\n",
            "  0.88681343 0.32744879 0.81056149 0.60332305 0.40788072 0.71318669\n",
            "  1.10334223 0.6143455  1.02572725 0.7116972  0.63612039 0.90757227\n",
            "  0.01373114 0.97894155 0.20364399 0.67437485 0.73825057 1.05464082\n",
            "  0.12106402 0.57409129 0.95351496 0.34508398 0.41994023 0.88317376\n",
            "  0.43977624 0.37157823 0.84171678 0.63726971 0.28306846 0.57658924\n",
            "  0.6262095  0.54541857 0.47851503 0.78885547 0.71736936 0.33946463\n",
            "  0.58425176 0.96488127 0.29136458 0.33580131 0.87444704 0.84619883\n",
            "  0.         0.40219321 0.7088038  0.31369949 0.27036349 0.3037941\n",
            "  0.91906568 0.58622014 0.76280678 0.87083504 0.84686931 0.40118126\n",
            "  0.31784119 0.71485328 0.63541169 0.78839025]\n",
            " [0.44318862 0.23703702 0.427679   0.30661088 0.32056711 0.25731024\n",
            "  0.75411928 0.52374486 0.68250419 0.58680847 0.27761681 0.31635853\n",
            "  0.48463372 0.33542247 0.28144647 0.34435808 0.44626477 0.30785674\n",
            "  0.40092288 0.19677724 0.58771063 0.57653748 0.50243224 0.23294079\n",
            "  0.31636329 0.47036902 0.48177303 0.62680011 0.44384774 0.36824892\n",
            "  0.24370897 0.23959251 0.49619049 0.40499916 0.24055184 0.72330548\n",
            "  0.25382178 0.29679207 0.46801822 0.40437337 0.51514548 0.44802581\n",
            "  0.48951948 0.11284622 0.51840082 0.54008467 0.21821183 0.46514208\n",
            "  0.70556033 0.42948008 0.6236043  0.33225027 0.4549208  0.60889559\n",
            "  0.41585657 0.58560274 0.52133901 0.35575922 0.40733747 0.65387063\n",
            "  0.35991095 0.22991867 0.55206045 0.38246882 0.47233359 0.60871618\n",
            "  0.30366129 0.07670249 0.61010269 0.23567414 0.20046773 0.46771371\n",
            "  0.34478147 0.23205978 0.11138647 0.40923418 0.40518242 0.47514893\n",
            "  0.49919573 0.5839443  0.26094446 0.07174266 0.58606224 0.4516299\n",
            "  0.40219321 0.         0.38197627 0.12197835 0.46329936 0.22906622\n",
            "  0.52811735 0.19139784 0.3606783  0.46931085 0.44808421 0.32614157\n",
            "  0.12047314 0.46501192 0.31806751 0.45126227]\n",
            " [0.20012607 0.16206007 0.64381067 0.66907907 0.42075443 0.54337805\n",
            "  0.67682611 0.67879971 0.65601207 0.21650944 0.20309365 0.3946477\n",
            "  0.85611384 0.07579683 0.65903646 0.31187837 0.47170504 0.13165605\n",
            "  0.4955392  0.19946622 0.44575643 0.26563784 0.74192518 0.43102259\n",
            "  0.69317524 0.32176047 0.48924262 0.38475093 0.61874013 0.6984563\n",
            "  0.58823535 0.45311264 0.74906622 0.12312159 0.60737223 0.67726515\n",
            "  0.61604258 0.32156569 0.51026702 0.06661617 0.27619493 0.71692992\n",
            "  0.4629003  0.49386598 0.14526575 0.89652054 0.30724005 0.735727\n",
            "  0.62042909 0.24253635 0.4733913  0.45780936 0.7737885  0.22818735\n",
            "  0.72067739 0.555875   0.73784853 0.58589635 0.02961157 0.54762878\n",
            "  0.71039741 0.48579635 0.39781192 0.76438497 0.51106692 0.23887521\n",
            "  0.31739233 0.4575687  0.27592063 0.3166554  0.58054817 0.34565161\n",
            "  0.61984424 0.52317514 0.27065228 0.49710115 0.03571862 0.58184136\n",
            "  0.85294699 0.60900271 0.64247451 0.4110652  0.20989686 0.26144204\n",
            "  0.7088038  0.38197627 0.         0.40542579 0.61972053 0.61094577\n",
            "  0.29185104 0.36410761 0.30960865 0.40174817 0.29319684 0.70192267\n",
            "  0.40107257 0.158906   0.56500201 0.08012437]\n",
            " [0.40784463 0.29503663 0.3100417  0.3753149  0.43960305 0.37000592\n",
            "  0.86679599 0.64475425 0.79931684 0.58611867 0.24350203 0.43314329\n",
            "  0.53093455 0.34187001 0.27511996 0.44757238 0.33766835 0.29813969\n",
            "  0.28389532 0.2611949  0.68741709 0.63673732 0.39114567 0.11277141\n",
            "  0.36159325 0.40180198 0.59789614 0.70772739 0.5646551  0.29483352\n",
            "  0.33383257 0.11770846 0.60603774 0.46100339 0.21208806 0.8388554\n",
            "  0.21676708 0.21312631 0.35510856 0.44478058 0.4674027  0.34391548\n",
            "  0.60224327 0.15000634 0.52373979 0.60229515 0.14472118 0.5718249\n",
            "  0.81654887 0.37933988 0.72306474 0.45327081 0.54514392 0.6196366\n",
            "  0.32668555 0.70052307 0.40574685 0.4736077  0.43413189 0.76102451\n",
            "  0.30519569 0.34936951 0.64824322 0.39988825 0.35974816 0.60662721\n",
            "  0.22164705 0.15337266 0.58765476 0.34523351 0.21201141 0.39205834\n",
            "  0.45519121 0.34530438 0.1660281  0.52977367 0.41956219 0.35455032\n",
            "  0.56536196 0.70338391 0.27514798 0.05725212 0.59078686 0.5347486\n",
            "  0.31369949 0.12197835 0.40542579 0.         0.34138573 0.2512955\n",
            "  0.60617659 0.30979894 0.46229197 0.57581382 0.53818595 0.37304267\n",
            "  0.00435469 0.44641518 0.43497007 0.48309657]\n",
            " [0.50081175 0.58087107 0.09529121 0.65028124 0.77884364 0.69980511\n",
            "  1.19511599 0.9835779  1.13431545 0.71731349 0.41716913 0.77028098\n",
            "  0.74797851 0.54393151 0.46580547 0.76972631 0.19660106 0.48809745\n",
            "  0.13067972 0.56012654 0.99786797 0.88400189 0.16834786 0.23538273\n",
            "  0.60550943 0.40199769 0.93302053 0.98689366 0.90329207 0.31967921\n",
            "  0.64050173 0.22447006 0.92622186 0.71846121 0.40201289 1.17180494\n",
            "  0.38828706 0.29821091 0.16829433 0.67986562 0.50700007 0.20140611\n",
            "  0.93295692 0.45288253 0.67927423 0.84084335 0.32869316 0.88773001\n",
            "  1.14259779 0.44505802 1.03229326 0.79418882 0.83608061 0.77122194\n",
            "  0.27060195 1.0333487  0.13884247 0.80812711 0.64823176 1.08169041\n",
            "  0.37676797 0.68720659 0.95434028 0.58845002 0.17227698 0.73124061\n",
            "  0.30280643 0.47858929 0.66593426 0.67717846 0.45971773 0.37228521\n",
            "  0.77975757 0.67641267 0.48062513 0.87018235 0.6146937  0.07492873\n",
            "  0.81441824 1.04225368 0.49843931 0.39454575 0.7334069  0.82624754\n",
            "  0.27036349 0.46329936 0.61972053 0.34138573 0.         0.49522879\n",
            "  0.88569668 0.64931427 0.78203453 0.89865016 0.83956855 0.61708686\n",
            "  0.34313561 0.5670996  0.76864066 0.69735878]\n",
            " [0.65320158 0.46366307 0.42081852 0.15609125 0.45091529 0.26977307\n",
            "  0.88671038 0.55789599 0.79858921 0.81305712 0.48584006 0.45997266\n",
            "  0.28074789 0.56165757 0.07220729 0.52511059 0.56396512 0.52865123\n",
            "  0.49315768 0.42294179 0.76206007 0.79554206 0.45385867 0.33383518\n",
            "  0.11538753 0.6529334  0.61252064 0.82802102 0.48266046 0.24538903\n",
            "  0.17383965 0.32348697 0.45263797 0.628664   0.09797966 0.84438352\n",
            "  0.11586167 0.46339058 0.57153105 0.63233298 0.71697476 0.38252603\n",
            "  0.63408095 0.11759306 0.74570565 0.35906202 0.39564958 0.41024656\n",
            "  0.84604577 0.62896119 0.79718398 0.44311373 0.34275205 0.83733825\n",
            "  0.31591486 0.71568365 0.48990224 0.3773414  0.63640339 0.80818634\n",
            "  0.2032046  0.29462768 0.7342904  0.15449034 0.57670967 0.83469292\n",
            "  0.4721129  0.15520146 0.82844398 0.41464348 0.04038108 0.64221195\n",
            "  0.32395766 0.25603483 0.34029464 0.51613019 0.63343004 0.5386357\n",
            "  0.3264588  0.68737079 0.03328204 0.2138617  0.81350481 0.65539931\n",
            "  0.3037941  0.22906622 0.61094577 0.2512955  0.49522879 0.\n",
            "  0.73465383 0.34939304 0.54323816 0.63396891 0.64372678 0.1272815\n",
            "  0.25434941 0.68419022 0.33986812 0.68005311]\n",
            " [0.48717647 0.31325082 0.89265329 0.73073531 0.35146717 0.55584219\n",
            "  0.40507743 0.55078134 0.41087968 0.39578184 0.47545867 0.32656208\n",
            "  0.9156179  0.35941866 0.79914857 0.22650694 0.75686108 0.41075155\n",
            "  0.76975983 0.34498537 0.17208362 0.11153162 0.98558432 0.66992029\n",
            "  0.77991735 0.61282723 0.30855426 0.10219002 0.52067483 0.89295826\n",
            "  0.64117837 0.68936807 0.68452762 0.17231399 0.76756048 0.41940574\n",
            "  0.78163494 0.59441441 0.79460212 0.22532486 0.55543927 0.94722179\n",
            "  0.26666909 0.63275797 0.35028465 0.9245697  0.55783128 0.68888967\n",
            "  0.35023491 0.533636   0.19147489 0.38568142 0.7673091  0.35526909\n",
            "  0.93227123 0.32684405 0.98993367 0.5404261  0.27188089 0.27595639\n",
            "  0.88800449 0.49699068 0.12858028 0.87160147 0.7959304  0.41074355\n",
            "  0.59222159 0.58625578 0.49706477 0.32488717 0.71700755 0.63738426\n",
            "  0.60131748 0.54643849 0.44057281 0.37582121 0.31559853 0.85782885\n",
            "  0.88063218 0.40424209 0.76787367 0.5861459  0.37237766 0.0797543\n",
            "  0.91906568 0.52811735 0.29185104 0.60617659 0.88569668 0.73465383\n",
            "  0.         0.39349358 0.20913421 0.20300216 0.1034353  0.78504573\n",
            "  0.6021762  0.43261674 0.53935025 0.24141347]\n",
            " [0.50311131 0.20571235 0.61861702 0.3395064  0.12980699 0.1822035\n",
            "  0.56434646 0.36116069 0.49111203 0.57987303 0.3661643  0.12523915\n",
            "  0.52723739 0.35492712 0.4183622  0.1759185  0.60383399 0.35758058\n",
            "  0.5729299  0.17776739 0.41421437 0.46987019 0.69359105 0.41467832\n",
            "  0.38642377 0.57247948 0.29059856 0.48194193 0.28619363 0.54554995\n",
            "  0.25042822 0.42493446 0.38985458 0.32544524 0.40093477 0.53213563\n",
            "  0.41790992 0.43548145 0.63148808 0.35324513 0.58472873 0.63766194\n",
            "  0.30064001 0.26450531 0.50879412 0.54905111 0.36110008 0.37295835\n",
            "  0.51718379 0.51119726 0.44971848 0.14676207 0.41234803 0.58201957\n",
            "  0.59995092 0.39480398 0.71269331 0.22749695 0.37899506 0.46959301\n",
            "  0.52623455 0.12261983 0.38499458 0.47903848 0.63516377 0.60211809\n",
            "  0.43971466 0.21738555 0.6346882  0.06870853 0.33890815 0.57948544\n",
            "  0.25573843 0.16514888 0.18869428 0.22109078 0.39747556 0.6534136\n",
            "  0.50470542 0.39358895 0.38193714 0.26313413 0.57068412 0.31379908\n",
            "  0.58622014 0.19139784 0.36410761 0.30979894 0.64931427 0.34939304\n",
            "  0.39349358 0.         0.19414489 0.28850047 0.29717658 0.39162625\n",
            "  0.30750982 0.49826241 0.20221265 0.40718994]\n",
            " [0.49889315 0.21630492 0.76887428 0.52444067 0.14595248 0.34691875\n",
            "  0.41455407 0.38081034 0.36696044 0.49805773 0.41605289 0.1194526\n",
            "  0.70759061 0.34221663 0.61146748 0.01833345 0.69347026 0.37367936\n",
            "  0.68378921 0.22503659 0.22703571 0.30294075 0.85336089 0.54973125\n",
            "  0.57717912 0.60255705 0.18165871 0.28981404 0.33339253 0.72780915\n",
            "  0.43502474 0.56524591 0.48802507 0.21207544 0.58950097 0.39787502\n",
            "  0.60552053 0.51961467 0.72723681 0.26497885 0.57986062 0.80464525\n",
            "  0.16266174 0.45227811 0.4331007  0.71548415 0.46073908 0.48748627\n",
            "  0.36098741 0.52774595 0.26292792 0.18271229 0.55977218 0.48020714\n",
            "  0.77645126 0.26327731 0.86596457 0.33596801 0.30894148 0.30021329\n",
            "  0.71387739 0.28858828 0.19287045 0.67189861 0.72984915 0.51834881\n",
            "  0.52063345 0.40465996 0.57891829 0.12947721 0.53099469 0.61903166\n",
            "  0.39362783 0.33833504 0.30282276 0.19582507 0.34480699 0.77050697\n",
            "  0.67151823 0.30279309 0.57591962 0.42814392 0.48143294 0.13323921\n",
            "  0.76280678 0.3606783  0.30960865 0.46229197 0.78203453 0.54323816\n",
            "  0.20913421 0.19414489 0.         0.11685348 0.10691336 0.58150173\n",
            "  0.45894864 0.46786477 0.33167782 0.31315676]\n",
            " [0.59867157 0.33072798 0.88389658 0.59238013 0.19120302 0.40639089\n",
            "  0.29780519 0.34864301 0.25646943 0.56594631 0.52922844 0.17575926\n",
            "  0.76612769 0.44554062 0.70448144 0.12912321 0.80887244 0.48230978\n",
            "  0.8005205  0.34168726 0.12994572 0.31393909 0.96687592 0.66581666\n",
            "  0.65259677 0.70908522 0.10588706 0.24454202 0.325069   0.83277381\n",
            "  0.50540621 0.68092234 0.49276076 0.28744672 0.68943524 0.28367367\n",
            "  0.7063686  0.63533433 0.84306236 0.34668661 0.67740008 0.91625964\n",
            "  0.06644666 0.55286294 0.50752045 0.75963677 0.57748888 0.50264409\n",
            "  0.24414223 0.63239825 0.16396113 0.21504353 0.59332418 0.53700767\n",
            "  0.88454286 0.1544388  0.98070333 0.36311522 0.39475139 0.18522509\n",
            "  0.81472379 0.35512232 0.11543795 0.75106618 0.84558083 0.58424652\n",
            "  0.63608216 0.5055443  0.65689565 0.23366582 0.62647278 0.72739696\n",
            "  0.4314495  0.40434602 0.4188012  0.18187227 0.43506439 0.88732347\n",
            "  0.71706605 0.2130583  0.66562843 0.5387148  0.54589376 0.1597232\n",
            "  0.87083504 0.46931085 0.40174817 0.57581382 0.89865016 0.63396891\n",
            "  0.20300216 0.28850047 0.11685348 0.         0.11987694 0.65525726\n",
            "  0.57262377 0.5601634  0.37152752 0.38661091]\n",
            " [0.49302496 0.25874058 0.83660431 0.63100025 0.24803906 0.45373442\n",
            "  0.38492757 0.45688123 0.36463341 0.44647205 0.44564079 0.22317592\n",
            "  0.81449794 0.34637513 0.71036649 0.12482266 0.72956656 0.38988694\n",
            "  0.731496   0.28195332 0.16090559 0.20558603 0.92574452 0.61401695\n",
            "  0.68257889 0.6100082  0.22325434 0.18478587 0.42130984 0.81615052\n",
            "  0.54151066 0.63174257 0.58312987 0.1731335  0.68372725 0.3841594\n",
            "  0.69884793 0.55954206 0.76569527 0.23332222 0.5690738  0.8820347\n",
            "  0.18623807 0.54714965 0.38937604 0.8216091  0.5115801  0.58631459\n",
            "  0.32857258 0.53162678 0.19376079 0.28247229 0.66387464 0.41719314\n",
            "  0.86034268 0.26767285 0.93424325 0.43719876 0.28233963 0.25729758\n",
            "  0.80656124 0.39550098 0.11518681 0.77618697 0.76766682 0.46456074\n",
            "  0.55887719 0.4998449  0.53900741 0.22960486 0.62889629 0.63090724\n",
            "  0.49789488 0.4452312  0.37284363 0.2771184  0.32447043 0.81958426\n",
            "  0.77774936 0.33268498 0.6767241  0.51118554 0.42615611 0.03997303\n",
            "  0.84686931 0.44808421 0.29319684 0.53818595 0.83956855 0.64372678\n",
            "  0.1034353  0.29717658 0.10691336 0.11987694 0.         0.68719918\n",
            "  0.5344586  0.44910989 0.4359327  0.26922322]\n",
            " [0.76551016 0.54563025 0.53791041 0.07048017 0.46440139 0.25329053\n",
            "  0.87794846 0.50799459 0.78233939 0.91150863 0.59805371 0.48016206\n",
            "  0.15964804 0.66076565 0.15598126 0.56321325 0.69122086 0.63377531\n",
            "  0.62023923 0.50537372 0.78519819 0.85870126 0.55898249 0.46068754\n",
            "  0.01190003 0.77429697 0.61343555 0.87129543 0.44159797 0.3388821\n",
            "  0.15001218 0.45071232 0.37054395 0.701558   0.21507472 0.82968073\n",
            "  0.22944762 0.5861585  0.69870643 0.71424456 0.83308431 0.48592427\n",
            "  0.6423335  0.22739507 0.84218906 0.23188102 0.51545167 0.32624242\n",
            "  0.84346624 0.74552736 0.81871125 0.44646191 0.23599576 0.93009959\n",
            "  0.41147063 0.71110218 0.59864557 0.34028442 0.72510799 0.81586004\n",
            "  0.28474343 0.30014808 0.76417017 0.10174899 0.70389451 0.93358421\n",
            "  0.59468925 0.24975162 0.93589495 0.46032056 0.16732541 0.76510094\n",
            "  0.27246251 0.2513596  0.4351933  0.50987103 0.72783668 0.6636574\n",
            "  0.19950386 0.66813663 0.11864759 0.32917665 0.90946047 0.7053949\n",
            "  0.40118126 0.32614157 0.70192267 0.37304267 0.61708686 0.1272815\n",
            "  0.78504573 0.39162625 0.58150173 0.65525726 0.68719918 0.\n",
            "  0.37569312 0.79083894 0.30998267 0.76499875]\n",
            " [0.40407814 0.29090467 0.31281558 0.37727293 0.43731605 0.36983154\n",
            "  0.86388215 0.64366484 0.79672752 0.58192428 0.2395298  0.43063211\n",
            "  0.53375955 0.33755657 0.2788645  0.4442976  0.3369174  0.29391781\n",
            "  0.28405259 0.25719084 0.68392994 0.63249998 0.39443182 0.11337989\n",
            "  0.3642745  0.39892761 0.59527808 0.7037573  0.56360667 0.29915761\n",
            "  0.33487955 0.11912396 0.60620173 0.45676338 0.2160917  0.83615241\n",
            "  0.22090316 0.21056426 0.35479215 0.4404482  0.4639554  0.34759763\n",
            "  0.59937726 0.15199793 0.51948069 0.60467902 0.14144817 0.57219819\n",
            "  0.81353801 0.37588474 0.7195618  0.45128808 0.54640387 0.61535508\n",
            "  0.33080809 0.69778939 0.40869506 0.47300077 0.42977736 0.75782225\n",
            "  0.30953779 0.34850972 0.64465108 0.40332058 0.35939985 0.60245098\n",
            "  0.2190309  0.15407362 0.58374355 0.34231316 0.21519101 0.38944217\n",
            "  0.45524845 0.34506531 0.16214894 0.52768168 0.41523193 0.35542094\n",
            "  0.56759127 0.70109641 0.27846082 0.0574292  0.58654514 0.53086397\n",
            "  0.31784119 0.12047314 0.40107257 0.00435469 0.34313561 0.25434941\n",
            "  0.6021762  0.30750982 0.45894864 0.57262377 0.5344586  0.37569312\n",
            "  0.         0.4423885  0.43445552 0.47874264]\n",
            " [0.06906034 0.29353311 0.61340956 0.76933893 0.57162616 0.66875762\n",
            "  0.82949109 0.83133564 0.81331818 0.152085   0.20315096 0.54656949\n",
            "  0.94963593 0.14338965 0.71959509 0.46926754 0.38861175 0.1571633\n",
            "  0.43648838 0.32138525 0.59612364 0.37715268 0.71285209 0.43055224\n",
            "  0.78079662 0.19701343 0.64804401 0.51469434 0.76772456 0.71845403\n",
            "  0.69654728 0.45304938 0.88803192 0.27616399 0.65847577 0.83299455\n",
            "  0.66285065 0.28629743 0.42717758 0.21596577 0.12282927 0.70345338\n",
            "  0.62174354 0.56787901 0.11622872 1.00205026 0.31247807 0.87054324\n",
            "  0.77325346 0.12675824 0.62123737 0.60751394 0.89550637 0.20416287\n",
            "  0.72491815 0.71398374 0.69891357 0.72518808 0.1668177  0.69958079\n",
            "  0.74280038 0.61512943 0.54845268 0.83819349 0.42644039 0.16885012\n",
            "  0.27864138 0.54110357 0.14509077 0.46097258 0.64860031 0.22701038\n",
            "  0.75077822 0.64629881 0.35988358 0.65208778 0.12511872 0.51393175\n",
            "  0.95989486 0.76790559 0.71272272 0.47123962 0.16640559 0.41501606\n",
            "  0.71485328 0.46501192 0.158906   0.44641518 0.5670996  0.68419022\n",
            "  0.43261674 0.49826241 0.46786477 0.5601634  0.44910989 0.79083894\n",
            "  0.4423885  0.         0.70023442 0.19140544]\n",
            " [0.70256955 0.40791001 0.71665219 0.2403718  0.18823881 0.07201305\n",
            "  0.56843208 0.22122818 0.47236874 0.77961975 0.55687607 0.21282038\n",
            "  0.39760018 0.55684863 0.40999042 0.31561874 0.7639253  0.55655606\n",
            "  0.71809122 0.37907714 0.49814907 0.63398818 0.77214287 0.54774124\n",
            "  0.31105616 0.76273173 0.31059197 0.60875971 0.14338213 0.58121988\n",
            "  0.16980467 0.55100509 0.18917888 0.51315237 0.42699476 0.5196983\n",
            "  0.4462142  0.60738938 0.78608365 0.54864439 0.78332317 0.70562832\n",
            "  0.34467418 0.32084882 0.70885461 0.38871505 0.52902277 0.17085123\n",
            "  0.53573573 0.7065428  0.52887216 0.15725693 0.22810958 0.77795576\n",
            "  0.64841686 0.40355031 0.80115801 0.03979306 0.57826587 0.51382721\n",
            "  0.54291941 0.09129668 0.4864114  0.41157932 0.79040074 0.80172071\n",
            "  0.61317239 0.29011986 0.8368318  0.25161751 0.35301583 0.76629841\n",
            "  0.06198224 0.09284677 0.36947743 0.20515437 0.59889312 0.78901611\n",
            "  0.34575879 0.35823996 0.36348911 0.37824114 0.76915609 0.46491624\n",
            "  0.63541169 0.31806751 0.56500201 0.43497007 0.76864066 0.33986812\n",
            "  0.53935025 0.20221265 0.33167782 0.37152752 0.4359327  0.30998267\n",
            "  0.43445552 0.70023442 0.         0.60258522]\n",
            " [0.24915094 0.21937163 0.72342943 0.72770506 0.44202413 0.58927015\n",
            "  0.64165525 0.69289628 0.63267882 0.18498984 0.28200857 0.41469011\n",
            "  0.91624975 0.15468788 0.73111002 0.31995052 0.54320714 0.21028277\n",
            "  0.57173115 0.259705   0.40746811 0.19377485 0.82172821 0.51114489\n",
            "  0.756814   0.37793489 0.48344165 0.32465351 0.63959475 0.77699803\n",
            "  0.64385865 0.53322398 0.7808577  0.10151847 0.68183034 0.64883477\n",
            "  0.69124961 0.39921588 0.58208325 0.05402681 0.31421585 0.79705429\n",
            "  0.45152107 0.56398976 0.12126619 0.95084829 0.38733373 0.7716216\n",
            "  0.58573074 0.29978924 0.43115386 0.48018083 0.81952865 0.17537809\n",
            "  0.80034454 0.53689398 0.81707985 0.61922957 0.05051779 0.51158948\n",
            "  0.78744492 0.52975801 0.36028888 0.83218979 0.58253581 0.20562642\n",
            "  0.39457955 0.5253403  0.27029573 0.35096788 0.65136096 0.40474715\n",
            "  0.6603694  0.5709819  0.34103065 0.50817742 0.08455826 0.65710575\n",
            "  0.90682106 0.59912422 0.71216997 0.48557352 0.16966249 0.23187866\n",
            "  0.78839025 0.45126227 0.08012437 0.48309657 0.69735878 0.68005311\n",
            "  0.24141347 0.40718994 0.31315676 0.38661091 0.26922322 0.76499875\n",
            "  0.47874264 0.19140544 0.60258522 0.        ]]\n"
          ]
        }
      ],
      "source": [
        "a = np.random.random((100,2))\n",
        "X,Y = np.atleast_2d(a[:,0]), np.atleast_2d(a[:,1])\n",
        "D = np.sqrt( (X-X.T)**2 + (Y-Y.T)**2)\n",
        "print(D)"
      ]
    },
    {
      "cell_type": "markdown",
      "metadata": {
        "id": "6ZtHy4ekDntd"
      },
      "source": [
        "#### 53. How to convert a float (32 bits) array into an integer (32 bits) in place? \n",
        "(**hint**: astype(copy=False))"
      ]
    },
    {
      "cell_type": "code",
      "execution_count": null,
      "metadata": {
        "id": "PfCqSl2EDnte",
        "colab": {
          "base_uri": "https://localhost:8080/"
        },
        "outputId": "7a1a3e3c-38f5-464d-85f5-28da3bca8bfb"
      },
      "outputs": [
        {
          "output_type": "stream",
          "name": "stdout",
          "text": [
            "[0 1 2 3 4 5 6 7 8 9]\n",
            "[0. 1. 2. 3. 4. 5. 6. 7. 8. 9.]\n"
          ]
        }
      ],
      "source": [
        "a = np.arange(10,dtype=np.int32)\n",
        "print(a)\n",
        "a = a.astype(np.float32, copy=False)\n",
        "print(a)"
      ]
    },
    {
      "cell_type": "markdown",
      "metadata": {
        "id": "lySGhYUNDnte"
      },
      "source": [
        "#### 54. How to read the following file? (★★☆) \n",
        "(**hint**: np.genfromtxt)"
      ]
    },
    {
      "cell_type": "markdown",
      "metadata": {
        "id": "toO7K-dLDnte"
      },
      "source": [
        "```\n",
        "1, 2, 3, 4, 5\n",
        "6,  ,  , 7, 8\n",
        " ,  , 9,10,11\n",
        "```"
      ]
    },
    {
      "cell_type": "code",
      "execution_count": null,
      "metadata": {
        "id": "tTtOw6xTDntf",
        "colab": {
          "base_uri": "https://localhost:8080/"
        },
        "outputId": "aa39a0f2-ea72-4dbc-e834-b2de4f08a969"
      },
      "outputs": [
        {
          "output_type": "stream",
          "name": "stdout",
          "text": [
            "[[ 1  2  3  4  5]\n",
            " [ 6 -1 -1  7  8]\n",
            " [-1 -1  9 10 11]]\n"
          ]
        }
      ],
      "source": [
        "from io import StringIO\n",
        "\n",
        "s = StringIO('''1, 2, 3, 4, 5\n",
        "                6,  ,  , 7, 8\n",
        "                 ,  , 9,10,11\n",
        "''')\n",
        "\n",
        "a=np.genfromtxt(s,delimiter=\",\",dtype=np.int)\n",
        "print(a)"
      ]
    },
    {
      "cell_type": "markdown",
      "metadata": {
        "id": "unE_skKxDntf"
      },
      "source": [
        "#### 55. What is the equivalent of enumerate for numpy arrays? (★★☆) \n",
        "(**hint**: np.ndenumerate, np.ndindex)"
      ]
    },
    {
      "cell_type": "code",
      "source": [
        "a=np.arange(9).reshape(3,3)\n",
        "a\n",
        "for index, value in np.ndenumerate(a):\n",
        "    print(index, value)\n",
        "for index in np.ndindex(a.shape):\n",
        "    print(index, a[index])"
      ],
      "metadata": {
        "colab": {
          "base_uri": "https://localhost:8080/"
        },
        "id": "_iKtQDbR9fg3",
        "outputId": "2bb95d51-9275-4310-f4ff-59fa63c8c8c7"
      },
      "execution_count": null,
      "outputs": [
        {
          "output_type": "stream",
          "name": "stdout",
          "text": [
            "(0, 0) 0\n",
            "(0, 1) 1\n",
            "(0, 2) 2\n",
            "(1, 0) 3\n",
            "(1, 1) 4\n",
            "(1, 2) 5\n",
            "(2, 0) 6\n",
            "(2, 1) 7\n",
            "(2, 2) 8\n",
            "(0, 0) 0\n",
            "(0, 1) 1\n",
            "(0, 2) 2\n",
            "(1, 0) 3\n",
            "(1, 1) 4\n",
            "(1, 2) 5\n",
            "(2, 0) 6\n",
            "(2, 1) 7\n",
            "(2, 2) 8\n"
          ]
        }
      ]
    },
    {
      "cell_type": "markdown",
      "metadata": {
        "id": "sKggwgD7Dntf"
      },
      "source": [
        "#### 56. Generate a generic 2D Gaussian-like array (★★☆) \n",
        "(**hint**: np.meshgrid, np.exp)"
      ]
    },
    {
      "cell_type": "code",
      "execution_count": null,
      "metadata": {
        "id": "9sP_R64KDntg",
        "colab": {
          "base_uri": "https://localhost:8080/"
        },
        "outputId": "3c5096cb-2d7b-4e7d-c947-d5fb08af1108"
      },
      "outputs": [
        {
          "output_type": "stream",
          "name": "stdout",
          "text": [
            "[[0.36787944 0.44822088 0.51979489 0.57375342 0.60279818 0.60279818\n",
            "  0.57375342 0.51979489 0.44822088 0.36787944]\n",
            " [0.44822088 0.54610814 0.63331324 0.69905581 0.73444367 0.73444367\n",
            "  0.69905581 0.63331324 0.54610814 0.44822088]\n",
            " [0.51979489 0.63331324 0.73444367 0.81068432 0.85172308 0.85172308\n",
            "  0.81068432 0.73444367 0.63331324 0.51979489]\n",
            " [0.57375342 0.69905581 0.81068432 0.89483932 0.9401382  0.9401382\n",
            "  0.89483932 0.81068432 0.69905581 0.57375342]\n",
            " [0.60279818 0.73444367 0.85172308 0.9401382  0.98773022 0.98773022\n",
            "  0.9401382  0.85172308 0.73444367 0.60279818]\n",
            " [0.60279818 0.73444367 0.85172308 0.9401382  0.98773022 0.98773022\n",
            "  0.9401382  0.85172308 0.73444367 0.60279818]\n",
            " [0.57375342 0.69905581 0.81068432 0.89483932 0.9401382  0.9401382\n",
            "  0.89483932 0.81068432 0.69905581 0.57375342]\n",
            " [0.51979489 0.63331324 0.73444367 0.81068432 0.85172308 0.85172308\n",
            "  0.81068432 0.73444367 0.63331324 0.51979489]\n",
            " [0.44822088 0.54610814 0.63331324 0.69905581 0.73444367 0.73444367\n",
            "  0.69905581 0.63331324 0.54610814 0.44822088]\n",
            " [0.36787944 0.44822088 0.51979489 0.57375342 0.60279818 0.60279818\n",
            "  0.57375342 0.51979489 0.44822088 0.36787944]]\n"
          ]
        }
      ],
      "source": [
        "X, Y = np.meshgrid(np.linspace(-1,1,10), np.linspace(-1,1,10))\n",
        "D = np.sqrt(X*X+Y*Y)\n",
        "sigma, mu = 1.0, 0.0\n",
        "G = np.exp(-( (D-mu)**2 / ( 2.0 * sigma**2 ) ) )\n",
        "print(G)"
      ]
    },
    {
      "cell_type": "markdown",
      "metadata": {
        "id": "XREb3cMjDntg"
      },
      "source": [
        "#### 57. How to randomly place p elements in a 2D array? (★★☆) \n",
        "(**hint**: np.put, np.random.choice)"
      ]
    },
    {
      "cell_type": "code",
      "execution_count": null,
      "metadata": {
        "id": "coEWFr3sDntg",
        "colab": {
          "base_uri": "https://localhost:8080/"
        },
        "outputId": "430e68a6-1ac5-416f-dcf6-3f23572f12e8"
      },
      "outputs": [
        {
          "output_type": "stream",
          "name": "stdout",
          "text": [
            "[[0. 0. 0. 0. 0. 0. 0. 0. 0. 0.]\n",
            " [0. 7. 0. 0. 0. 0. 0. 0. 7. 0.]\n",
            " [0. 0. 0. 0. 0. 7. 0. 0. 0. 0.]\n",
            " [0. 0. 0. 0. 0. 0. 0. 0. 0. 0.]\n",
            " [0. 0. 0. 0. 0. 0. 0. 0. 0. 0.]\n",
            " [0. 0. 0. 0. 0. 0. 0. 0. 0. 0.]\n",
            " [0. 7. 0. 7. 0. 0. 0. 0. 0. 0.]\n",
            " [0. 7. 0. 0. 0. 0. 0. 0. 7. 0.]\n",
            " [0. 0. 0. 0. 0. 0. 7. 0. 0. 0.]\n",
            " [0. 0. 7. 0. 0. 0. 0. 0. 0. 0.]]\n"
          ]
        }
      ],
      "source": [
        "n=10\n",
        "p = 9\n",
        "a= np.zeros((n,n))\n",
        "np.put(a, np.random.choice(range(n*n), p, replace=False),7)\n",
        "print(a)"
      ]
    },
    {
      "cell_type": "markdown",
      "metadata": {
        "id": "a1_32H5ODnth"
      },
      "source": [
        "#### 58. Subtract the mean of each row of a matrix (★★☆) \n",
        "(**hint**: mean(axis=,keepdims=))"
      ]
    },
    {
      "cell_type": "code",
      "execution_count": null,
      "metadata": {
        "id": "Zkb8LPT8Dnth",
        "colab": {
          "base_uri": "https://localhost:8080/"
        },
        "outputId": "263ebc29-6a40-4c8f-a944-d30f5730e120"
      },
      "outputs": [
        {
          "output_type": "stream",
          "name": "stdout",
          "text": [
            "[[0.4074704 ]\n",
            " [0.46263937]\n",
            " [0.34567147]\n",
            " [0.49917863]\n",
            " [0.62946552]]\n",
            "[[0.60756721 0.71231855 0.30667923 0.24907004 0.44785244 0.0633661\n",
            "  0.00953873 0.56756021 0.40083444 0.70991708]\n",
            " [0.92499415 0.56966333 0.07947472 0.41717486 0.77392154 0.66538148\n",
            "  0.73234424 0.18888225 0.18708759 0.0874695 ]\n",
            " [0.28264624 0.15257745 0.06987621 0.13897812 0.27437052 0.59220212\n",
            "  0.46248391 0.88716553 0.20569999 0.39071457]\n",
            " [0.3248654  0.19626444 0.62943518 0.87929884 0.30714655 0.78899881\n",
            "  0.2534464  0.80266431 0.74623065 0.06343575]\n",
            " [0.70741114 0.00966733 0.32960669 0.82917479 0.60815004 0.93283652\n",
            "  0.42648793 0.6227489  0.99091412 0.83765773]]\n",
            "[[ 0.20009681  0.30484815 -0.10079117 -0.15840036  0.04038203 -0.34410431\n",
            "  -0.39793168  0.16008981 -0.00663596  0.30244668]\n",
            " [ 0.46235479  0.10702397 -0.38316465 -0.0454645   0.31128218  0.20274212\n",
            "   0.26970487 -0.27375711 -0.27555178 -0.37516987]\n",
            " [-0.06302522 -0.19309401 -0.27579525 -0.20669335 -0.07130094  0.24653065\n",
            "   0.11681244  0.54149406 -0.13997148  0.04504311]\n",
            " [-0.17431324 -0.30291419  0.13025655  0.38012021 -0.19203208  0.28982017\n",
            "  -0.24573223  0.30348568  0.24705202 -0.43574288]\n",
            " [ 0.07794563 -0.61979819 -0.29985883  0.19970927 -0.02131547  0.303371\n",
            "  -0.20297759 -0.00671662  0.3614486   0.20819221]]\n"
          ]
        }
      ],
      "source": [
        "a = np.random.rand(5, 10)\n",
        "#print(a.mean(axis=1, keepdims=True))\n",
        "#print(a)\n",
        "x = a- a.mean(axis=1, keepdims=True)\n",
        "print(x)"
      ]
    },
    {
      "cell_type": "markdown",
      "metadata": {
        "id": "sru2m6k6Dnth"
      },
      "source": [
        "#### 59. How to sort an array by the nth column? (★★☆) \n",
        "(**hint**: argsort)"
      ]
    },
    {
      "cell_type": "code",
      "execution_count": null,
      "metadata": {
        "id": "O02x4524Dnti",
        "colab": {
          "base_uri": "https://localhost:8080/"
        },
        "outputId": "29a0ccf4-7bac-4e52-dda0-22cfa4e7b054"
      },
      "outputs": [
        {
          "output_type": "stream",
          "name": "stdout",
          "text": [
            "[[2 0 6]\n",
            " [5 5 4]\n",
            " [5 0 0]]\n",
            "[[5 0 0]\n",
            " [5 5 4]\n",
            " [2 0 6]]\n"
          ]
        }
      ],
      "source": [
        "a= np.random.randint(0,10,(3,3))\n",
        "print(a)\n",
        "print(a[a[:,2].argsort()])"
      ]
    },
    {
      "cell_type": "markdown",
      "metadata": {
        "id": "CJqPZD-IDnti"
      },
      "source": [
        "#### 60. How to tell if a given 2D array has null columns? (★★☆) \n",
        "(**hint**: any, ~)"
      ]
    },
    {
      "cell_type": "code",
      "execution_count": null,
      "metadata": {
        "id": "Q419KSnxDnti",
        "colab": {
          "base_uri": "https://localhost:8080/"
        },
        "outputId": "0b3bef32-6f27-4635-9863-1eaf4b87207f"
      },
      "outputs": [
        {
          "output_type": "stream",
          "name": "stdout",
          "text": [
            "[[0 1 0 1 1 0 1 2 0 1]\n",
            " [1 2 1 1 1 2 1 1 2 0]\n",
            " [2 2 0 2 1 0 1 1 2 0]]\n",
            "False\n"
          ]
        }
      ],
      "source": [
        "a = np.random.randint(0,3,(3,10))\n",
        "print(a)\n",
        "print((~a.any(axis=0)).any())\n",
        "\n"
      ]
    },
    {
      "cell_type": "code",
      "source": [
        "Z = np.random.randint(0,3,(3,10)).astype(float)\n",
        "Z[:,0] = np.nan\n",
        "G = np.isnan(Z)\n",
        "print((G.all(axis=0)).any())\n"
      ],
      "metadata": {
        "colab": {
          "base_uri": "https://localhost:8080/"
        },
        "id": "tEadGAu0BOjC",
        "outputId": "7f23bcef-59a6-4987-aa88-2ff2404797e9"
      },
      "execution_count": null,
      "outputs": [
        {
          "output_type": "stream",
          "name": "stdout",
          "text": [
            "True\n"
          ]
        }
      ]
    },
    {
      "cell_type": "markdown",
      "metadata": {
        "id": "sKM8FU7nDnti"
      },
      "source": [
        "#### 61. Find the nearest value from a given value in an array (★★☆) \n",
        "(**hint**: np.abs, argmin, flat)"
      ]
    },
    {
      "cell_type": "code",
      "execution_count": null,
      "metadata": {
        "id": "NPFGNtP7Dnti",
        "colab": {
          "base_uri": "https://localhost:8080/"
        },
        "outputId": "c2d77b77-c8d9-49ad-9446-27cd896717af"
      },
      "outputs": [
        {
          "output_type": "stream",
          "name": "stdout",
          "text": [
            "[0.1190151  4.34693923 0.68556995 3.33106121 0.30910765 3.85491522\n",
            " 1.93365342 2.75252389 2.46106917 0.98910226]\n",
            "0.9891022587258397\n"
          ]
        }
      ],
      "source": [
        "a = np.random.uniform(0,5,10)\n",
        "print(a)\n",
        "v = 1\n",
        "f = a.flat[np.abs(a-v).argmin()]\n",
        "print(f)"
      ]
    },
    {
      "cell_type": "markdown",
      "metadata": {
        "id": "oMCHgw1KDntj"
      },
      "source": [
        "#### 62. Considering two arrays with shape (1,3) and (3,1), how to compute their sum using an iterator? (★★☆) \n",
        "(**hint**: np.nditer)"
      ]
    },
    {
      "cell_type": "code",
      "execution_count": null,
      "metadata": {
        "id": "CpsvmFISDntj",
        "colab": {
          "base_uri": "https://localhost:8080/"
        },
        "outputId": "7d2261b8-e05b-43af-ef66-d6b98786b4f3"
      },
      "outputs": [
        {
          "output_type": "stream",
          "name": "stdout",
          "text": [
            "[[0 1 2]\n",
            " [1 2 3]\n",
            " [2 3 4]]\n"
          ]
        }
      ],
      "source": [
        "A = np.arange(3).reshape(1,3)\n",
        "B = np.arange(3).reshape(3,1)\n",
        "it = np.nditer([A,B,None])\n",
        "for x,y,z in it:\n",
        "  z[...] = x + y\n",
        "print(it.operands[2])"
      ]
    },
    {
      "cell_type": "markdown",
      "metadata": {
        "id": "ZxQ8m5KKDntj"
      },
      "source": [
        "#### 63. Create an array class that has a name attribute (★★☆) \n",
        "(**hint**: class method)"
      ]
    },
    {
      "cell_type": "code",
      "execution_count": null,
      "metadata": {
        "id": "RVzJnq0RDntj",
        "colab": {
          "base_uri": "https://localhost:8080/"
        },
        "outputId": "4ea3946d-99f8-4322-b33c-87c1bc04ccc7"
      },
      "outputs": [
        {
          "output_type": "stream",
          "name": "stdout",
          "text": [
            "range_10\n"
          ]
        }
      ],
      "source": [
        "class Name(np.ndarray):\n",
        "    def __new__(cls, array, name=\"no name\"):\n",
        "        obj = np.asarray(array).view(cls)\n",
        "        obj.name = name\n",
        "        return obj\n",
        "    def __array_finalize__(self, obj):\n",
        "        if obj is None:\n",
        "          return\n",
        "        self.info = getattr(obj, 'name', \"no name\")\n",
        "\n",
        "Z = Name(np.arange(10), \"range_10\")\n",
        "print (Z.name)"
      ]
    },
    {
      "cell_type": "markdown",
      "metadata": {
        "id": "LNiGqo4YDntk"
      },
      "source": [
        "#### 64. Consider a given vector, how to add 1 to each element indexed by a second vector (be careful with repeated indices)? (★★★) \n",
        "(**hint**: np.bincount | np.add.at)"
      ]
    },
    {
      "cell_type": "code",
      "execution_count": null,
      "metadata": {
        "id": "Dk7UridXDntk",
        "colab": {
          "base_uri": "https://localhost:8080/"
        },
        "outputId": "84001c27-903e-4a53-8ad7-3ed954535f5c"
      },
      "outputs": [
        {
          "output_type": "stream",
          "name": "stdout",
          "text": [
            "[1. 5. 4. 2. 4. 4. 3. 3. 2. 2.]\n"
          ]
        }
      ],
      "source": [
        "a= np.ones(10)\n",
        "I = np.random.randint(0,len(a),20)\n",
        "a += np.bincount(I, minlength=len(a))\n",
        "print(a)\n",
        "\n"
      ]
    },
    {
      "cell_type": "code",
      "source": [
        "np.add.at(a, I, 1)\n",
        "print(a)"
      ],
      "metadata": {
        "colab": {
          "base_uri": "https://localhost:8080/"
        },
        "id": "sibPUUhdR7aC",
        "outputId": "f5754fea-fb3c-4660-940d-47e1cbca401e"
      },
      "execution_count": null,
      "outputs": [
        {
          "output_type": "stream",
          "name": "stdout",
          "text": [
            "[1. 9. 7. 3. 7. 7. 5. 5. 3. 3.]\n"
          ]
        }
      ]
    },
    {
      "cell_type": "markdown",
      "metadata": {
        "id": "nrsPSeLkDntk"
      },
      "source": [
        "#### 65. How to accumulate elements of a vector (X) to an array (F) based on an index list (I)? (★★★) \n",
        "(**hint**: np.bincount)"
      ]
    },
    {
      "cell_type": "code",
      "execution_count": null,
      "metadata": {
        "id": "x0IHiW-xDntk",
        "colab": {
          "base_uri": "https://localhost:8080/"
        },
        "outputId": "a4477f72-2100-42ce-fcc2-69f33131b477"
      },
      "outputs": [
        {
          "output_type": "stream",
          "name": "stdout",
          "text": [
            "[0. 7. 0. 6. 5. 0. 0. 0. 0. 3.]\n"
          ]
        }
      ],
      "source": [
        "#inital set:  I=  [1,3,9,3,4,1]   \n",
        "#weight       x=  [1,2,3,4,5,6]\n",
        "#maximum size is 9 because 9 is the max number\n",
        "#Bin:             [0,1,2,3,4,5,6,7,8,9]\n",
        "#sum of weights:  [0,2,0,2,1,0,0,0,0,1]\n",
        "#Binvalue:        [0,7,0,6,5,0,0,0,0,3]\n",
        "X = [1,2,3,4,5,6]\n",
        "I = [1,3,9,3,4,1]\n",
        "F = np.bincount(I,X)\n",
        "print(F)"
      ]
    },
    {
      "cell_type": "markdown",
      "metadata": {
        "id": "baqvK5l3Dntk"
      },
      "source": [
        "#### 66. Considering a (w,h,3) image of (dtype=ubyte), compute the number of unique colors (★★★) \n",
        "(**hint**: np.unique)"
      ]
    },
    {
      "cell_type": "code",
      "execution_count": null,
      "metadata": {
        "id": "kIqKtLBcDntl",
        "colab": {
          "base_uri": "https://localhost:8080/"
        },
        "outputId": "0361257d-f2e6-4a14-f3ee-653a58399cc8"
      },
      "outputs": [
        {
          "output_type": "stream",
          "name": "stdout",
          "text": [
            "64\n"
          ]
        }
      ],
      "source": [
        "w, h = 256, 256\n",
        "I = np.random.randint(0, 4, (h, w, 3)).astype(np.ubyte)\n",
        "colors = np.unique(I.reshape(-1, 3), axis=0)\n",
        "n = len(colors)\n",
        "print(n)"
      ]
    },
    {
      "cell_type": "markdown",
      "metadata": {
        "id": "SJy4TX0SDntl"
      },
      "source": [
        "#### 67. Considering a four dimensions array, how to get sum over the last two axis at once? (★★★) \n",
        "(**hint**: sum(axis=(-2,-1)))"
      ]
    },
    {
      "cell_type": "code",
      "execution_count": null,
      "metadata": {
        "id": "2FNx9KcZDntl",
        "colab": {
          "base_uri": "https://localhost:8080/"
        },
        "outputId": "03cb5760-a1db-46d5-f0b7-904b140db863"
      },
      "outputs": [
        {
          "output_type": "stream",
          "name": "stdout",
          "text": [
            "[[[[1 1 3 0]\n",
            "   [3 3 8 9]\n",
            "   [7 8 9 2]]\n",
            "\n",
            "  [[0 2 1 9]\n",
            "   [7 2 8 8]\n",
            "   [3 6 5 5]]\n",
            "\n",
            "  [[7 8 9 5]\n",
            "   [9 0 6 4]\n",
            "   [0 9 0 5]]\n",
            "\n",
            "  [[6 9 0 4]\n",
            "   [0 8 1 4]\n",
            "   [8 1 1 4]]]\n",
            "\n",
            "\n",
            " [[[1 4 2 2]\n",
            "   [4 9 3 7]\n",
            "   [9 7 4 7]]\n",
            "\n",
            "  [[6 1 6 9]\n",
            "   [8 4 8 7]\n",
            "   [0 2 0 2]]\n",
            "\n",
            "  [[3 6 5 1]\n",
            "   [0 7 1 6]\n",
            "   [0 0 3 0]]\n",
            "\n",
            "  [[6 5 8 1]\n",
            "   [9 7 6 1]\n",
            "   [7 6 8 7]]]\n",
            "\n",
            "\n",
            " [[[6 2 9 5]\n",
            "   [9 8 0 0]\n",
            "   [3 1 4 2]]\n",
            "\n",
            "  [[8 8 8 4]\n",
            "   [5 1 7 9]\n",
            "   [0 1 5 3]]\n",
            "\n",
            "  [[7 0 9 4]\n",
            "   [4 6 7 0]\n",
            "   [3 7 6 0]]\n",
            "\n",
            "  [[1 9 0 1]\n",
            "   [8 5 9 7]\n",
            "   [1 7 9 3]]]]\n",
            "\n",
            " sum : \n",
            "\n",
            "[[54 56 62 46]\n",
            " [59 53 32 71]\n",
            " [49 59 53 60]]\n"
          ]
        }
      ],
      "source": [
        "A = np.random.randint(0,10,(3,4,3,4))\n",
        "print(A)\n",
        "sum = A.sum(axis=(-2,-1))\n",
        "print(\"\\n sum : \\n\")\n",
        "print(sum)"
      ]
    },
    {
      "cell_type": "markdown",
      "metadata": {
        "id": "DJdTwbGODntl"
      },
      "source": [
        "#### 68. Considering a one-dimensional vector D, how to compute means of subsets of D using a vector S of same size describing subset  indices? (★★★) \n",
        "(**hint**: np.bincount)"
      ]
    },
    {
      "cell_type": "code",
      "execution_count": null,
      "metadata": {
        "id": "ERYsG1-cDntm",
        "colab": {
          "base_uri": "https://localhost:8080/"
        },
        "outputId": "65f12bc8-1387-4032-ebfb-2c2ace33c995"
      },
      "outputs": [
        {
          "output_type": "stream",
          "name": "stdout",
          "text": [
            "[0.48365303 0.58661946 0.36813193 0.56535282 0.60089329 0.5727182\n",
            " 0.54552272 0.47471018 0.47277591 0.46496846]\n"
          ]
        }
      ],
      "source": [
        "D = np.random.uniform(0,1,100)\n",
        "S = np.random.randint(0,10,100)\n",
        "D_sums = np.bincount(S, weights=D)\n",
        "D_counts = np.bincount(S)\n",
        "D_means = D_sums / D_counts\n",
        "print(D_means)"
      ]
    },
    {
      "cell_type": "markdown",
      "metadata": {
        "id": "v-SQZMxhDntm"
      },
      "source": [
        "#### 69. How to get the diagonal of a dot product? (★★★) \n",
        "(**hint**: np.diag)"
      ]
    },
    {
      "cell_type": "code",
      "execution_count": null,
      "metadata": {
        "id": "nTXo6db9Dntm",
        "colab": {
          "base_uri": "https://localhost:8080/"
        },
        "outputId": "8096f4f9-8f7e-4122-b7b4-6a8981bc7742"
      },
      "outputs": [
        {
          "output_type": "stream",
          "name": "stdout",
          "text": [
            "[[63 18 62]\n",
            " [57 26 49]\n",
            " [81 38 80]]\n",
            "\n",
            " diaonal of dot product: \n",
            "\n",
            "[63 26 80]\n"
          ]
        }
      ],
      "source": [
        "A = np.random.randint(0,10,(3,3))\n",
        "B= np.random.randint(0,10,(3,3))\n",
        "print(np.dot(A,B))\n",
        "print(\"\\n diaonal of dot product: \\n\")\n",
        "d=np.diag(np.dot(A, B))\n",
        "print(d)"
      ]
    },
    {
      "cell_type": "markdown",
      "metadata": {
        "id": "baFJczVFDntm"
      },
      "source": [
        "#### 70. Consider the vector \\[1, 2, 3, 4, 5\\], how to build a new vector with 3 consecutive zeros interleaved between each value? (★★★) \n",
        "(**hint**: array\\[::4\\])"
      ]
    },
    {
      "cell_type": "code",
      "execution_count": null,
      "metadata": {
        "id": "9ELEh2pyDntm",
        "colab": {
          "base_uri": "https://localhost:8080/"
        },
        "outputId": "2dfc83ac-6f30-4db0-f712-71ad807f3115"
      },
      "outputs": [
        {
          "output_type": "stream",
          "name": "stdout",
          "text": [
            "[1. 0. 0. 0. 2. 0. 0. 0. 3. 0. 0. 0. 4. 0. 0. 0. 5.]\n"
          ]
        }
      ],
      "source": [
        "a = np.array([1,2,3,4,5])\n",
        "n = np.zeros(len(a) + (len(a)-1)*3)\n",
        "n[::4]=a\n",
        "print(n)"
      ]
    },
    {
      "cell_type": "markdown",
      "metadata": {
        "id": "rqjkcMIrDntm"
      },
      "source": [
        "#### 71. Consider an array of dimension (5,5,3), how to mulitply it by an array with dimensions (5,5)? (★★★) \n",
        "(**hint**: array\\[:, :, None\\])"
      ]
    },
    {
      "cell_type": "code",
      "execution_count": null,
      "metadata": {
        "collapsed": true,
        "id": "mbb3XECnDntm",
        "colab": {
          "base_uri": "https://localhost:8080/"
        },
        "outputId": "3df4bc81-13be-4cbb-c79b-dc8cb1197365"
      },
      "outputs": [
        {
          "output_type": "stream",
          "name": "stdout",
          "text": [
            "[[[2. 2. 2.]\n",
            "  [2. 2. 2.]\n",
            "  [2. 2. 2.]\n",
            "  [2. 2. 2.]\n",
            "  [2. 2. 2.]]\n",
            "\n",
            " [[2. 2. 2.]\n",
            "  [2. 2. 2.]\n",
            "  [2. 2. 2.]\n",
            "  [2. 2. 2.]\n",
            "  [2. 2. 2.]]\n",
            "\n",
            " [[2. 2. 2.]\n",
            "  [2. 2. 2.]\n",
            "  [2. 2. 2.]\n",
            "  [2. 2. 2.]\n",
            "  [2. 2. 2.]]\n",
            "\n",
            " [[2. 2. 2.]\n",
            "  [2. 2. 2.]\n",
            "  [2. 2. 2.]\n",
            "  [2. 2. 2.]\n",
            "  [2. 2. 2.]]\n",
            "\n",
            " [[2. 2. 2.]\n",
            "  [2. 2. 2.]\n",
            "  [2. 2. 2.]\n",
            "  [2. 2. 2.]\n",
            "  [2. 2. 2.]]]\n"
          ]
        }
      ],
      "source": [
        "A = np.ones((5,5,3))\n",
        "B = 2*np.ones((5,5))\n",
        "\n",
        "print(A * B[:,:,None])"
      ]
    },
    {
      "cell_type": "markdown",
      "metadata": {
        "id": "tTj7bOGuDntn"
      },
      "source": [
        "#### 72. How to swap two rows of an array? (★★★) \n",
        "(**hint**: array\\[\\[\\]\\] = array\\[\\[\\]\\])"
      ]
    },
    {
      "cell_type": "code",
      "execution_count": null,
      "metadata": {
        "id": "rSR6HchFDntn",
        "colab": {
          "base_uri": "https://localhost:8080/"
        },
        "outputId": "9064f8d6-ed34-4611-9518-da1ff79a1a08"
      },
      "outputs": [
        {
          "output_type": "stream",
          "name": "stdout",
          "text": [
            "[[ 0  1  2  3  4]\n",
            " [ 5  6  7  8  9]\n",
            " [10 11 12 13 14]]\n",
            "[[ 5  6  7  8  9]\n",
            " [ 0  1  2  3  4]\n",
            " [10 11 12 13 14]]\n"
          ]
        }
      ],
      "source": [
        "A = np.arange(15).reshape(3,5)\n",
        "print(A)\n",
        "A[[0,1]] = A[[1,0]]\n",
        "print(A)"
      ]
    },
    {
      "cell_type": "markdown",
      "metadata": {
        "id": "QlxcaqHODntn"
      },
      "source": [
        "#### 73. Consider a set of 10 triplets describing 10 triangles (with shared vertices), find the set of unique line segments composing all the  triangles (★★★) \n",
        "(**hint**: repeat, np.roll, np.sort, view, np.unique)"
      ]
    },
    {
      "cell_type": "code",
      "execution_count": null,
      "metadata": {
        "id": "coUDPD0gDntn",
        "colab": {
          "base_uri": "https://localhost:8080/"
        },
        "outputId": "d96e60c5-1abc-4931-a43b-309053ba837a"
      },
      "outputs": [
        {
          "output_type": "stream",
          "name": "stdout",
          "text": [
            "[( 5, 10) ( 5, 17) ( 5, 75) ( 5, 98) (10, 17) (10, 54) (10, 55) (11, 13)\n",
            " (11, 77) (11, 95) (11, 98) (12, 26) (12, 79) (13, 98) (24, 36) (24, 53)\n",
            " (26, 79) (36, 53) (42, 77) (42, 81) (47, 76) (47, 92) (54, 55) (55, 79)\n",
            " (55, 97) (75, 98) (76, 92) (77, 81) (77, 95) (79, 97)]\n"
          ]
        }
      ],
      "source": [
        "faces = np.random.randint(0,100,(10,3))\n",
        "F = np.roll(faces.repeat(2,axis=1),-1,axis=1)\n",
        "F = F.reshape(len(F)*3,2)\n",
        "F = np.sort(F,axis=1)\n",
        "G = F.view( dtype=[('p0',F.dtype),('p1',F.dtype)] )\n",
        "G = np.unique(G)\n",
        "print(G)"
      ]
    },
    {
      "cell_type": "markdown",
      "metadata": {
        "id": "QMIjhV6oDnto"
      },
      "source": [
        "#### 74. Given an array C that is a bincount, how to produce an array A such that np.bincount(A) == C? (★★★) \n",
        "(**hint**: np.repeat)"
      ]
    },
    {
      "cell_type": "code",
      "execution_count": null,
      "metadata": {
        "id": "zLcfoSfeDnto",
        "colab": {
          "base_uri": "https://localhost:8080/"
        },
        "outputId": "396a93da-0502-4903-e093-4feda9262032"
      },
      "outputs": [
        {
          "output_type": "stream",
          "name": "stdout",
          "text": [
            "[1 1 2 3 4 4 6]\n"
          ]
        }
      ],
      "source": [
        "C = np.bincount([1,1,2,3,4,4,6])\n",
        "A = np.repeat(np.arange(len(C)), C)\n",
        "print(A)"
      ]
    },
    {
      "cell_type": "markdown",
      "metadata": {
        "id": "Cv5_gzsQDnto"
      },
      "source": [
        "#### 75. How to compute averages using a sliding window over an array? (★★★) \n",
        "(**hint**: np.cumsum)"
      ]
    },
    {
      "cell_type": "code",
      "execution_count": null,
      "metadata": {
        "id": "P5aVMojDDnto",
        "colab": {
          "base_uri": "https://localhost:8080/"
        },
        "outputId": "0348cad3-4e64-4175-96d4-e3bb0fe7d079"
      },
      "outputs": [
        {
          "output_type": "stream",
          "name": "stdout",
          "text": [
            "[ 1.  2.  3.  4.  5.  6.  7.  8.  9. 10. 11. 12. 13. 14. 15. 16. 17. 18.]\n"
          ]
        }
      ],
      "source": [
        "def moving_average(a, n=3) :\n",
        "    ret = np.cumsum(a, dtype=float)\n",
        "    ret[n:] = ret[n:] - ret[:-n]\n",
        "    return ret[n - 1:] / n\n",
        "a = np.arange(20)\n",
        "print(moving_average(a, n=3))"
      ]
    },
    {
      "cell_type": "markdown",
      "metadata": {
        "id": "_L8dbn4NDntp"
      },
      "source": [
        "#### 76. Consider a one-dimensional array Z, build a two-dimensional array whose first row is (Z\\[0\\],Z\\[1\\],Z\\[2\\]) and each subsequent row is  shifted by 1 (last row should be (Z\\[-3\\],Z\\[-2\\],Z\\[-1\\]) (★★★) \n",
        "(**hint**: from numpy.lib import stride_tricks)"
      ]
    },
    {
      "cell_type": "code",
      "execution_count": null,
      "metadata": {
        "id": "sVqLVUBBDntp",
        "colab": {
          "base_uri": "https://localhost:8080/"
        },
        "outputId": "22cce787-551d-42ef-cc72-2bbf341ae129"
      },
      "outputs": [
        {
          "output_type": "stream",
          "name": "stdout",
          "text": [
            "[[0 1 2]\n",
            " [1 2 3]\n",
            " [2 3 4]\n",
            " [3 4 5]\n",
            " [4 5 6]\n",
            " [5 6 7]\n",
            " [6 7 8]\n",
            " [7 8 9]]\n"
          ]
        }
      ],
      "source": [
        "def rolling(a, window):\n",
        "    shape = (a.size - window + 1, window)\n",
        "    strides = (a.itemsize, a.itemsize)\n",
        "    return np.lib.stride_tricks.as_strided(a, shape=shape, strides=strides)\n",
        "a = rolling(np.arange(10), 3)\n",
        "print(a)"
      ]
    },
    {
      "cell_type": "markdown",
      "metadata": {
        "id": "JLhYRMsGDntp"
      },
      "source": [
        "#### 77. How to negate a boolean, or to change the sign of a float inplace? (★★★) \n",
        "(**hint**: np.logical_not, np.negative)"
      ]
    },
    {
      "cell_type": "code",
      "execution_count": null,
      "metadata": {
        "id": "Xqhpy3VEDntp",
        "colab": {
          "base_uri": "https://localhost:8080/"
        },
        "outputId": "52ecee09-4c8b-4538-ee8a-479060f416dd"
      },
      "outputs": [
        {
          "output_type": "stream",
          "name": "stdout",
          "text": [
            " original: \n",
            "[1 0 1 1 0 0 1 0 0 0 0 0 0 1 0 1 1 0 1 1 1 0 0 1 0 0 1 0 0 1 1 0 1 0 0 0 1\n",
            " 0 1 0 0 1 0 1 0 1 1 1 1 0 0 1 1 0 0 0 0 0 0 0 0 1 1 1 1 0 1 1 1 0 1 0 1 1\n",
            " 1 1 0 0 1 0 0 0 0 1 1 0 1 1 1 0 1 1 1 0 1 1 1 1 1 1]\n",
            "Negating a boolean: \n",
            "[0 1 0 0 1 1 0 1 1 1 1 1 1 0 1 0 0 1 0 0 0 1 1 0 1 1 0 1 1 0 0 1 0 1 1 1 0\n",
            " 1 0 1 1 0 1 0 1 0 0 0 0 1 1 0 0 1 1 1 1 1 1 1 1 0 0 0 0 1 0 0 0 1 0 1 0 0\n",
            " 0 0 1 1 0 1 1 1 1 0 0 1 0 0 0 1 0 0 0 1 0 0 0 0 0 0]\n",
            "original: \n",
            "[-0.62096612 -0.21414705 -0.67599746 -0.21478699  0.76728883 -0.23480267\n",
            " -0.127298    0.18017889 -0.13818208 -0.85189659]\n",
            "Change the sign of float inplace: \n",
            "[ 0.62096612  0.21414705  0.67599746  0.21478699 -0.76728883  0.23480267\n",
            "  0.127298   -0.18017889  0.13818208  0.85189659]\n"
          ]
        }
      ],
      "source": [
        "a = np.random.randint(0,2,100)\n",
        "print (\" original: \")\n",
        "print(a)\n",
        "print(\"Negating a boolean: \")\n",
        "print(np.logical_not(a, out=a))\n",
        "\n",
        "\n",
        "b = np.random.uniform(-1.0,1.0,10)\n",
        "print ('original: ')\n",
        "print (b)\n",
        "print ('Change the sign of float inplace: ')\n",
        "print(np.negative(b, out=b))"
      ]
    },
    {
      "cell_type": "markdown",
      "metadata": {
        "id": "dL4ZrNpbDntp"
      },
      "source": [
        "#### 78. Consider 2 sets of points P0,P1 describing lines (2d) and a point p, how to compute distance from p to each line i  (P0\\[i\\],P1\\[i\\])? (★★★)"
      ]
    },
    {
      "cell_type": "code",
      "execution_count": null,
      "metadata": {
        "id": "k8SzXEMODntp",
        "colab": {
          "base_uri": "https://localhost:8080/"
        },
        "outputId": "365dc428-e016-4a88-f92d-31c5da732e96"
      },
      "outputs": [
        {
          "output_type": "stream",
          "name": "stdout",
          "text": [
            "[ 9.67938136  2.82529785  8.13698057  2.03301328  6.43193876 19.36328379\n",
            "  2.41214375  0.43414573 10.00557949  0.43743825]\n"
          ]
        }
      ],
      "source": [
        "def distance(P0, P1, p):\n",
        "    T = P1 - P0\n",
        "    L = (T**2).sum(axis=1)\n",
        "    U = -((P0[:,0]-p[...,0])*T[:,0] + (P0[:,1]-p[...,1])*T[:,1]) / L\n",
        "    U = U.reshape(len(U),1)\n",
        "    D = P0 + U*T - p\n",
        "    return np.sqrt((D**2).sum(axis=1))\n",
        "\n",
        "P0 = np.random.uniform(-10,10,(10,2))\n",
        "P1 = np.random.uniform(-10,10,(10,2))\n",
        "p  = np.random.uniform(-10,10,( 1,2))\n",
        "print(distance(P0, P1, p))"
      ]
    },
    {
      "cell_type": "markdown",
      "metadata": {
        "id": "2YTJwUfnDntq"
      },
      "source": [
        "#### 79. Consider 2 sets of points P0,P1 describing lines (2d) and a set of points P, how to compute distance from each point j (P\\[j\\]) to each line i (P0\\[i\\],P1\\[i\\])? (★★★)"
      ]
    },
    {
      "cell_type": "code",
      "execution_count": null,
      "metadata": {
        "id": "f0MBQIMDDntq",
        "colab": {
          "base_uri": "https://localhost:8080/"
        },
        "outputId": "6fd74b3d-6bff-49a4-ef5e-e0675c2685e5"
      },
      "outputs": [
        {
          "output_type": "stream",
          "name": "stdout",
          "text": [
            "[[10.14856799  6.19124241  1.76479769 12.15275177  2.10434476  2.79439678\n",
            "  20.26057853 13.54527319  1.17814982  7.9177926 ]\n",
            " [ 8.24477075  4.86660549  2.74892993  9.95008623  0.89585575  0.55824892\n",
            "  17.76721661 11.12549511  0.85003974  7.32562596]\n",
            " [ 2.49945383  6.9904157   0.1885418   4.59917593  4.93073261  0.47529972\n",
            "  14.71274562  8.93120812  4.27693591  1.91875312]\n",
            " [ 4.01467946  4.27173237  2.66929555  5.55325576  2.62548451  2.21791195\n",
            "  13.94203388  7.70861708  1.46602561  4.62117919]\n",
            " [ 7.70262561  4.19096285  0.93644922  6.29406044 12.93751812  8.44490669\n",
            "   4.49062562  0.44843661  8.9404958   3.79675995]\n",
            " [ 7.2552475  13.79482752  8.26265405  3.80852316 15.9622912   0.75593564\n",
            "  11.86237786  7.87473504 15.14333136  9.15273693]\n",
            " [ 5.04817611  7.61373879  1.9564931   2.88917828 11.8136338   3.85588706\n",
            "   9.11784795  4.24046328  9.54797233  3.90297617]\n",
            " [ 4.40692606 14.78723636  8.78020165  0.72258938 13.80194314  3.17779786\n",
            "  14.87025037 10.66937461 13.9837891   7.68169396]\n",
            " [ 3.42746504  3.31901287  3.49797247  4.75862187  2.80448529  3.4156389\n",
            "  12.77561577  6.50817089  1.19949637  4.76030607]\n",
            " [ 8.72380183  6.75854099  1.69921314  6.78133041 14.752953    6.58398699\n",
            "   5.54701715  0.98915189 11.33183338  6.05288205]]\n"
          ]
        }
      ],
      "source": [
        "P0 = np.random.uniform(-10, 10, (10,2))\n",
        "P1 = np.random.uniform(-10,10,(10,2))\n",
        "p = np.random.uniform(-10, 10, (10,2))\n",
        "print(np.array([distance(P0,P1,p_i) for p_i in p]))"
      ]
    },
    {
      "cell_type": "markdown",
      "metadata": {
        "id": "7qcZYniJDntq"
      },
      "source": [
        "#### 80. Consider an arbitrary array, write a function that extract a subpart with a fixed shape and centered on a given element (pad with a `fill` value when necessary) (★★★) \n",
        "(**hint**: minimum, maximum)"
      ]
    },
    {
      "cell_type": "code",
      "execution_count": null,
      "metadata": {
        "id": "fu9ur9pODntq",
        "colab": {
          "base_uri": "https://localhost:8080/"
        },
        "outputId": "37b7fe0a-c1ca-4b62-d365-1353eda1a4ec"
      },
      "outputs": [
        {
          "output_type": "stream",
          "name": "stdout",
          "text": [
            "[[2 8 3 4 9 1 8 5 6 3]\n",
            " [7 3 9 5 9 5 5 0 7 5]\n",
            " [7 7 6 6 7 8 8 9 2 9]\n",
            " [0 5 2 5 1 7 8 7 9 1]\n",
            " [4 2 1 0 5 1 5 1 5 3]\n",
            " [3 6 4 8 0 0 3 9 9 0]\n",
            " [0 7 6 3 9 3 4 4 8 2]\n",
            " [6 2 7 7 1 2 4 2 4 1]\n",
            " [7 0 5 1 7 6 8 9 8 9]\n",
            " [1 6 4 7 2 0 4 4 8 6]]\n",
            "[[0 0 0 0 0]\n",
            " [0 2 8 3 4]\n",
            " [0 7 3 9 5]\n",
            " [0 7 7 6 6]\n",
            " [0 0 5 2 5]]\n"
          ]
        },
        {
          "output_type": "stream",
          "name": "stderr",
          "text": [
            "/usr/local/lib/python3.7/dist-packages/ipykernel_launcher.py:23: FutureWarning: Using a non-tuple sequence for multidimensional indexing is deprecated; use `arr[tuple(seq)]` instead of `arr[seq]`. In the future this will be interpreted as an array index, `arr[np.array(seq)]`, which will result either in an error or a different result.\n"
          ]
        }
      ],
      "source": [
        "Z = np.random.randint(0,10,(10,10))\n",
        "shape = (5,5)\n",
        "fill  = 0\n",
        "position = (1,1)\n",
        "\n",
        "R = np.ones(shape, dtype=Z.dtype)*fill\n",
        "P  = np.array(list(position)).astype(int)\n",
        "Rs = np.array(list(R.shape)).astype(int)\n",
        "Zs = np.array(list(Z.shape)).astype(int)\n",
        "\n",
        "R_start = np.zeros((len(shape),)).astype(int)\n",
        "R_stop  = np.array(list(shape)).astype(int)\n",
        "Z_start = (P-Rs//2)\n",
        "Z_stop  = (P+Rs//2)+Rs%2\n",
        "\n",
        "R_start = (R_start - np.minimum(Z_start,0)).tolist()\n",
        "Z_start = (np.maximum(Z_start,0)).tolist()\n",
        "R_stop = np.maximum(R_start, (R_stop - np.maximum(Z_stop-Zs,0))).tolist()\n",
        "Z_stop = (np.minimum(Z_stop,Zs)).tolist()\n",
        "\n",
        "r = [slice(start,stop) for start,stop in zip(R_start,R_stop)]\n",
        "z = [slice(start,stop) for start,stop in zip(Z_start,Z_stop)]\n",
        "R[r] = Z[z]\n",
        "print(Z)\n",
        "print(R)"
      ]
    },
    {
      "cell_type": "markdown",
      "metadata": {
        "id": "No8sgYG8Dntq"
      },
      "source": [
        "#### 81. Consider an array Z = \\[1,2,3,4,5,6,7,8,9,10,11,12,13,14\\], how to generate an array R = \\[\\[1,2,3,4\\], \\[2,3,4,5\\], \\[3,4,5,6\\], ..., \\[11,12,13,14\\]\\]? (★★★) \n",
        "(**hint**: stride\\_tricks.as\\_strided)"
      ]
    },
    {
      "cell_type": "code",
      "execution_count": null,
      "metadata": {
        "id": "NX97S0OsDntr",
        "colab": {
          "base_uri": "https://localhost:8080/"
        },
        "outputId": "9812d52d-3d0e-400e-d42b-a271922cf299"
      },
      "outputs": [
        {
          "output_type": "stream",
          "name": "stdout",
          "text": [
            "original: \n",
            "[ 1  2  3  4  5  6  7  8  9 10 11 12 13 14]\n",
            "after strides: \n",
            "[[ 1  2  3  4]\n",
            " [ 2  3  4  5]\n",
            " [ 3  4  5  6]\n",
            " [ 4  5  6  7]\n",
            " [ 5  6  7  8]\n",
            " [ 6  7  8  9]\n",
            " [ 7  8  9 10]\n",
            " [ 8  9 10 11]\n",
            " [ 9 10 11 12]\n",
            " [10 11 12 13]\n",
            " [11 12 13 14]]\n"
          ]
        }
      ],
      "source": [
        "a = np.arange(1,15,dtype=int)\n",
        "\n",
        "def rolling(a, window):\n",
        "    shape = (a.size - window + 1, window)\n",
        "    strides = (a.itemsize, a.itemsize)\n",
        "    return np.lib.stride_tricks.as_strided(a, shape=shape, strides=strides)\n",
        "R = rolling(a, 4)\n",
        "print ('original: ')\n",
        "print (a)\n",
        "print ('after strides: ')\n",
        "print(R)"
      ]
    },
    {
      "cell_type": "markdown",
      "metadata": {
        "id": "JPAehBIKDntr"
      },
      "source": [
        "#### 82. Compute a matrix rank (★★★) \n",
        "(**hint**: np.linalg.svd) (suggestion: np.linalg.svd)"
      ]
    },
    {
      "cell_type": "code",
      "execution_count": null,
      "metadata": {
        "id": "8u59BUpLDntt",
        "colab": {
          "base_uri": "https://localhost:8080/"
        },
        "outputId": "9ee45735-d5dd-49ec-ee0c-0af518bc287c"
      },
      "outputs": [
        {
          "output_type": "stream",
          "name": "stdout",
          "text": [
            "10\n"
          ]
        }
      ],
      "source": [
        "Z = np.random.uniform(0,1,(10,10))\n",
        "U, S, V = np.linalg.svd(Z) \n",
        "rank = np.sum(S > 1e-10)\n",
        "print(rank)"
      ]
    },
    {
      "cell_type": "markdown",
      "metadata": {
        "id": "exIN7V_XDntt"
      },
      "source": [
        "#### 83. How to find the most frequent value in an array? \n",
        "(**hint**: np.bincount, argmax)"
      ]
    },
    {
      "cell_type": "code",
      "execution_count": null,
      "metadata": {
        "id": "jbuhkFD0Dntt",
        "colab": {
          "base_uri": "https://localhost:8080/"
        },
        "outputId": "657c272d-91f7-4f57-dab5-84a532cf43a7"
      },
      "outputs": [
        {
          "output_type": "stream",
          "name": "stdout",
          "text": [
            "[8 5 4 2 7 5 3 9 4 2 3 9 8 1 9 0 0 0 7 4 6 3 5 1 9 8 9 6 4 3 6 1 1 9 6 3 3\n",
            " 5 1 7 2 1 1 5 5 9 4 2 2 2]\n",
            "1\n"
          ]
        }
      ],
      "source": [
        "a = np.random.randint(0,10,50)\n",
        "print (a)\n",
        "print(np.bincount(a).argmax())"
      ]
    },
    {
      "cell_type": "markdown",
      "metadata": {
        "id": "Rp1-uZAWDntu"
      },
      "source": [
        "#### 84. Extract all the contiguous 3x3 blocks from a random 10x10 matrix (★★★) \n",
        "(**hint**: stride\\_tricks.as\\_strided)"
      ]
    },
    {
      "cell_type": "code",
      "execution_count": null,
      "metadata": {
        "id": "Ym4NpUM9Dntu",
        "colab": {
          "base_uri": "https://localhost:8080/"
        },
        "outputId": "53abb7a9-c380-4a7c-d550-d1f01a6fd7f8"
      },
      "outputs": [
        {
          "output_type": "stream",
          "name": "stdout",
          "text": [
            "[[[[2 3 0]\n",
            "   [4 3 4]\n",
            "   [2 4 1]]\n",
            "\n",
            "  [[3 0 0]\n",
            "   [3 4 3]\n",
            "   [4 1 2]]\n",
            "\n",
            "  [[0 0 1]\n",
            "   [4 3 0]\n",
            "   [1 2 1]]\n",
            "\n",
            "  [[0 1 2]\n",
            "   [3 0 3]\n",
            "   [2 1 4]]\n",
            "\n",
            "  [[1 2 2]\n",
            "   [0 3 2]\n",
            "   [1 4 4]]\n",
            "\n",
            "  [[2 2 2]\n",
            "   [3 2 0]\n",
            "   [4 4 4]]\n",
            "\n",
            "  [[2 2 1]\n",
            "   [2 0 1]\n",
            "   [4 4 4]]\n",
            "\n",
            "  [[2 1 0]\n",
            "   [0 1 1]\n",
            "   [4 4 3]]]\n",
            "\n",
            "\n",
            " [[[4 3 4]\n",
            "   [2 4 1]\n",
            "   [3 0 1]]\n",
            "\n",
            "  [[3 4 3]\n",
            "   [4 1 2]\n",
            "   [0 1 4]]\n",
            "\n",
            "  [[4 3 0]\n",
            "   [1 2 1]\n",
            "   [1 4 4]]\n",
            "\n",
            "  [[3 0 3]\n",
            "   [2 1 4]\n",
            "   [4 4 0]]\n",
            "\n",
            "  [[0 3 2]\n",
            "   [1 4 4]\n",
            "   [4 0 0]]\n",
            "\n",
            "  [[3 2 0]\n",
            "   [4 4 4]\n",
            "   [0 0 1]]\n",
            "\n",
            "  [[2 0 1]\n",
            "   [4 4 4]\n",
            "   [0 1 4]]\n",
            "\n",
            "  [[0 1 1]\n",
            "   [4 4 3]\n",
            "   [1 4 4]]]\n",
            "\n",
            "\n",
            " [[[2 4 1]\n",
            "   [3 0 1]\n",
            "   [3 2 1]]\n",
            "\n",
            "  [[4 1 2]\n",
            "   [0 1 4]\n",
            "   [2 1 0]]\n",
            "\n",
            "  [[1 2 1]\n",
            "   [1 4 4]\n",
            "   [1 0 4]]\n",
            "\n",
            "  [[2 1 4]\n",
            "   [4 4 0]\n",
            "   [0 4 3]]\n",
            "\n",
            "  [[1 4 4]\n",
            "   [4 0 0]\n",
            "   [4 3 1]]\n",
            "\n",
            "  [[4 4 4]\n",
            "   [0 0 1]\n",
            "   [3 1 1]]\n",
            "\n",
            "  [[4 4 4]\n",
            "   [0 1 4]\n",
            "   [1 1 3]]\n",
            "\n",
            "  [[4 4 3]\n",
            "   [1 4 4]\n",
            "   [1 3 4]]]\n",
            "\n",
            "\n",
            " [[[3 0 1]\n",
            "   [3 2 1]\n",
            "   [0 4 2]]\n",
            "\n",
            "  [[0 1 4]\n",
            "   [2 1 0]\n",
            "   [4 2 4]]\n",
            "\n",
            "  [[1 4 4]\n",
            "   [1 0 4]\n",
            "   [2 4 4]]\n",
            "\n",
            "  [[4 4 0]\n",
            "   [0 4 3]\n",
            "   [4 4 3]]\n",
            "\n",
            "  [[4 0 0]\n",
            "   [4 3 1]\n",
            "   [4 3 1]]\n",
            "\n",
            "  [[0 0 1]\n",
            "   [3 1 1]\n",
            "   [3 1 3]]\n",
            "\n",
            "  [[0 1 4]\n",
            "   [1 1 3]\n",
            "   [1 3 2]]\n",
            "\n",
            "  [[1 4 4]\n",
            "   [1 3 4]\n",
            "   [3 2 3]]]\n",
            "\n",
            "\n",
            " [[[3 2 1]\n",
            "   [0 4 2]\n",
            "   [3 0 0]]\n",
            "\n",
            "  [[2 1 0]\n",
            "   [4 2 4]\n",
            "   [0 0 3]]\n",
            "\n",
            "  [[1 0 4]\n",
            "   [2 4 4]\n",
            "   [0 3 4]]\n",
            "\n",
            "  [[0 4 3]\n",
            "   [4 4 3]\n",
            "   [3 4 0]]\n",
            "\n",
            "  [[4 3 1]\n",
            "   [4 3 1]\n",
            "   [4 0 3]]\n",
            "\n",
            "  [[3 1 1]\n",
            "   [3 1 3]\n",
            "   [0 3 2]]\n",
            "\n",
            "  [[1 1 3]\n",
            "   [1 3 2]\n",
            "   [3 2 2]]\n",
            "\n",
            "  [[1 3 4]\n",
            "   [3 2 3]\n",
            "   [2 2 0]]]\n",
            "\n",
            "\n",
            " [[[0 4 2]\n",
            "   [3 0 0]\n",
            "   [2 3 1]]\n",
            "\n",
            "  [[4 2 4]\n",
            "   [0 0 3]\n",
            "   [3 1 1]]\n",
            "\n",
            "  [[2 4 4]\n",
            "   [0 3 4]\n",
            "   [1 1 4]]\n",
            "\n",
            "  [[4 4 3]\n",
            "   [3 4 0]\n",
            "   [1 4 4]]\n",
            "\n",
            "  [[4 3 1]\n",
            "   [4 0 3]\n",
            "   [4 4 4]]\n",
            "\n",
            "  [[3 1 3]\n",
            "   [0 3 2]\n",
            "   [4 4 1]]\n",
            "\n",
            "  [[1 3 2]\n",
            "   [3 2 2]\n",
            "   [4 1 1]]\n",
            "\n",
            "  [[3 2 3]\n",
            "   [2 2 0]\n",
            "   [1 1 3]]]\n",
            "\n",
            "\n",
            " [[[3 0 0]\n",
            "   [2 3 1]\n",
            "   [0 0 4]]\n",
            "\n",
            "  [[0 0 3]\n",
            "   [3 1 1]\n",
            "   [0 4 2]]\n",
            "\n",
            "  [[0 3 4]\n",
            "   [1 1 4]\n",
            "   [4 2 1]]\n",
            "\n",
            "  [[3 4 0]\n",
            "   [1 4 4]\n",
            "   [2 1 3]]\n",
            "\n",
            "  [[4 0 3]\n",
            "   [4 4 4]\n",
            "   [1 3 4]]\n",
            "\n",
            "  [[0 3 2]\n",
            "   [4 4 1]\n",
            "   [3 4 3]]\n",
            "\n",
            "  [[3 2 2]\n",
            "   [4 1 1]\n",
            "   [4 3 0]]\n",
            "\n",
            "  [[2 2 0]\n",
            "   [1 1 3]\n",
            "   [3 0 0]]]\n",
            "\n",
            "\n",
            " [[[2 3 1]\n",
            "   [0 0 4]\n",
            "   [1 0 1]]\n",
            "\n",
            "  [[3 1 1]\n",
            "   [0 4 2]\n",
            "   [0 1 3]]\n",
            "\n",
            "  [[1 1 4]\n",
            "   [4 2 1]\n",
            "   [1 3 2]]\n",
            "\n",
            "  [[1 4 4]\n",
            "   [2 1 3]\n",
            "   [3 2 3]]\n",
            "\n",
            "  [[4 4 4]\n",
            "   [1 3 4]\n",
            "   [2 3 3]]\n",
            "\n",
            "  [[4 4 1]\n",
            "   [3 4 3]\n",
            "   [3 3 1]]\n",
            "\n",
            "  [[4 1 1]\n",
            "   [4 3 0]\n",
            "   [3 1 3]]\n",
            "\n",
            "  [[1 1 3]\n",
            "   [3 0 0]\n",
            "   [1 3 2]]]]\n"
          ]
        }
      ],
      "source": [
        "Z = np.random.randint(0,5,(10,10))\n",
        "n = 3\n",
        "i = 1 + (Z.shape[0]-3)\n",
        "j = 1 + (Z.shape[1]-3)\n",
        "C = np.lib.stride_tricks.as_strided(Z, shape=(i, j, n, n), strides=Z.strides + Z.strides)\n",
        "print(C)"
      ]
    },
    {
      "cell_type": "markdown",
      "metadata": {
        "id": "iCgu8qD2Dntu"
      },
      "source": [
        "#### 85. Create a 2D array subclass such that Z\\[i,j\\] == Z\\[j,i\\] (★★★) \n",
        "(**hint**: class method)"
      ]
    },
    {
      "cell_type": "code",
      "execution_count": null,
      "metadata": {
        "id": "ySDHAzgBDntu",
        "colab": {
          "base_uri": "https://localhost:8080/"
        },
        "outputId": "555aff34-2d2b-40ac-a63b-cefda1779d1e"
      },
      "outputs": [
        {
          "output_type": "stream",
          "name": "stdout",
          "text": [
            "[[ 8  7  6  9 15]\n",
            " [ 7  0  1  6 17]\n",
            " [ 6  1  3 42  9]\n",
            " [ 9  6 42  3  2]\n",
            " [15 17  9  2  0]]\n"
          ]
        }
      ],
      "source": [
        "class Symetric(np.ndarray):\n",
        "    def __setitem__(self, index, value):\n",
        "        i,j = index\n",
        "        super(Symetric, self).__setitem__((i,j), value)\n",
        "        super(Symetric, self).__setitem__((j,i), value)\n",
        "\n",
        "def symetric(Z):\n",
        "    return np.asarray(Z + Z.T - np.diag(Z.diagonal())).view(Symetric)\n",
        "\n",
        "S = symetric(np.random.randint(0,10,(5,5)))\n",
        "S[2,3] = 42\n",
        "print(S)"
      ]
    },
    {
      "cell_type": "markdown",
      "metadata": {
        "id": "g-GpUXFBDnty"
      },
      "source": [
        "#### 86. Consider a set of p matrices wich shape (n,n) and a set of p vectors with shape (n,1). How to compute the sum of of the p matrix products at once? (result has shape (n,1)) (★★★) \n",
        "(**hint**: np.tensordot)"
      ]
    },
    {
      "cell_type": "code",
      "execution_count": null,
      "metadata": {
        "id": "Nnah2P0FDnty",
        "colab": {
          "base_uri": "https://localhost:8080/"
        },
        "outputId": "0c45bcda-08ab-436a-a08d-3cd25c774fd8"
      },
      "outputs": [
        {
          "output_type": "stream",
          "name": "stdout",
          "text": [
            "[[200.]\n",
            " [200.]\n",
            " [200.]\n",
            " [200.]\n",
            " [200.]\n",
            " [200.]\n",
            " [200.]\n",
            " [200.]\n",
            " [200.]\n",
            " [200.]\n",
            " [200.]\n",
            " [200.]\n",
            " [200.]\n",
            " [200.]\n",
            " [200.]\n",
            " [200.]\n",
            " [200.]\n",
            " [200.]\n",
            " [200.]\n",
            " [200.]]\n"
          ]
        }
      ],
      "source": [
        "p, n = 10, 20\n",
        "M = np.ones((p,n,n))\n",
        "V = np.ones((p,n,1))\n",
        "S = np.tensordot(M, V, axes=[[0, 2], [0, 1]])\n",
        "print(S)"
      ]
    },
    {
      "cell_type": "markdown",
      "metadata": {
        "id": "5AjLZLSuDnty"
      },
      "source": [
        "#### 87. Consider a 16x16 array, how to get the block-sum (block size is 4x4)? (★★★) \n",
        "(**hint**: np.add.reduceat)"
      ]
    },
    {
      "cell_type": "code",
      "execution_count": null,
      "metadata": {
        "id": "orCw_MdjDntz",
        "colab": {
          "base_uri": "https://localhost:8080/"
        },
        "outputId": "bba7ba1b-d27d-46fe-f7e3-a56345b69a40"
      },
      "outputs": [
        {
          "output_type": "stream",
          "name": "stdout",
          "text": [
            "[[1. 1. 1. 1. 1. 1. 1. 1. 1. 1. 1. 1. 1. 1. 1. 1.]\n",
            " [1. 1. 1. 1. 1. 1. 1. 1. 1. 1. 1. 1. 1. 1. 1. 1.]\n",
            " [1. 1. 1. 1. 1. 1. 1. 1. 1. 1. 1. 1. 1. 1. 1. 1.]\n",
            " [1. 1. 1. 1. 1. 1. 1. 1. 1. 1. 1. 1. 1. 1. 1. 1.]\n",
            " [1. 1. 1. 1. 1. 1. 1. 1. 1. 1. 1. 1. 1. 1. 1. 1.]\n",
            " [1. 1. 1. 1. 1. 1. 1. 1. 1. 1. 1. 1. 1. 1. 1. 1.]\n",
            " [1. 1. 1. 1. 1. 1. 1. 1. 1. 1. 1. 1. 1. 1. 1. 1.]\n",
            " [1. 1. 1. 1. 1. 1. 1. 1. 1. 1. 1. 1. 1. 1. 1. 1.]\n",
            " [1. 1. 1. 1. 1. 1. 1. 1. 1. 1. 1. 1. 1. 1. 1. 1.]\n",
            " [1. 1. 1. 1. 1. 1. 1. 1. 1. 1. 1. 1. 1. 1. 1. 1.]\n",
            " [1. 1. 1. 1. 1. 1. 1. 1. 1. 1. 1. 1. 1. 1. 1. 1.]\n",
            " [1. 1. 1. 1. 1. 1. 1. 1. 1. 1. 1. 1. 1. 1. 1. 1.]\n",
            " [1. 1. 1. 1. 1. 1. 1. 1. 1. 1. 1. 1. 1. 1. 1. 1.]\n",
            " [1. 1. 1. 1. 1. 1. 1. 1. 1. 1. 1. 1. 1. 1. 1. 1.]\n",
            " [1. 1. 1. 1. 1. 1. 1. 1. 1. 1. 1. 1. 1. 1. 1. 1.]\n",
            " [1. 1. 1. 1. 1. 1. 1. 1. 1. 1. 1. 1. 1. 1. 1. 1.]]\n",
            "[[16. 16. 16. 16.]\n",
            " [16. 16. 16. 16.]\n",
            " [16. 16. 16. 16.]\n",
            " [16. 16. 16. 16.]]\n"
          ]
        }
      ],
      "source": [
        "a = np.ones((16,16))\n",
        "k = 4\n",
        "S = np.add.reduceat(np.add.reduceat(a, np.arange(0, a.shape[0], k), axis=0),\n",
        "                                       np.arange(0, a.shape[1], k), axis=1)\n",
        "print(a)\n",
        "print(S)\n"
      ]
    },
    {
      "cell_type": "markdown",
      "metadata": {
        "id": "-6bw_5Z9Dntz"
      },
      "source": [
        "#### 88. How to implement the Game of Life using numpy arrays? (★★★)"
      ]
    },
    {
      "cell_type": "code",
      "execution_count": null,
      "metadata": {
        "id": "IIv0ibA_Dntz",
        "colab": {
          "base_uri": "https://localhost:8080/"
        },
        "outputId": "6fc37c91-d2f6-4931-c05a-6c630de8c6c9"
      },
      "outputs": [
        {
          "output_type": "stream",
          "name": "stdout",
          "text": [
            "[[0 0 0 ... 0 0 0]\n",
            " [0 0 0 ... 0 0 0]\n",
            " [0 0 0 ... 0 0 0]\n",
            " ...\n",
            " [0 0 0 ... 1 1 0]\n",
            " [0 0 0 ... 1 1 0]\n",
            " [0 0 0 ... 0 0 0]]\n"
          ]
        }
      ],
      "source": [
        "def iterate(Z):\n",
        "    # Count neighbours\n",
        "    N = (Z[0:-2,0:-2] + Z[0:-2,1:-1] + Z[0:-2,2:] +\n",
        "         Z[1:-1,0:-2]                + Z[1:-1,2:] +\n",
        "         Z[2:  ,0:-2] + Z[2:  ,1:-1] + Z[2:  ,2:])\n",
        "\n",
        "    # Apply rules\n",
        "    birth = (N==3) & (Z[1:-1,1:-1]==0)\n",
        "    survive = ((N==2) | (N==3)) & (Z[1:-1,1:-1]==1)\n",
        "    Z[...] = 0\n",
        "    Z[1:-1,1:-1][birth | survive] = 1\n",
        "    return Z\n",
        "\n",
        "Z = np.random.randint(0,2,(50,50))\n",
        "for i in range(100): Z = iterate(Z)\n",
        "print(Z)"
      ]
    },
    {
      "cell_type": "markdown",
      "metadata": {
        "id": "HPmE2sUUDnt0"
      },
      "source": [
        "#### 89. How to get the n largest values of an array (★★★) \n",
        "(**hint**: np.argsort | np.argpartition)"
      ]
    },
    {
      "cell_type": "code",
      "execution_count": null,
      "metadata": {
        "id": "Apmr4TLwDnt1",
        "colab": {
          "base_uri": "https://localhost:8080/"
        },
        "outputId": "70856303-352f-4bcf-f362-3df9773527de"
      },
      "outputs": [
        {
          "output_type": "stream",
          "name": "stdout",
          "text": [
            "[9995 9996 9997 9998 9999]\n",
            "[9998 9999 9997 9995 9996]\n"
          ]
        }
      ],
      "source": [
        "Z = np.arange(10000)\n",
        "np.random.shuffle(Z)\n",
        "n = 5\n",
        "print (Z[np.argsort(Z)[-n:]])\n",
        "print (Z[np.argpartition(-Z,n)[:n]])\n"
      ]
    },
    {
      "cell_type": "markdown",
      "metadata": {
        "id": "NU64sAfRDnt1"
      },
      "source": [
        "#### 90. Given an arbitrary number of vectors, build the cartesian product (every combinations of every item) (★★★) \n",
        "(**hint**: np.indices)"
      ]
    },
    {
      "cell_type": "code",
      "execution_count": 2,
      "metadata": {
        "scrolled": true,
        "id": "tcbLL2oiDnt1",
        "colab": {
          "base_uri": "https://localhost:8080/"
        },
        "outputId": "b8f46d16-0c5d-4b66-a2a2-c312c7832d6c"
      },
      "outputs": [
        {
          "output_type": "stream",
          "name": "stdout",
          "text": [
            "[[1 4 6]\n",
            " [1 4 7]\n",
            " [1 5 6]\n",
            " [1 5 7]\n",
            " [2 4 6]\n",
            " [2 4 7]\n",
            " [2 5 6]\n",
            " [2 5 7]\n",
            " [3 4 6]\n",
            " [3 4 7]\n",
            " [3 5 6]\n",
            " [3 5 7]]\n"
          ]
        }
      ],
      "source": [
        "def cartesian(arrays):\n",
        "    arrays = [np.asarray(a) for a in arrays]\n",
        "    shape = (len(x) for x in arrays)\n",
        "\n",
        "    ix = np.indices(shape, dtype=int)\n",
        "    ix = ix.reshape(len(arrays), -1).T\n",
        "\n",
        "    for n, arr in enumerate(arrays):\n",
        "        ix[:, n] = arrays[n][ix[:, n]]\n",
        "\n",
        "    return ix\n",
        "\n",
        "print (cartesian(([1, 2, 3], [4, 5], [6, 7])))\n"
      ]
    },
    {
      "cell_type": "markdown",
      "metadata": {
        "id": "qxxwga3wDnt1"
      },
      "source": [
        "#### 91. How to create a record array from a regular array? (★★★) \n",
        "(**hint**: np.core.records.fromarrays)"
      ]
    },
    {
      "cell_type": "code",
      "execution_count": 3,
      "metadata": {
        "id": "3TSfCQi7Dnt2",
        "colab": {
          "base_uri": "https://localhost:8080/"
        },
        "outputId": "7e054012-6efa-4a0d-ceb6-7e6a294129ec"
      },
      "outputs": [
        {
          "output_type": "stream",
          "name": "stdout",
          "text": [
            "[['Hello' '2.5' '3']\n",
            " ['World' '3.6' '2']]\n"
          ]
        }
      ],
      "source": [
        "a = np.array([(\"Hello\", 2.5, 3),\n",
        "              (\"World\", 3.6, 2)])\n",
        "R = np.core.records.fromarrays(a.T,\n",
        "                               names='col1, col2, col3',\n",
        "                               formats = 'S8, f8, i8')\n",
        "print(a)"
      ]
    },
    {
      "cell_type": "markdown",
      "metadata": {
        "id": "3oA-AJWSDnt2"
      },
      "source": [
        "#### 92. Consider a large vector Z, compute Z to the power of 3 using 3 different methods (★★★) \n",
        "(**hint**: np.power, \\*, np.einsum)"
      ]
    },
    {
      "cell_type": "code",
      "execution_count": 5,
      "metadata": {
        "id": "J6ISPipoDnt2",
        "colab": {
          "base_uri": "https://localhost:8080/"
        },
        "outputId": "4474cb3e-b3f4-4288-f23a-5b85138ecb26"
      },
      "outputs": [
        {
          "output_type": "stream",
          "name": "stdout",
          "text": [
            "1 loop, best of 5: 4.19 s per loop\n",
            "1 loop, best of 5: 214 ms per loop\n",
            "10 loops, best of 5: 177 ms per loop\n"
          ]
        }
      ],
      "source": [
        "x = np.random.rand(int(5e7))\n",
        "\n",
        "%timeit np.power(x,3)\n",
        "%timeit x*x*x\n",
        "%timeit np.einsum('i,i,i->i',x,x,x)"
      ]
    },
    {
      "cell_type": "markdown",
      "metadata": {
        "id": "UrbDzvxeDnt2"
      },
      "source": [
        "#### 93. Consider two arrays A and B of shape (8,3) and (2,2). How to find rows of A that contain elements of each row of B regardless of the order of the elements in B? (★★★) \n",
        "(**hint**: np.where)"
      ]
    },
    {
      "cell_type": "code",
      "execution_count": 10,
      "metadata": {
        "id": "-5x-azTgDnt5",
        "colab": {
          "base_uri": "https://localhost:8080/"
        },
        "outputId": "f15c2bce-f7de-4e3f-c857-fb86d366b6bd"
      },
      "outputs": [
        {
          "output_type": "stream",
          "name": "stdout",
          "text": [
            "[[3 0 2]\n",
            " [3 4 1]\n",
            " [1 0 2]\n",
            " [2 0 4]\n",
            " [0 3 2]\n",
            " [1 3 2]\n",
            " [0 0 3]\n",
            " [3 1 3]]\n",
            "\n",
            "\n",
            "[[4 0]\n",
            " [1 1]]\n",
            "\n",
            "\n",
            "[1 2 3 5 6 7]\n"
          ]
        }
      ],
      "source": [
        "A = np.random.randint(0,5,(8,3))\n",
        "B = np.random.randint(0,5,(2,2))\n",
        "print(A)\n",
        "print(\"\\n\")\n",
        "print(B)\n",
        "print(\"\\n\")\n",
        "C = (A[..., np.newaxis, np.newaxis] == B)\n",
        "rows = (C.sum(axis=(1,2,3)) >= B.shape[1]).nonzero()[0]\n",
        "print(rows)"
      ]
    },
    {
      "cell_type": "markdown",
      "metadata": {
        "id": "ArlXWFZlDnt5"
      },
      "source": [
        "#### 94. Considering a 10x3 matrix, extract rows with unequal values (e.g. \\[2,2,3\\]) (★★★)"
      ]
    },
    {
      "cell_type": "code",
      "execution_count": 20,
      "metadata": {
        "id": "OERyvNHHDnt5",
        "colab": {
          "base_uri": "https://localhost:8080/"
        },
        "outputId": "0647afdb-f5b1-4faf-f078-2d0f4acfb837"
      },
      "outputs": [
        {
          "output_type": "stream",
          "name": "stdout",
          "text": [
            "[[1 3 1]\n",
            " [2 1 1]\n",
            " [0 1 4]\n",
            " [0 2 4]\n",
            " [3 3 1]\n",
            " [2 3 1]\n",
            " [1 1 0]\n",
            " [3 3 0]\n",
            " [3 4 1]\n",
            " [0 0 3]]\n",
            "[[1 3 1]\n",
            " [2 1 1]\n",
            " [0 1 4]\n",
            " [0 2 4]\n",
            " [3 3 1]\n",
            " [2 3 1]\n",
            " [1 1 0]\n",
            " [3 3 0]\n",
            " [3 4 1]\n",
            " [0 0 3]]\n"
          ]
        }
      ],
      "source": [
        "Z = np.random.randint(0,5,(10,3))\n",
        "\n",
        "E = np.logical_and.reduce(Z[:,1:] == Z[:,:-1], axis=1)\n",
        "\n",
        "U = Z[~E]\n",
        "\n",
        "print(Z)\n",
        "\n",
        "print(U)\n",
        "\n"
      ]
    },
    {
      "cell_type": "markdown",
      "metadata": {
        "id": "4VDE-oL2Dnt6"
      },
      "source": [
        "#### 95. Convert a vector of ints into a matrix binary representation (★★★) \n",
        "(**hint**: np.unpackbits)"
      ]
    },
    {
      "cell_type": "code",
      "execution_count": 22,
      "metadata": {
        "id": "pDzm41C5Dnt6",
        "colab": {
          "base_uri": "https://localhost:8080/"
        },
        "outputId": "be9a1eba-1814-4a25-be68-165ee88415d2"
      },
      "outputs": [
        {
          "output_type": "stream",
          "name": "stdout",
          "text": [
            "[[0 0 0 0 0 0 0 0]\n",
            " [0 0 0 0 0 0 0 1]\n",
            " [0 0 0 0 0 0 1 0]\n",
            " [0 0 0 0 0 0 1 1]\n",
            " [0 0 0 0 1 1 1 1]\n",
            " [0 0 0 1 0 0 0 0]\n",
            " [0 0 1 0 0 0 0 0]\n",
            " [0 1 0 0 0 0 0 0]\n",
            " [1 0 0 0 0 0 0 0]]\n"
          ]
        }
      ],
      "source": [
        "I = np.array([0, 1, 2, 3, 15, 16, 32, 64, 128], dtype=np.uint8)\n",
        "print(np.unpackbits(I[:, np.newaxis], axis=1))"
      ]
    },
    {
      "cell_type": "markdown",
      "metadata": {
        "id": "DN1HsbC1Dnt6"
      },
      "source": [
        "#### 96. Given a two dimensional array, how to extract unique rows? (★★★) \n",
        "(**hint**: np.ascontiguousarray)"
      ]
    },
    {
      "cell_type": "code",
      "execution_count": 13,
      "metadata": {
        "id": "Y1QBTGjHDnt6",
        "colab": {
          "base_uri": "https://localhost:8080/"
        },
        "outputId": "e102a364-fbd4-412b-9499-83964dc37faa"
      },
      "outputs": [
        {
          "output_type": "stream",
          "name": "stdout",
          "text": [
            "[[0 0 1]\n",
            " [0 1 0]\n",
            " [0 1 1]\n",
            " [1 1 0]\n",
            " [1 1 1]]\n"
          ]
        }
      ],
      "source": [
        "Z = np.random.randint(0,2,(6,3))\n",
        "\n",
        "T = np.ascontiguousarray(Z).view(np.dtype((np.void, Z.dtype.itemsize * Z.shape[1])))\n",
        "\n",
        "_, i = np.unique(T, return_index=True)\n",
        "\n",
        "u = Z[i]\n",
        "\n",
        "print(u)"
      ]
    },
    {
      "cell_type": "markdown",
      "metadata": {
        "id": "PsZ8xBrbDnt6"
      },
      "source": [
        "#### 97. Considering 2 vectors A & B, write the einsum equivalent of inner, outer, sum, and mul function (★★★) \n",
        "(**hint**: np.einsum)"
      ]
    },
    {
      "cell_type": "code",
      "execution_count": 19,
      "metadata": {
        "id": "2pWOJAYoDnt6",
        "colab": {
          "base_uri": "https://localhost:8080/"
        },
        "outputId": "9a9421ca-6c23-4e39-ce83-4326119ddf6e"
      },
      "outputs": [
        {
          "output_type": "stream",
          "name": "stdout",
          "text": [
            "5.683181977219969\n",
            "\n",
            "\n",
            "[0.71978432 0.04774599 0.38639749 0.00991829 0.06476738 0.03640956\n",
            " 0.42672886 0.10712883 0.71992677 0.00407353]\n",
            "\n",
            "\n",
            "2.5228810074564105\n",
            "\n",
            "\n",
            "[[7.19784324e-01 3.22127819e-01 3.54951888e-01 4.48132415e-01\n",
            "  6.06552447e-02 4.50363374e-01 4.17825621e-01 1.00755369e-01\n",
            "  6.77835785e-01 5.18970352e-01]\n",
            " [1.06686886e-01 4.77459886e-02 5.26111927e-02 6.64224693e-02\n",
            "  8.99035864e-03 6.67531434e-02 6.19303770e-02 1.49340243e-02\n",
            "  1.00469248e-01 7.69221129e-02]\n",
            " [7.83550848e-01 3.50665495e-01 3.86397485e-01 4.87832983e-01\n",
            "  6.60287629e-02 4.90261586e-01 4.54841275e-01 1.09681403e-01\n",
            "  7.37886040e-01 5.64946534e-01]\n",
            " [1.59306227e-02 7.12949223e-03 7.85597076e-03 9.91828828e-03\n",
            "  1.34245188e-03 9.96766497e-03 9.24752331e-03 2.22996766e-03\n",
            "  1.50021969e-02 1.14861085e-02]\n",
            " [7.68582235e-01 3.43966535e-01 3.79015917e-01 4.78513636e-01\n",
            "  6.47673783e-02 4.80895843e-01 4.46152186e-01 1.07586098e-01\n",
            "  7.23789788e-01 5.54154043e-01]\n",
            " [5.81908535e-02 2.60423742e-02 2.86960310e-02 3.62291965e-02\n",
            "  4.90366398e-03 3.64095581e-02 3.37790483e-02 8.14555237e-03\n",
            "  5.47995303e-02 4.19560786e-02]\n",
            " [7.35121854e-01 3.28991883e-01 3.62515383e-01 4.57681449e-01\n",
            "  6.19477175e-02 4.59959946e-01 4.26728861e-01 1.02902315e-01\n",
            "  6.92279454e-01 5.30028836e-01]\n",
            " [7.65315544e-01 3.42504580e-01 3.77404992e-01 4.76479817e-01\n",
            "  6.44920986e-02 4.78851900e-01 4.44255913e-01 1.07128826e-01\n",
            "  7.20713477e-01 5.51798732e-01]\n",
            " [7.64480150e-01 3.42130713e-01 3.76993029e-01 4.75959708e-01\n",
            "  6.44217012e-02 4.78329201e-01 4.43770978e-01 1.07011888e-01\n",
            "  7.19926770e-01 5.51196406e-01]\n",
            " [5.64976692e-03 2.52846170e-03 2.78610601e-03 3.51750325e-03\n",
            "  4.76098164e-04 3.53501460e-03 3.27961764e-03 7.90854053e-04\n",
            "  5.32050236e-03 4.07352790e-03]]\n"
          ]
        }
      ],
      "source": [
        "A = np.random.uniform(0,1,10)\n",
        "\n",
        "B = np.random.uniform(0,1,10)\n",
        "\n",
        "print(np.einsum('i->', A)) # np.sum(A)\n",
        "print(\"\\n\")\n",
        "print(np.einsum('i,i->i', A, B)) # A * B\n",
        "print(\"\\n\")\n",
        "print(np.einsum('i,i', A, B)) # np.inner(A, B)\n",
        "print(\"\\n\")\n",
        "print(np.einsum('i,j', A, B)) # np.outer(A, B)"
      ]
    },
    {
      "cell_type": "markdown",
      "metadata": {
        "id": "nb0zMLLhDnt6"
      },
      "source": [
        "#### 98. Considering a path described by two vectors (X,Y), how to sample it using equidistant samples (★★★)? \n",
        "(**hint**: np.cumsum, np.interp)"
      ]
    },
    {
      "cell_type": "code",
      "execution_count": null,
      "metadata": {
        "collapsed": true,
        "id": "pXvgHJKwDnt6"
      },
      "outputs": [],
      "source": [
        "phi = np.arange(0, 10*np.pi, 0.1)\n",
        "\n",
        "a = 1\n",
        "\n",
        "x = a*phi*np.cos(phi)\n",
        "\n",
        "y = a*phi*np.sin(phi)\n",
        "\n",
        "dr = (np.diff(x)**2 + np.diff(y)**2)**.5 # segment lengths\n",
        "\n",
        "r = np.zeros_like(x)\n",
        "\n",
        "r[1:] = np.cumsum(dr) # integrate path\n",
        "\n",
        "r_int = np.linspace(0, r.max(), 200) # regular spaced path\n",
        "\n",
        "\n",
        "x_int = np.interp(r_int, r, x) # integrate path\n",
        "\n",
        "y_int = np.interp(r_int, r, y)"
      ]
    },
    {
      "cell_type": "markdown",
      "metadata": {
        "id": "nEA1_GTfDnt6"
      },
      "source": [
        "#### 99. Given an integer n and a 2D array X, select from X the rows which can be interpreted as draws from a multinomial distribution with n degrees, i.e., the rows which only contain integers and which sum to n. (★★★) \n",
        "(**hint**: np.logical\\_and.reduce, np.mod)"
      ]
    },
    {
      "cell_type": "code",
      "execution_count": 25,
      "metadata": {
        "id": "Gdomvm8ADnt7",
        "colab": {
          "base_uri": "https://localhost:8080/"
        },
        "outputId": "d35bc089-e373-4b51-b2a4-eeda9356ba83"
      },
      "outputs": [
        {
          "output_type": "stream",
          "name": "stdout",
          "text": [
            "[[2. 0. 1. 1.]]\n"
          ]
        }
      ],
      "source": [
        "X = np.asarray([[1.0, 0.0, 3.0, 8.0],\n",
        "\n",
        "[2.0, 0.0, 1.0, 1.0],\n",
        "\n",
        "[1.5, 2.5, 1.0, 0.0]])\n",
        "\n",
        "n = 4\n",
        "\n",
        "M = np.logical_and.reduce(np.mod(X, 1) == 0, axis=-1)\n",
        "\n",
        "M &= (X.sum(axis=-1) == n)\n",
        "\n",
        "print(X[M])\n",
        "\n"
      ]
    },
    {
      "cell_type": "markdown",
      "metadata": {
        "id": "kmz8dHEzDnt7"
      },
      "source": [
        "#### 100. Compute bootstrapped 95% confidence intervals for the mean of a 1D array X (i.e., resample the elements of an array with replacement N times, compute the mean of each sample, and then compute percentiles over the means). (★★★) \n",
        "(**hint**: np.percentile)"
      ]
    },
    {
      "cell_type": "code",
      "execution_count": 26,
      "metadata": {
        "id": "-5pPudayDnt7",
        "colab": {
          "base_uri": "https://localhost:8080/"
        },
        "outputId": "93f155c9-55f6-4176-c79c-3e1f2d40df77"
      },
      "outputs": [
        {
          "output_type": "stream",
          "name": "stdout",
          "text": [
            "[-0.11865299  0.22616333]\n"
          ]
        }
      ],
      "source": [
        "X = np.random.randn(100) \n",
        "\n",
        "N = 1000 \n",
        "\n",
        "idx = np.random.randint(0, X.size, (N, X.size))\n",
        "\n",
        "means = X[idx].mean(axis=1)\n",
        "\n",
        "confint = np.percentile(means, [2.5, 97.5])\n",
        "\n",
        "print(confint)"
      ]
    }
  ],
  "metadata": {
    "kernelspec": {
      "display_name": "Python 3",
      "language": "python",
      "name": "python3"
    },
    "language_info": {
      "codemirror_mode": {
        "name": "ipython",
        "version": 3
      },
      "file_extension": ".py",
      "mimetype": "text/x-python",
      "name": "python",
      "nbconvert_exporter": "python",
      "pygments_lexer": "ipython3",
      "version": "3.8.3"
    },
    "colab": {
      "name": "Task_02_Numpy Exercises_Nithilaselvan_D18_DataScienceTask.ipynb",
      "provenance": [],
      "collapsed_sections": [
        "oMCHgw1KDntj",
        "ZxQ8m5KKDntj",
        "LNiGqo4YDntk",
        "nrsPSeLkDntk",
        "baqvK5l3Dntk",
        "SJy4TX0SDntl",
        "DJdTwbGODntl",
        "v-SQZMxhDntm",
        "baFJczVFDntm",
        "rqjkcMIrDntm",
        "tTj7bOGuDntn",
        "QlxcaqHODntn",
        "QMIjhV6oDnto",
        "Cv5_gzsQDnto",
        "_L8dbn4NDntp",
        "JLhYRMsGDntp",
        "dL4ZrNpbDntp",
        "2YTJwUfnDntq",
        "7qcZYniJDntq",
        "No8sgYG8Dntq",
        "JPAehBIKDntr",
        "exIN7V_XDntt",
        "Rp1-uZAWDntu",
        "iCgu8qD2Dntu",
        "g-GpUXFBDnty",
        "5AjLZLSuDnty",
        "-6bw_5Z9Dntz",
        "HPmE2sUUDnt0",
        "NU64sAfRDnt1",
        "qxxwga3wDnt1",
        "3oA-AJWSDnt2",
        "UrbDzvxeDnt2",
        "ArlXWFZlDnt5",
        "4VDE-oL2Dnt6",
        "DN1HsbC1Dnt6",
        "PsZ8xBrbDnt6",
        "nb0zMLLhDnt6",
        "nEA1_GTfDnt6",
        "kmz8dHEzDnt7"
      ],
      "include_colab_link": true
    }
  },
  "nbformat": 4,
  "nbformat_minor": 0
}